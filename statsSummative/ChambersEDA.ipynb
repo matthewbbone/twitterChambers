{
 "cells": [
  {
   "cell_type": "code",
   "execution_count": 6,
   "metadata": {},
   "outputs": [],
   "source": [
    "import pandas as pd\n",
    "import numpy as np\n",
    "import random as rnd\n",
    "import matplotlib.pyplot as plt\n",
    "from dateutil import parser\n",
    "from dateutil.relativedelta import relativedelta, FR\n",
    "import json\n",
    "import datetime as dt\n",
    "from collections import Counter\n",
    "import TweetExtraction as te\n",
    "import DataProcessing as dp\n",
    "import plotly.express as px\n",
    "\n",
    "TIMEUNIT = 'month'\n",
    "START = dt.date(2017, 9, 21)\n",
    "END = dt.date(2019, 1, 7)\n",
    "\n",
    "chunk_files = [\n",
    "    './data/id_chunk0.jsonl', \n",
    "    './data/id_chunk1.jsonl', \n",
    "    './data/id_chunk2.jsonl', \n",
    "    './data/id_chunk3.jsonl', \n",
    "    './data/id_chunk4.jsonl',\n",
    "    './data/id_chunk_comp0.jsonl',\n",
    "    './data/id_chunk_comp1.jsonl',\n",
    "    './data/id_chunk_comp2.jsonl',\n",
    "    './data/id_chunk_comp3.jsonl',\n",
    "    './data/id_chunk_comp4.jsonl',\n",
    "    './data/id_chunk_comp5.jsonl',\n",
    "    './data/id_chunk_comp6.jsonl',\n",
    "    './data/id_chunk_comp7.jsonl',\n",
    "    './data/id_chunk_comp8.jsonl',\n",
    "    './data/id_chunk_comp9.jsonl'\n",
    "]\n"
   ]
  },
  {
   "cell_type": "code",
   "execution_count": 7,
   "metadata": {},
   "outputs": [],
   "source": [
    "# te.get_retweet_network(chunk_files).to_pickle('./data/retweetsCumulativeChunk.pkl')"
   ]
  },
  {
   "cell_type": "markdown",
   "metadata": {},
   "source": [
    "## Loading Data"
   ]
  },
  {
   "cell_type": "code",
   "execution_count": 8,
   "metadata": {},
   "outputs": [],
   "source": [
    "# retweet_df = dp.merge_preprocess_climate_tweets(\n",
    "#     './data/climateTweets.csv',\n",
    "#     './data/retweetsCumulativeChunk.pkl',\n",
    "#     start = START,\n",
    "#     end = END\n",
    "# )"
   ]
  },
  {
   "cell_type": "code",
   "execution_count": 9,
   "metadata": {},
   "outputs": [],
   "source": [
    "# retweet_df.to_pickle('./data/temp_retweets.pkl')"
   ]
  },
  {
   "cell_type": "code",
   "execution_count": 10,
   "metadata": {},
   "outputs": [],
   "source": [
    "retweet_df = pd.read_pickle('./data/temp_retweets.pkl')"
   ]
  },
  {
   "cell_type": "code",
   "execution_count": 11,
   "metadata": {},
   "outputs": [
    {
     "name": "stdout",
     "output_type": "stream",
     "text": [
      "There are 4440462 observations in the retweet sample\n"
     ]
    }
   ],
   "source": [
    "print(f\"There are {len(retweet_df)} observations in the retweet sample\")"
   ]
  },
  {
   "cell_type": "code",
   "execution_count": 12,
   "metadata": {},
   "outputs": [
    {
     "data": {
      "text/html": [
       "<div>\n",
       "<style scoped>\n",
       "    .dataframe tbody tr th:only-of-type {\n",
       "        vertical-align: middle;\n",
       "    }\n",
       "\n",
       "    .dataframe tbody tr th {\n",
       "        vertical-align: top;\n",
       "    }\n",
       "\n",
       "    .dataframe thead th {\n",
       "        text-align: right;\n",
       "    }\n",
       "</style>\n",
       "<table border=\"1\" class=\"dataframe\">\n",
       "  <thead>\n",
       "    <tr style=\"text-align: right;\">\n",
       "      <th></th>\n",
       "      <th>id</th>\n",
       "      <th>text</th>\n",
       "      <th>influencer</th>\n",
       "      <th>author_id</th>\n",
       "      <th>author_name</th>\n",
       "      <th>author_followers</th>\n",
       "      <th>infl_id</th>\n",
       "      <th>infl_followers</th>\n",
       "      <th>infl_verified</th>\n",
       "      <th>infl_freq</th>\n",
       "      <th>topic</th>\n",
       "      <th>sentiment</th>\n",
       "      <th>denier</th>\n",
       "      <th>male</th>\n",
       "      <th>aggressive</th>\n",
       "      <th>date</th>\n",
       "      <th>week</th>\n",
       "      <th>month</th>\n",
       "    </tr>\n",
       "  </thead>\n",
       "  <tbody>\n",
       "    <tr>\n",
       "      <th>0</th>\n",
       "      <td>939997782416375809</td>\n",
       "      <td>RT @Salon: Bringing women together to fight cl...</td>\n",
       "      <td>Salon</td>\n",
       "      <td>87937530</td>\n",
       "      <td>DraIsabel</td>\n",
       "      <td>8547</td>\n",
       "      <td>16955991</td>\n",
       "      <td>947935</td>\n",
       "      <td>0</td>\n",
       "      <td>74.065067</td>\n",
       "      <td>Intervention</td>\n",
       "      <td>0.388193</td>\n",
       "      <td>0</td>\n",
       "      <td>1</td>\n",
       "      <td>1</td>\n",
       "      <td>2017-12-10</td>\n",
       "      <td>2017-12-10</td>\n",
       "      <td>2017-12-01</td>\n",
       "    </tr>\n",
       "    <tr>\n",
       "      <th>1</th>\n",
       "      <td>1054397681781628929</td>\n",
       "      <td>RT @UNmigration: How #climatechange affects mi...</td>\n",
       "      <td>UNmigration</td>\n",
       "      <td>781209744715513900</td>\n",
       "      <td>Speak535</td>\n",
       "      <td>1029</td>\n",
       "      <td>85469815</td>\n",
       "      <td>210890</td>\n",
       "      <td>0</td>\n",
       "      <td>10.917454</td>\n",
       "      <td>Undefined</td>\n",
       "      <td>0.083142</td>\n",
       "      <td>0</td>\n",
       "      <td>1</td>\n",
       "      <td>0</td>\n",
       "      <td>2018-10-22</td>\n",
       "      <td>2018-10-28</td>\n",
       "      <td>2018-10-01</td>\n",
       "    </tr>\n",
       "    <tr>\n",
       "      <th>2</th>\n",
       "      <td>1012588369300209668</td>\n",
       "      <td>RT @GreenAwakening: global warming—if emission...</td>\n",
       "      <td>GreenAwakening</td>\n",
       "      <td>562243642</td>\n",
       "      <td>sjandrews76</td>\n",
       "      <td>4316</td>\n",
       "      <td>37489889</td>\n",
       "      <td>16921</td>\n",
       "      <td>0</td>\n",
       "      <td>6.393423</td>\n",
       "      <td>Emissions</td>\n",
       "      <td>0.279357</td>\n",
       "      <td>0</td>\n",
       "      <td>0</td>\n",
       "      <td>0</td>\n",
       "      <td>2018-06-29</td>\n",
       "      <td>2018-07-01</td>\n",
       "      <td>2018-06-01</td>\n",
       "    </tr>\n",
       "    <tr>\n",
       "      <th>4</th>\n",
       "      <td>1054103861173067777</td>\n",
       "      <td>RT @amxrino: The UN confirmed that we only hav...</td>\n",
       "      <td>amxrino</td>\n",
       "      <td>717417065989148700</td>\n",
       "      <td>incognit0m0de</td>\n",
       "      <td>799</td>\n",
       "      <td>2349400319</td>\n",
       "      <td>876</td>\n",
       "      <td>0</td>\n",
       "      <td>4.470141</td>\n",
       "      <td>Awareness</td>\n",
       "      <td>0.218950</td>\n",
       "      <td>0</td>\n",
       "      <td>0</td>\n",
       "      <td>0</td>\n",
       "      <td>2018-10-21</td>\n",
       "      <td>2018-10-21</td>\n",
       "      <td>2018-10-01</td>\n",
       "    </tr>\n",
       "    <tr>\n",
       "      <th>5</th>\n",
       "      <td>949312773393145858</td>\n",
       "      <td>RT @FranFerrante: Su @sciencemagazine si spieg...</td>\n",
       "      <td>FranFerrante</td>\n",
       "      <td>729981130007531500</td>\n",
       "      <td>StefaniaVentu16</td>\n",
       "      <td>1669</td>\n",
       "      <td>419316234</td>\n",
       "      <td>14207</td>\n",
       "      <td>0</td>\n",
       "      <td>25.217800</td>\n",
       "      <td>Consumption</td>\n",
       "      <td>0.051531</td>\n",
       "      <td>0</td>\n",
       "      <td>0</td>\n",
       "      <td>0</td>\n",
       "      <td>2018-01-05</td>\n",
       "      <td>2018-01-07</td>\n",
       "      <td>2018-01-01</td>\n",
       "    </tr>\n",
       "  </tbody>\n",
       "</table>\n",
       "</div>"
      ],
      "text/plain": [
       "                    id                                               text  \\\n",
       "0   939997782416375809  RT @Salon: Bringing women together to fight cl...   \n",
       "1  1054397681781628929  RT @UNmigration: How #climatechange affects mi...   \n",
       "2  1012588369300209668  RT @GreenAwakening: global warming—if emission...   \n",
       "4  1054103861173067777  RT @amxrino: The UN confirmed that we only hav...   \n",
       "5   949312773393145858  RT @FranFerrante: Su @sciencemagazine si spieg...   \n",
       "\n",
       "       influencer           author_id      author_name  author_followers  \\\n",
       "0           Salon            87937530        DraIsabel              8547   \n",
       "1     UNmigration  781209744715513900         Speak535              1029   \n",
       "2  GreenAwakening           562243642      sjandrews76              4316   \n",
       "4         amxrino  717417065989148700    incognit0m0de               799   \n",
       "5    FranFerrante  729981130007531500  StefaniaVentu16              1669   \n",
       "\n",
       "      infl_id  infl_followers  infl_verified  infl_freq         topic  \\\n",
       "0    16955991          947935              0  74.065067  Intervention   \n",
       "1    85469815          210890              0  10.917454     Undefined   \n",
       "2    37489889           16921              0   6.393423     Emissions   \n",
       "4  2349400319             876              0   4.470141     Awareness   \n",
       "5   419316234           14207              0  25.217800   Consumption   \n",
       "\n",
       "   sentiment  denier  male  aggressive        date        week       month  \n",
       "0   0.388193       0     1           1  2017-12-10  2017-12-10  2017-12-01  \n",
       "1   0.083142       0     1           0  2018-10-22  2018-10-28  2018-10-01  \n",
       "2   0.279357       0     0           0  2018-06-29  2018-07-01  2018-06-01  \n",
       "4   0.218950       0     0           0  2018-10-21  2018-10-21  2018-10-01  \n",
       "5   0.051531       0     0           0  2018-01-05  2018-01-07  2018-01-01  "
      ]
     },
     "execution_count": 12,
     "metadata": {},
     "output_type": "execute_result"
    }
   ],
   "source": [
    "retweet_df.head()"
   ]
  },
  {
   "cell_type": "markdown",
   "metadata": {},
   "source": [
    "### Exploratory Data Analysis on Retweets"
   ]
  },
  {
   "cell_type": "code",
   "execution_count": 13,
   "metadata": {},
   "outputs": [
    {
     "data": {
      "image/png": "[encoded data removed]",
      "text/plain": [
       "<Figure size 640x480 with 1 Axes>"
      ]
     },
     "metadata": {},
     "output_type": "display_data"
    }
   ],
   "source": [
    "vc = retweet_df['month'].value_counts().sort_index()\n",
    "months = [str(month)[0:-3] for month in vc.index]\n",
    "plt.bar(months, vc.values)\n",
    "plt.title('monthly retweets')\n",
    "plt.xticks(rotation=30)\n",
    "plt.show()"
   ]
  },
  {
   "cell_type": "code",
   "execution_count": 14,
   "metadata": {},
   "outputs": [
    {
     "data": {
      "image/png": "[encoded data removed]",
      "text/plain": [
       "<Figure size 640x480 with 1 Axes>"
      ]
     },
     "metadata": {},
     "output_type": "display_data"
    }
   ],
   "source": [
    "vc = retweet_df['week'].value_counts().sort_index()\n",
    "weeks = [str(week) for week in vc.index]\n",
    "plt.bar(weeks, vc.values)\n",
    "plt.title('weekly retweets')\n",
    "plt.xticks(ticks=[])\n",
    "plt.show()"
   ]
  },
  {
   "cell_type": "markdown",
   "metadata": {},
   "source": [
    "## Getting Leading Users"
   ]
  },
  {
   "cell_type": "code",
   "execution_count": 16,
   "metadata": {},
   "outputs": [],
   "source": [
    "_, leading_users = dp.get_leading_users(retweet_df, TIMEUNIT, 25, 25)\n",
    "leading_df = dp.get_only_leading_user_retweets(retweet_df, leading_users, TIMEUNIT, 0)"
   ]
  },
  {
   "cell_type": "code",
   "execution_count": 17,
   "metadata": {},
   "outputs": [
    {
     "name": "stdout",
     "output_type": "stream",
     "text": [
      "Avg. Percent of Time Periods a Leading User Persists In: 91%\n"
     ]
    }
   ],
   "source": [
    "leading_per_month = len(leading_df[['influencer', TIMEUNIT]].drop_duplicates())\n",
    "expected_leading_per_month = len(leading_df['influencer'].unique()) * len(leading_df[TIMEUNIT].unique())\n",
    "print(f\"Avg. Percent of Time Periods a Leading User Persists In: {(leading_per_month / expected_leading_per_month):.0%}\")"
   ]
  },
  {
   "cell_type": "code",
   "execution_count": null,
   "metadata": {},
   "outputs": [
    {
     "name": "stdout",
     "output_type": "stream",
     "text": [
      "641257 (14%) of the retweets are retweeting the leading users (N=50)\n",
      "Leading users represent 0.06% of retweeted individuals total\n"
     ]
    }
   ],
   "source": [
    "print(f\"{len(leading_df)} ({(len(leading_df) / len(retweet_df)):.0%}) of the retweets are retweeting the leading users (N=25)\")\n",
    "print(f\"Leading users represent {(100 / len(retweet_df['influencer'].unique())):.2%} of retweeted individuals total\")"
   ]
  },
  {
   "cell_type": "code",
   "execution_count": 19,
   "metadata": {},
   "outputs": [
    {
     "data": {
      "image/png": "[encoded data removed]",
      "text/plain": [
       "<Figure size 500x800 with 1 Axes>"
      ]
     },
     "metadata": {},
     "output_type": "display_data"
    }
   ],
   "source": [
    "# leading users with smallest audience (this displays retweet count)\n",
    "vc = leading_df.value_counts('influencer')\n",
    "\n",
    "plt.figure(figsize=(5,8))\n",
    "plt.barh(vc.index, vc.values)\n",
    "plt.title('leading users retweets')\n",
    "plt.yticks(fontsize=8)\n",
    "plt.grid(axis='x')\n",
    "plt.tick_params(top=True, labeltop=True)\n",
    "plt.show()"
   ]
  },
  {
   "cell_type": "markdown",
   "metadata": {},
   "source": [
    "## Getting Influencer and Audience Summary Data"
   ]
  },
  {
   "cell_type": "code",
   "execution_count": 20,
   "metadata": {},
   "outputs": [
    {
     "name": "stdout",
     "output_type": "stream",
     "text": [
      "We will be working with 641257 retweets from the audience of the 25 leading users\n",
      "Time Period for analysis is 2017-09-21 to 2019-01-07 in 17 months\n",
      "There will be 388 rows in the final dataset\n"
     ]
    },
    {
     "data": {
      "text/html": [
       "<div>\n",
       "<style scoped>\n",
       "    .dataframe tbody tr th:only-of-type {\n",
       "        vertical-align: middle;\n",
       "    }\n",
       "\n",
       "    .dataframe tbody tr th {\n",
       "        vertical-align: top;\n",
       "    }\n",
       "\n",
       "    .dataframe thead th {\n",
       "        text-align: right;\n",
       "    }\n",
       "</style>\n",
       "<table border=\"1\" class=\"dataframe\">\n",
       "  <thead>\n",
       "    <tr style=\"text-align: right;\">\n",
       "      <th></th>\n",
       "      <th>influencer</th>\n",
       "      <th>month</th>\n",
       "      <th>capture</th>\n",
       "      <th>denier</th>\n",
       "      <th>sentiment</th>\n",
       "      <th>male</th>\n",
       "      <th>aggressive</th>\n",
       "      <th>audience_followers</th>\n",
       "      <th>followers</th>\n",
       "      <th>verified</th>\n",
       "      <th>tweet_freq</th>\n",
       "    </tr>\n",
       "  </thead>\n",
       "  <tbody>\n",
       "    <tr>\n",
       "      <th>0</th>\n",
       "      <td>CNN</td>\n",
       "      <td>2017-09-01</td>\n",
       "      <td>0.304192</td>\n",
       "      <td>0.0</td>\n",
       "      <td>-0.159637</td>\n",
       "      <td>0.532137</td>\n",
       "      <td>0.778421</td>\n",
       "      <td>2599.422312</td>\n",
       "      <td>6.060578e+07</td>\n",
       "      <td>0.0</td>\n",
       "      <td>100.720569</td>\n",
       "    </tr>\n",
       "    <tr>\n",
       "      <th>1</th>\n",
       "      <td>CarolineLucas</td>\n",
       "      <td>2017-09-01</td>\n",
       "      <td>0.000294</td>\n",
       "      <td>0.0</td>\n",
       "      <td>-0.533246</td>\n",
       "      <td>0.600000</td>\n",
       "      <td>0.000000</td>\n",
       "      <td>4840.400000</td>\n",
       "      <td>6.079236e+05</td>\n",
       "      <td>0.0</td>\n",
       "      <td>10.756467</td>\n",
       "    </tr>\n",
       "    <tr>\n",
       "      <th>2</th>\n",
       "      <td>ClimateReality</td>\n",
       "      <td>2017-09-01</td>\n",
       "      <td>0.167332</td>\n",
       "      <td>0.0</td>\n",
       "      <td>-0.145748</td>\n",
       "      <td>0.585263</td>\n",
       "      <td>0.187018</td>\n",
       "      <td>4552.455439</td>\n",
       "      <td>6.302770e+05</td>\n",
       "      <td>0.0</td>\n",
       "      <td>26.273771</td>\n",
       "    </tr>\n",
       "    <tr>\n",
       "      <th>3</th>\n",
       "      <td>EricHolthaus</td>\n",
       "      <td>2017-09-01</td>\n",
       "      <td>0.040629</td>\n",
       "      <td>0.0</td>\n",
       "      <td>0.155329</td>\n",
       "      <td>0.589595</td>\n",
       "      <td>0.000000</td>\n",
       "      <td>8709.317919</td>\n",
       "      <td>4.939874e+05</td>\n",
       "      <td>0.0</td>\n",
       "      <td>38.587454</td>\n",
       "    </tr>\n",
       "    <tr>\n",
       "      <th>4</th>\n",
       "      <td>GCCThinkActTank</td>\n",
       "      <td>2017-09-01</td>\n",
       "      <td>0.002525</td>\n",
       "      <td>0.0</td>\n",
       "      <td>0.092905</td>\n",
       "      <td>0.255814</td>\n",
       "      <td>0.069767</td>\n",
       "      <td>243580.279070</td>\n",
       "      <td>4.404674e+04</td>\n",
       "      <td>0.0</td>\n",
       "      <td>254.678353</td>\n",
       "    </tr>\n",
       "  </tbody>\n",
       "</table>\n",
       "</div>"
      ],
      "text/plain": [
       "        influencer       month   capture  denier  sentiment      male  \\\n",
       "0              CNN  2017-09-01  0.304192     0.0  -0.159637  0.532137   \n",
       "1    CarolineLucas  2017-09-01  0.000294     0.0  -0.533246  0.600000   \n",
       "2   ClimateReality  2017-09-01  0.167332     0.0  -0.145748  0.585263   \n",
       "3     EricHolthaus  2017-09-01  0.040629     0.0   0.155329  0.589595   \n",
       "4  GCCThinkActTank  2017-09-01  0.002525     0.0   0.092905  0.255814   \n",
       "\n",
       "   aggressive  audience_followers     followers  verified  tweet_freq  \n",
       "0    0.778421         2599.422312  6.060578e+07       0.0  100.720569  \n",
       "1    0.000000         4840.400000  6.079236e+05       0.0   10.756467  \n",
       "2    0.187018         4552.455439  6.302770e+05       0.0   26.273771  \n",
       "3    0.000000         8709.317919  4.939874e+05       0.0   38.587454  \n",
       "4    0.069767       243580.279070  4.404674e+04       0.0  254.678353  "
      ]
     },
     "execution_count": 20,
     "metadata": {},
     "output_type": "execute_result"
    }
   ],
   "source": [
    "leading_summary_df = dp.summarize_tweet_data(leading_df, TIMEUNIT)\n",
    "\n",
    "print(f\"We will be working with {len(leading_df)} retweets from the audience of the {len(leading_df['influencer'].unique())} leading users\")\n",
    "print(f\"Time Period for analysis is {leading_df['date'].min()} to {leading_df['date'].max()} in {len(leading_df[TIMEUNIT].unique())} {TIMEUNIT}s\")\n",
    "print(f\"There will be {len(leading_summary_df)} rows in the final dataset\")\n",
    "\n",
    "leading_summary_df.head()"
   ]
  },
  {
   "cell_type": "markdown",
   "metadata": {},
   "source": [
    "## Getting Audience and Echoer Data"
   ]
  },
  {
   "cell_type": "code",
   "execution_count": 21,
   "metadata": {},
   "outputs": [],
   "source": [
    "audience_dict = dp.get_audience_dict(leading_df, TIMEUNIT)\n",
    "echoer_dict = dp.get_echoer_dict(retweet_df, audience_dict, TIMEUNIT)\n",
    "\n",
    "te.get_tweets(chunk_files, audience_dict).to_pickle('./data/audience.pkl')\n",
    "te.get_tweets(chunk_files, echoer_dict).to_pickle('./data/echoer.pkl')"
   ]
  },
  {
   "cell_type": "code",
   "execution_count": 22,
   "metadata": {},
   "outputs": [],
   "source": [
    "audience_df = dp.merge_preprocess_climate_tweets(\n",
    "    './data/climateTweets.csv',\n",
    "    './data/audience.pkl',\n",
    "    start = START,\n",
    "    end = END,\n",
    "    retweets=False\n",
    ")\n",
    "\n",
    "echoer_df = dp.merge_preprocess_climate_tweets(\n",
    "    './data/climateTweets.csv',\n",
    "    './data/echoer.pkl',\n",
    "    start = START,\n",
    "    end = END,\n",
    "    retweets=False\n",
    ")"
   ]
  },
  {
   "cell_type": "code",
   "execution_count": 23,
   "metadata": {},
   "outputs": [],
   "source": [
    "final_df = dp.merge_audience_echoer(audience_df, echoer_df, leading_df, retweet_df, TIMEUNIT)"
   ]
  },
  {
   "attachments": {},
   "cell_type": "markdown",
   "metadata": {},
   "source": [
    "## Verify Match with Kolic"
   ]
  },
  {
   "cell_type": "code",
   "execution_count": 24,
   "metadata": {},
   "outputs": [],
   "source": [
    "audience = {}\n",
    "for i in leading_df['influencer'].unique():\n",
    "    audience[i] = sorted(set(leading_df[leading_df['influencer'] == i]['author_name']))"
   ]
  },
  {
   "cell_type": "code",
   "execution_count": 25,
   "metadata": {},
   "outputs": [],
   "source": [
    "with open('kolic_audiences.json', 'r') as f:\n",
    "    kolic_aud = json.loads(f.read())\n",
    "\n",
    "with open('kolic_echoers.json', 'r') as f:\n",
    "    kolic_chamb = json.loads(f.read())"
   ]
  },
  {
   "attachments": {},
   "cell_type": "markdown",
   "metadata": {},
   "source": [
    "### Leading Users"
   ]
  },
  {
   "cell_type": "code",
   "execution_count": 26,
   "metadata": {},
   "outputs": [
    {
     "name": "stdout",
     "output_type": "stream",
     "text": [
      "Differences in Leading Users\n",
      "Kolic: {'Bill_Nye_Tho', 'ClimateCentral', 'TIME', 'antonioguterres', 'SafetyPinDaily', 'MichaelEMann', 'LeeCamp', 'ajplus', 'CarbonBrief', 'NatGeo', 'FAOKnowledge', 'tveitdal', 'washingtonpost', 'PrisonPlanet', 'citizensclimate', 'NBCNews', 'cathmckenna', 'UNEP', 'EnergyInDepth', 'sciam', 'foe_us', 'guardianeco', 'cnni', 'UN', 'climatecouncil'}\n",
      "Mine: set()\n",
      "All of these have a tied persistance of 4\n"
     ]
    }
   ],
   "source": [
    "my_set = set(audience.keys())\n",
    "kolic_set = set(kolic_aud.keys())\n",
    "print(f\"Differences in Leading Users\")\n",
    "print(f\"Kolic: {kolic_set.difference(my_set)}\")\n",
    "print(f\"Mine: {my_set.difference(kolic_set)}\")\n",
    "print('All of these have a tied persistance of 4')"
   ]
  },
  {
   "attachments": {},
   "cell_type": "markdown",
   "metadata": {},
   "source": [
    "### Audiences"
   ]
  },
  {
   "cell_type": "code",
   "execution_count": 27,
   "metadata": {},
   "outputs": [
    {
     "name": "stdout",
     "output_type": "stream",
     "text": [
      "Passed: Each Leading User Has the same audience aggregated over all time periods\n"
     ]
    }
   ],
   "source": [
    "for leader in my_set.intersection(kolic_set):\n",
    "    assert len(set(audience[leader]).difference(set(kolic_aud[leader]))) == 0\n",
    "    assert len(set(kolic_aud[leader]).difference(set(audience[leader]))) == 0\n",
    "\n",
    "print('Passed: Each Leading User Has the same audience aggregated over all time periods')"
   ]
  },
  {
   "attachments": {},
   "cell_type": "markdown",
   "metadata": {},
   "source": [
    "### Chambers"
   ]
  },
  {
   "attachments": {},
   "cell_type": "markdown",
   "metadata": {},
   "source": [
    "Couldn't get it to match, next section I start from Kolic's audience and chamber and summarize their tweets."
   ]
  },
  {
   "cell_type": "code",
   "execution_count": 28,
   "metadata": {},
   "outputs": [],
   "source": [
    "id_to_name = {}\n",
    "name_to_id = {}\n",
    "\n",
    "for row in retweet_df[['infl_id', 'influencer']].drop_duplicates().iterrows():\n",
    "    id_to_name[row[1]['infl_id']] = row[1]['influencer']\n",
    "    name_to_id[row[1]['influencer']] = row[1]['infl_id']"
   ]
  },
  {
   "cell_type": "code",
   "execution_count": 29,
   "metadata": {},
   "outputs": [],
   "source": [
    "paul_dict = dp.get_audience_dict(leading_df[leading_df['influencer'] == 'PaulEDawson'], TIMEUNIT)\n",
    "paul_echoer_dict = dp.get_echoer_dict(retweet_df, paul_dict, 'month')\n",
    "\n",
    "cnn_dict = dp.get_audience_dict(leading_df[leading_df['influencer'] == 'CNN'], TIMEUNIT)\n",
    "cnn_echoer_dict = dp.get_echoer_dict(retweet_df, cnn_dict, 'month')\n",
    "\n",
    "time_dict = dp.get_audience_dict(leading_df[leading_df['influencer'] == 'TIME'], TIMEUNIT)\n",
    "time_echoer_dict = dp.get_echoer_dict(retweet_df, time_dict, 'month')\n",
    "\n",
    "bill_dict = dp.get_audience_dict(leading_df[leading_df['influencer'] == 'Bill_Nye_Tho'], TIMEUNIT)\n",
    "bill_echoer_dict = dp.get_echoer_dict(retweet_df, bill_dict, 'month')"
   ]
  },
  {
   "cell_type": "code",
   "execution_count": 30,
   "metadata": {},
   "outputs": [],
   "source": [
    "new_dict = {}\n",
    "for key in paul_echoer_dict.keys():\n",
    "    new_dict[id_to_name[key]] = paul_echoer_dict[key]\n",
    "paul_echoer_dict = new_dict\n",
    "\n",
    "new_dict = {}\n",
    "for key in cnn_echoer_dict.keys():\n",
    "    new_dict[id_to_name[key]] = cnn_echoer_dict[key]\n",
    "cnn_echoer_dict = new_dict\n",
    "\n",
    "new_dict = {}\n",
    "for key in time_echoer_dict.keys():\n",
    "    new_dict[id_to_name[key]] = time_echoer_dict[key]\n",
    "time_echoer_dict = new_dict\n",
    "\n",
    "new_dict = {}\n",
    "for key in bill_echoer_dict.keys():\n",
    "    new_dict[id_to_name[key]] = bill_echoer_dict[key]\n",
    "bill_echoer_dict = new_dict"
   ]
  },
  {
   "cell_type": "code",
   "execution_count": 31,
   "metadata": {},
   "outputs": [
    {
     "name": "stdout",
     "output_type": "stream",
     "text": [
      "There are 310 extra users in my PaulEDawson chamber\n",
      "There are 5 missing users in my PaulEDawson chamber\n",
      "There are 29366 matching users in my PaulEDawson chamber\n",
      "\n",
      "There are 398 extra users in my CNN chamber\n",
      "There are 0 missing users in my CNN chamber\n",
      "There are 8836 matching users in my CNN chamber\n",
      "\n",
      "There are 0 extra users in my TIME chamber\n",
      "There are 2991 missing users in my TIME chamber\n",
      "There are 0 matching users in my TIME chamber\n",
      "\n",
      "There are 0 extra users in my TIME chamber\n",
      "There are 342 missing users in my TIME chamber\n",
      "There are 0 matching users in my TIME chamber\n",
      "\n"
     ]
    }
   ],
   "source": [
    "extra = len(set(paul_echoer_dict.keys()).difference(set(kolic_chamb['PaulEDawson'])))\n",
    "defecit = len(set(kolic_chamb['PaulEDawson']).difference(set(paul_echoer_dict.keys())))\n",
    "matched = len(set(paul_echoer_dict.keys()).intersection(set(kolic_chamb['PaulEDawson'])))\n",
    "\n",
    "print(f\"There are {extra} extra users in my PaulEDawson chamber\")\n",
    "print(f\"There are {defecit} missing users in my PaulEDawson chamber\")\n",
    "print(f\"There are {matched} matching users in my PaulEDawson chamber\", end='\\n\\n')\n",
    "\n",
    "extra = len(set(cnn_echoer_dict.keys()).difference(set(kolic_chamb['CNN'])))\n",
    "defecit = len(set(kolic_chamb['CNN']).difference(set(cnn_echoer_dict.keys())))\n",
    "matched = len(set(cnn_echoer_dict.keys()).intersection(set(kolic_chamb['CNN'])))\n",
    "\n",
    "print(f\"There are {extra} extra users in my CNN chamber\")\n",
    "print(f\"There are {defecit} missing users in my CNN chamber\")\n",
    "print(f\"There are {matched} matching users in my CNN chamber\", end='\\n\\n')\n",
    "\n",
    "extra = len(set(time_echoer_dict.keys()).difference(set(kolic_chamb['TIME'])))\n",
    "defecit = len(set(kolic_chamb['TIME']).difference(set(time_echoer_dict.keys())))\n",
    "matched = len(set(time_echoer_dict.keys()).intersection(set(kolic_chamb['TIME'])))\n",
    "\n",
    "print(f\"There are {extra} extra users in my TIME chamber\")\n",
    "print(f\"There are {defecit} missing users in my TIME chamber\")\n",
    "print(f\"There are {matched} matching users in my TIME chamber\", end='\\n\\n')\n",
    "\n",
    "extra = len(set(bill_echoer_dict.keys()).difference(set(kolic_chamb['Bill_Nye_Tho'])))\n",
    "defecit = len(set(kolic_chamb['Bill_Nye_Tho']).difference(set(bill_echoer_dict.keys())))\n",
    "matched = len(set(bill_echoer_dict.keys()).intersection(set(kolic_chamb['Bill_Nye_Tho'])))\n",
    "\n",
    "print(f\"There are {extra} extra users in my TIME chamber\")\n",
    "print(f\"There are {defecit} missing users in my TIME chamber\")\n",
    "print(f\"There are {matched} matching users in my TIME chamber\", end='\\n\\n')\n"
   ]
  },
  {
   "attachments": {},
   "cell_type": "markdown",
   "metadata": {},
   "source": [
    "My chamber seems to be, for the most part, a superset of Kolic's chambers. Therefore, I filter out echoer_dict to match Kolic's chambers more closely."
   ]
  },
  {
   "cell_type": "code",
   "execution_count": 32,
   "metadata": {},
   "outputs": [],
   "source": [
    "kolic_echoers = np.concatenate(list(kolic_chamb.values()))"
   ]
  },
  {
   "cell_type": "code",
   "execution_count": 33,
   "metadata": {},
   "outputs": [],
   "source": [
    "new_echoer_dict = {}\n",
    "\n",
    "for key in echoer_dict.keys():\n",
    "    if id_to_name[key] in kolic_echoers: new_echoer_dict[key] = echoer_dict[key]"
   ]
  },
  {
   "cell_type": "code",
   "execution_count": 34,
   "metadata": {},
   "outputs": [],
   "source": [
    "te.get_tweets(chunk_files, new_echoer_dict).to_pickle('./data/new_echoer.pkl')"
   ]
  },
  {
   "cell_type": "code",
   "execution_count": 35,
   "metadata": {},
   "outputs": [],
   "source": [
    "new_echoer_df = dp.merge_preprocess_climate_tweets(\n",
    "    './data/climateTweets.csv',\n",
    "    './data/new_echoer.pkl',\n",
    "    start = START,\n",
    "    end = END,\n",
    "    retweets=False\n",
    ")"
   ]
  },
  {
   "cell_type": "code",
   "execution_count": 36,
   "metadata": {},
   "outputs": [],
   "source": [
    "final_df = dp.merge_audience_echoer(audience_df, new_echoer_df, leading_df, retweet_df, TIMEUNIT)"
   ]
  },
  {
   "cell_type": "code",
   "execution_count": 37,
   "metadata": {},
   "outputs": [
    {
     "data": {
      "text/html": [
       "<div>\n",
       "<style scoped>\n",
       "    .dataframe tbody tr th:only-of-type {\n",
       "        vertical-align: middle;\n",
       "    }\n",
       "\n",
       "    .dataframe tbody tr th {\n",
       "        vertical-align: top;\n",
       "    }\n",
       "\n",
       "    .dataframe thead th {\n",
       "        text-align: right;\n",
       "    }\n",
       "</style>\n",
       "<table border=\"1\" class=\"dataframe\">\n",
       "  <thead>\n",
       "    <tr style=\"text-align: right;\">\n",
       "      <th></th>\n",
       "      <th>influencer</th>\n",
       "      <th>month</th>\n",
       "      <th>capture_audience</th>\n",
       "      <th>denier_audience</th>\n",
       "      <th>sentiment_audience</th>\n",
       "      <th>male_audience</th>\n",
       "      <th>aggressive_audience</th>\n",
       "      <th>followers_audience</th>\n",
       "      <th>verified_audience</th>\n",
       "      <th>freq_audience</th>\n",
       "      <th>capture_echoer</th>\n",
       "      <th>denier_echoer</th>\n",
       "      <th>sentiment_echoer</th>\n",
       "      <th>male_echoer</th>\n",
       "      <th>aggressive_echoer</th>\n",
       "      <th>followers_echoer</th>\n",
       "      <th>verified_echoer</th>\n",
       "      <th>freq_echoer</th>\n",
       "    </tr>\n",
       "  </thead>\n",
       "  <tbody>\n",
       "    <tr>\n",
       "      <th>0</th>\n",
       "      <td>CNN</td>\n",
       "      <td>2017-09-01</td>\n",
       "      <td>0.000311</td>\n",
       "      <td>0.081710</td>\n",
       "      <td>-0.098692</td>\n",
       "      <td>0.590604</td>\n",
       "      <td>0.421624</td>\n",
       "      <td>8715.676624</td>\n",
       "      <td>0.0</td>\n",
       "      <td>35.028237</td>\n",
       "      <td>0.000527</td>\n",
       "      <td>0.006478</td>\n",
       "      <td>-0.049295</td>\n",
       "      <td>0.794321</td>\n",
       "      <td>0.631725</td>\n",
       "      <td>3.867654e+07</td>\n",
       "      <td>0.0</td>\n",
       "      <td>51.090283</td>\n",
       "    </tr>\n",
       "    <tr>\n",
       "      <th>1</th>\n",
       "      <td>CarolineLucas</td>\n",
       "      <td>2017-09-01</td>\n",
       "      <td>0.001175</td>\n",
       "      <td>0.071429</td>\n",
       "      <td>0.246380</td>\n",
       "      <td>0.500000</td>\n",
       "      <td>0.071429</td>\n",
       "      <td>8255.785714</td>\n",
       "      <td>0.0</td>\n",
       "      <td>45.665955</td>\n",
       "      <td>0.000303</td>\n",
       "      <td>0.025463</td>\n",
       "      <td>0.219833</td>\n",
       "      <td>0.625000</td>\n",
       "      <td>0.254630</td>\n",
       "      <td>2.596688e+04</td>\n",
       "      <td>0.0</td>\n",
       "      <td>3.940489</td>\n",
       "    </tr>\n",
       "    <tr>\n",
       "      <th>2</th>\n",
       "      <td>ClimateReality</td>\n",
       "      <td>2017-09-01</td>\n",
       "      <td>0.000485</td>\n",
       "      <td>0.046034</td>\n",
       "      <td>-0.000232</td>\n",
       "      <td>0.664093</td>\n",
       "      <td>0.384247</td>\n",
       "      <td>8546.847849</td>\n",
       "      <td>0.0</td>\n",
       "      <td>26.726841</td>\n",
       "      <td>0.001878</td>\n",
       "      <td>0.007418</td>\n",
       "      <td>0.071891</td>\n",
       "      <td>0.873902</td>\n",
       "      <td>0.266671</td>\n",
       "      <td>1.737661e+06</td>\n",
       "      <td>0.0</td>\n",
       "      <td>17.395290</td>\n",
       "    </tr>\n",
       "    <tr>\n",
       "      <th>3</th>\n",
       "      <td>EricHolthaus</td>\n",
       "      <td>2017-09-01</td>\n",
       "      <td>0.000317</td>\n",
       "      <td>0.014848</td>\n",
       "      <td>0.013698</td>\n",
       "      <td>0.702381</td>\n",
       "      <td>0.351617</td>\n",
       "      <td>13578.761185</td>\n",
       "      <td>0.0</td>\n",
       "      <td>38.494177</td>\n",
       "      <td>0.000457</td>\n",
       "      <td>0.005744</td>\n",
       "      <td>-0.089890</td>\n",
       "      <td>0.879949</td>\n",
       "      <td>0.444904</td>\n",
       "      <td>9.822435e+05</td>\n",
       "      <td>0.0</td>\n",
       "      <td>19.080808</td>\n",
       "    </tr>\n",
       "    <tr>\n",
       "      <th>4</th>\n",
       "      <td>GCCThinkActTank</td>\n",
       "      <td>2017-09-01</td>\n",
       "      <td>0.084195</td>\n",
       "      <td>0.000000</td>\n",
       "      <td>-0.039097</td>\n",
       "      <td>0.000000</td>\n",
       "      <td>0.034916</td>\n",
       "      <td>186013.484171</td>\n",
       "      <td>0.0</td>\n",
       "      <td>161.499040</td>\n",
       "      <td>0.001665</td>\n",
       "      <td>0.004202</td>\n",
       "      <td>0.100709</td>\n",
       "      <td>0.928571</td>\n",
       "      <td>0.286574</td>\n",
       "      <td>1.194403e+06</td>\n",
       "      <td>0.0</td>\n",
       "      <td>39.030292</td>\n",
       "    </tr>\n",
       "    <tr>\n",
       "      <th>...</th>\n",
       "      <td>...</td>\n",
       "      <td>...</td>\n",
       "      <td>...</td>\n",
       "      <td>...</td>\n",
       "      <td>...</td>\n",
       "      <td>...</td>\n",
       "      <td>...</td>\n",
       "      <td>...</td>\n",
       "      <td>...</td>\n",
       "      <td>...</td>\n",
       "      <td>...</td>\n",
       "      <td>...</td>\n",
       "      <td>...</td>\n",
       "      <td>...</td>\n",
       "      <td>...</td>\n",
       "      <td>...</td>\n",
       "      <td>...</td>\n",
       "      <td>...</td>\n",
       "    </tr>\n",
       "    <tr>\n",
       "      <th>368</th>\n",
       "      <td>kylegriffin1</td>\n",
       "      <td>2019-01-01</td>\n",
       "      <td>0.000461</td>\n",
       "      <td>0.000000</td>\n",
       "      <td>0.011985</td>\n",
       "      <td>0.750000</td>\n",
       "      <td>0.375000</td>\n",
       "      <td>3139.625000</td>\n",
       "      <td>0.0</td>\n",
       "      <td>16.302667</td>\n",
       "      <td>0.000392</td>\n",
       "      <td>0.000000</td>\n",
       "      <td>0.000600</td>\n",
       "      <td>0.791667</td>\n",
       "      <td>0.871212</td>\n",
       "      <td>2.556917e+06</td>\n",
       "      <td>0.0</td>\n",
       "      <td>27.211194</td>\n",
       "    </tr>\n",
       "    <tr>\n",
       "      <th>369</th>\n",
       "      <td>nowthisnews</td>\n",
       "      <td>2019-01-01</td>\n",
       "      <td>0.000723</td>\n",
       "      <td>0.074618</td>\n",
       "      <td>-0.043586</td>\n",
       "      <td>0.714286</td>\n",
       "      <td>0.447406</td>\n",
       "      <td>7643.865384</td>\n",
       "      <td>0.0</td>\n",
       "      <td>35.098472</td>\n",
       "      <td>0.001239</td>\n",
       "      <td>0.003565</td>\n",
       "      <td>-0.087045</td>\n",
       "      <td>0.741526</td>\n",
       "      <td>0.584362</td>\n",
       "      <td>3.149936e+06</td>\n",
       "      <td>0.0</td>\n",
       "      <td>48.803409</td>\n",
       "    </tr>\n",
       "    <tr>\n",
       "      <th>370</th>\n",
       "      <td>nytimes</td>\n",
       "      <td>2019-01-01</td>\n",
       "      <td>0.001107</td>\n",
       "      <td>0.000000</td>\n",
       "      <td>-0.250780</td>\n",
       "      <td>1.000000</td>\n",
       "      <td>0.333333</td>\n",
       "      <td>2746.333333</td>\n",
       "      <td>0.0</td>\n",
       "      <td>31.678216</td>\n",
       "      <td>0.000539</td>\n",
       "      <td>0.000000</td>\n",
       "      <td>0.109559</td>\n",
       "      <td>0.833333</td>\n",
       "      <td>0.408333</td>\n",
       "      <td>6.795104e+04</td>\n",
       "      <td>0.0</td>\n",
       "      <td>14.111190</td>\n",
       "    </tr>\n",
       "    <tr>\n",
       "      <th>371</th>\n",
       "      <td>thehill</td>\n",
       "      <td>2019-01-01</td>\n",
       "      <td>0.001538</td>\n",
       "      <td>0.063492</td>\n",
       "      <td>-0.162775</td>\n",
       "      <td>0.666667</td>\n",
       "      <td>0.512235</td>\n",
       "      <td>13843.594522</td>\n",
       "      <td>0.0</td>\n",
       "      <td>49.806520</td>\n",
       "      <td>0.000844</td>\n",
       "      <td>0.002781</td>\n",
       "      <td>-0.050124</td>\n",
       "      <td>0.851491</td>\n",
       "      <td>0.407704</td>\n",
       "      <td>4.931715e+06</td>\n",
       "      <td>0.0</td>\n",
       "      <td>108.967126</td>\n",
       "    </tr>\n",
       "    <tr>\n",
       "      <th>372</th>\n",
       "      <td>wef</td>\n",
       "      <td>2019-01-01</td>\n",
       "      <td>0.001544</td>\n",
       "      <td>0.054545</td>\n",
       "      <td>0.213513</td>\n",
       "      <td>0.750000</td>\n",
       "      <td>0.292677</td>\n",
       "      <td>8839.988636</td>\n",
       "      <td>0.0</td>\n",
       "      <td>28.277151</td>\n",
       "      <td>0.000891</td>\n",
       "      <td>0.002262</td>\n",
       "      <td>0.302062</td>\n",
       "      <td>0.918178</td>\n",
       "      <td>0.205126</td>\n",
       "      <td>4.344456e+06</td>\n",
       "      <td>0.0</td>\n",
       "      <td>24.949673</td>\n",
       "    </tr>\n",
       "  </tbody>\n",
       "</table>\n",
       "<p>373 rows × 18 columns</p>\n",
       "</div>"
      ],
      "text/plain": [
       "          influencer       month  capture_audience  denier_audience  \\\n",
       "0                CNN  2017-09-01          0.000311         0.081710   \n",
       "1      CarolineLucas  2017-09-01          0.001175         0.071429   \n",
       "2     ClimateReality  2017-09-01          0.000485         0.046034   \n",
       "3       EricHolthaus  2017-09-01          0.000317         0.014848   \n",
       "4    GCCThinkActTank  2017-09-01          0.084195         0.000000   \n",
       "..               ...         ...               ...              ...   \n",
       "368     kylegriffin1  2019-01-01          0.000461         0.000000   \n",
       "369      nowthisnews  2019-01-01          0.000723         0.074618   \n",
       "370          nytimes  2019-01-01          0.001107         0.000000   \n",
       "371          thehill  2019-01-01          0.001538         0.063492   \n",
       "372              wef  2019-01-01          0.001544         0.054545   \n",
       "\n",
       "     sentiment_audience  male_audience  aggressive_audience  \\\n",
       "0             -0.098692       0.590604             0.421624   \n",
       "1              0.246380       0.500000             0.071429   \n",
       "2             -0.000232       0.664093             0.384247   \n",
       "3              0.013698       0.702381             0.351617   \n",
       "4             -0.039097       0.000000             0.034916   \n",
       "..                  ...            ...                  ...   \n",
       "368            0.011985       0.750000             0.375000   \n",
       "369           -0.043586       0.714286             0.447406   \n",
       "370           -0.250780       1.000000             0.333333   \n",
       "371           -0.162775       0.666667             0.512235   \n",
       "372            0.213513       0.750000             0.292677   \n",
       "\n",
       "     followers_audience  verified_audience  freq_audience  capture_echoer  \\\n",
       "0           8715.676624                0.0      35.028237        0.000527   \n",
       "1           8255.785714                0.0      45.665955        0.000303   \n",
       "2           8546.847849                0.0      26.726841        0.001878   \n",
       "3          13578.761185                0.0      38.494177        0.000457   \n",
       "4         186013.484171                0.0     161.499040        0.001665   \n",
       "..                  ...                ...            ...             ...   \n",
       "368         3139.625000                0.0      16.302667        0.000392   \n",
       "369         7643.865384                0.0      35.098472        0.001239   \n",
       "370         2746.333333                0.0      31.678216        0.000539   \n",
       "371        13843.594522                0.0      49.806520        0.000844   \n",
       "372         8839.988636                0.0      28.277151        0.000891   \n",
       "\n",
       "     denier_echoer  sentiment_echoer  male_echoer  aggressive_echoer  \\\n",
       "0         0.006478         -0.049295     0.794321           0.631725   \n",
       "1         0.025463          0.219833     0.625000           0.254630   \n",
       "2         0.007418          0.071891     0.873902           0.266671   \n",
       "3         0.005744         -0.089890     0.879949           0.444904   \n",
       "4         0.004202          0.100709     0.928571           0.286574   \n",
       "..             ...               ...          ...                ...   \n",
       "368       0.000000          0.000600     0.791667           0.871212   \n",
       "369       0.003565         -0.087045     0.741526           0.584362   \n",
       "370       0.000000          0.109559     0.833333           0.408333   \n",
       "371       0.002781         -0.050124     0.851491           0.407704   \n",
       "372       0.002262          0.302062     0.918178           0.205126   \n",
       "\n",
       "     followers_echoer  verified_echoer  freq_echoer  \n",
       "0        3.867654e+07              0.0    51.090283  \n",
       "1        2.596688e+04              0.0     3.940489  \n",
       "2        1.737661e+06              0.0    17.395290  \n",
       "3        9.822435e+05              0.0    19.080808  \n",
       "4        1.194403e+06              0.0    39.030292  \n",
       "..                ...              ...          ...  \n",
       "368      2.556917e+06              0.0    27.211194  \n",
       "369      3.149936e+06              0.0    48.803409  \n",
       "370      6.795104e+04              0.0    14.111190  \n",
       "371      4.931715e+06              0.0   108.967126  \n",
       "372      4.344456e+06              0.0    24.949673  \n",
       "\n",
       "[373 rows x 18 columns]"
      ]
     },
     "execution_count": 37,
     "metadata": {},
     "output_type": "execute_result"
    }
   ],
   "source": [
    "final_df"
   ]
  },
  {
   "cell_type": "code",
   "execution_count": 38,
   "metadata": {},
   "outputs": [],
   "source": [
    "final_df.to_pickle('final.pkl')"
   ]
  },
  {
   "attachments": {},
   "cell_type": "markdown",
   "metadata": {},
   "source": [
    "Hypotheses:\n",
    "\n",
    "1. echoer_dict has more unique echoers because of the different leading users (nope, same leading user has more)\n",
    "2. echoer_df has less unique echoers because it filters out all the echoers who don't have original tweets in the dataset"
   ]
  },
  {
   "attachments": {},
   "cell_type": "markdown",
   "metadata": {},
   "source": [
    "## EDA"
   ]
  },
  {
   "cell_type": "code",
   "execution_count": 43,
   "metadata": {},
   "outputs": [],
   "source": [
    "final_df = pd.read_pickle('final.pkl')"
   ]
  },
  {
   "cell_type": "code",
   "execution_count": 53,
   "metadata": {},
   "outputs": [
    {
     "data": {
      "text/plain": [
       "Index(['influencer', 'month', 'capture_audience', 'denier_audience',\n",
       "       'sentiment_audience', 'male_audience', 'aggressive_audience',\n",
       "       'followers_audience', 'verified_audience', 'freq_audience',\n",
       "       'capture_echoer', 'denier_echoer', 'sentiment_echoer', 'male_echoer',\n",
       "       'aggressive_echoer', 'followers_echoer', 'verified_echoer',\n",
       "       'freq_echoer'],\n",
       "      dtype='object')"
      ]
     },
     "execution_count": 53,
     "metadata": {},
     "output_type": "execute_result"
    }
   ],
   "source": [
    "final_df.columns"
   ]
  },
  {
   "cell_type": "code",
   "execution_count": 49,
   "metadata": {},
   "outputs": [
    {
     "data": {
      "application/vnd.plotly.v1+json": {
       "config": {
        "plotlyServerURL": "https://plot.ly"
       },
       "data": [
        {
         "hovertemplate": "influencer=CNN<br>month=%{x}<br>denier_audience=%{y}<extra></extra>",
         "legendgroup": "CNN",
         "line": {
          "color": "#636efa",
          "dash": "solid"
         },
         "marker": {
          "symbol": "circle"
         },
         "mode": "lines",
         "name": "CNN",
         "orientation": "v",
         "showlegend": true,
         "type": "scatter",
         "x": [
          "2017-09-01",
          "2017-10-01",
          "2017-11-01",
          "2017-12-01",
          "2018-01-01",
          "2018-02-01",
          "2018-03-01",
          "2018-04-01",
          "2018-05-01",
          "2018-06-01",
          "2018-07-01",
          "2018-08-01",
          "2018-09-01",
          "2018-10-01",
          "2018-11-01",
          "2018-12-01",
          "2019-01-01"
         ],
         "xaxis": "x",
         "y": [
          0.08170995670995672,
          0.0899110785117248,
          0.03870967741935484,
          0.06204131112066125,
          0.11145003145003145,
          0.02513415404040404,
          0.0759788686295251,
          0.04,
          0.047611757501530926,
          0.03135808619679587,
          0,
          0.06780095582225129,
          0.06363636363636363,
          0.05133008617459723,
          0.07166666666666667,
          0.04776848131069584,
          0.0632183908045977
         ],
         "yaxis": "y"
        },
        {
         "hovertemplate": "influencer=CarolineLucas<br>month=%{x}<br>denier_audience=%{y}<extra></extra>",
         "legendgroup": "CarolineLucas",
         "line": {
          "color": "#EF553B",
          "dash": "solid"
         },
         "marker": {
          "symbol": "circle"
         },
         "mode": "lines",
         "name": "CarolineLucas",
         "orientation": "v",
         "showlegend": true,
         "type": "scatter",
         "x": [
          "2017-09-01",
          "2017-10-01",
          "2017-11-01",
          "2017-12-01",
          "2018-01-01",
          "2018-02-01",
          "2018-05-01",
          "2018-06-01",
          "2018-07-01",
          "2018-08-01",
          "2018-09-01",
          "2018-10-01",
          "2018-11-01",
          "2018-12-01",
          "2019-01-01"
         ],
         "xaxis": "x",
         "y": [
          0.07142857142857142,
          0.07786458333333333,
          0.12318840579710144,
          0.1,
          0.06770557016611313,
          0,
          0.04620253164556962,
          0.045992568055648206,
          0,
          0.09601272015655576,
          0.0416967291967292,
          0.06484836285560923,
          0.03689492325855962,
          0.035338109602815485,
          0.125
         ],
         "yaxis": "y"
        },
        {
         "hovertemplate": "influencer=ClimateReality<br>month=%{x}<br>denier_audience=%{y}<extra></extra>",
         "legendgroup": "ClimateReality",
         "line": {
          "color": "#00cc96",
          "dash": "solid"
         },
         "marker": {
          "symbol": "circle"
         },
         "mode": "lines",
         "name": "ClimateReality",
         "orientation": "v",
         "showlegend": true,
         "type": "scatter",
         "x": [
          "2017-09-01",
          "2017-10-01",
          "2017-11-01",
          "2017-12-01",
          "2018-01-01",
          "2018-02-01",
          "2018-03-01",
          "2018-04-01",
          "2018-05-01",
          "2018-06-01",
          "2018-07-01",
          "2018-08-01",
          "2018-09-01",
          "2018-10-01",
          "2018-11-01",
          "2018-12-01",
          "2019-01-01"
         ],
         "xaxis": "x",
         "y": [
          0.04603423919948871,
          0.03636181671585421,
          0.024477402325036295,
          0.03362113752022009,
          0.05034944707530723,
          0.02313442304821615,
          0.03690572373753891,
          0.017426358202475498,
          0.030382435490744868,
          0.023334862365774065,
          0.009906759906759906,
          0.029836542026944503,
          0.038119864502960864,
          0.01974544203646371,
          0,
          0.02805569428423127,
          0.044221981721981725
         ],
         "yaxis": "y"
        },
        {
         "hovertemplate": "influencer=EricHolthaus<br>month=%{x}<br>denier_audience=%{y}<extra></extra>",
         "legendgroup": "EricHolthaus",
         "line": {
          "color": "#ab63fa",
          "dash": "solid"
         },
         "marker": {
          "symbol": "circle"
         },
         "mode": "lines",
         "name": "EricHolthaus",
         "orientation": "v",
         "showlegend": true,
         "type": "scatter",
         "x": [
          "2017-09-01",
          "2017-10-01",
          "2017-11-01",
          "2017-12-01",
          "2018-01-01",
          "2018-02-01",
          "2018-03-01",
          "2018-04-01",
          "2018-05-01",
          "2018-06-01",
          "2018-07-01",
          "2018-08-01",
          "2018-09-01",
          "2018-10-01",
          "2018-11-01",
          "2018-12-01",
          "2019-01-01"
         ],
         "xaxis": "x",
         "y": [
          0.014847512038523273,
          0.07424182417196688,
          0.02540916401765776,
          0.03963457894180786,
          0.06158234082103582,
          0.051229142777696045,
          0.02037471893192222,
          0.012499999999999999,
          0.06410672777170046,
          0.011363636363636364,
          0.03757992530345471,
          0.024023907037635257,
          0.02386717892892603,
          0.05857375404687512,
          0.045238095238095244,
          0.04500061313053822,
          0.03571428571428571
         ],
         "yaxis": "y"
        },
        {
         "hovertemplate": "influencer=GCCThinkActTank<br>month=%{x}<br>denier_audience=%{y}<extra></extra>",
         "legendgroup": "GCCThinkActTank",
         "line": {
          "color": "#FFA15A",
          "dash": "solid"
         },
         "marker": {
          "symbol": "circle"
         },
         "mode": "lines",
         "name": "GCCThinkActTank",
         "orientation": "v",
         "showlegend": true,
         "type": "scatter",
         "x": [
          "2017-09-01",
          "2017-10-01",
          "2017-11-01",
          "2017-12-01",
          "2018-01-01",
          "2018-02-01",
          "2018-03-01",
          "2018-04-01",
          "2018-05-01",
          "2018-06-01",
          "2018-07-01",
          "2018-08-01",
          "2018-09-01",
          "2018-10-01",
          "2018-11-01",
          "2018-12-01",
          "2019-01-01"
         ],
         "xaxis": "x",
         "y": [
          0,
          0.0003072687073428638,
          0.03483922597460769,
          0.047187641580843105,
          0.03907593733752674,
          0.0479162204964885,
          0.026193151975705944,
          0.05910366142220981,
          0.0346211343426856,
          0.007638142976488841,
          0.014423076923076924,
          0.017518389469608982,
          0.008765044479330193,
          0.03240740740740741,
          0.07142857142857142,
          0.06990264054339684,
          0.12116689280868387
         ],
         "yaxis": "y"
        },
        {
         "hovertemplate": "influencer=Greenpeace<br>month=%{x}<br>denier_audience=%{y}<extra></extra>",
         "legendgroup": "Greenpeace",
         "line": {
          "color": "#19d3f3",
          "dash": "solid"
         },
         "marker": {
          "symbol": "circle"
         },
         "mode": "lines",
         "name": "Greenpeace",
         "orientation": "v",
         "showlegend": true,
         "type": "scatter",
         "x": [
          "2017-09-01",
          "2017-10-01",
          "2017-11-01",
          "2017-12-01",
          "2018-01-01",
          "2018-02-01",
          "2018-03-01",
          "2018-04-01",
          "2018-05-01",
          "2018-06-01",
          "2018-07-01",
          "2018-08-01",
          "2018-09-01",
          "2018-10-01",
          "2018-11-01",
          "2018-12-01",
          "2019-01-01"
         ],
         "xaxis": "x",
         "y": [
          0.05440877534205871,
          0.04216932068280743,
          0.028450722452720716,
          0.029447068083431723,
          0.05119258685170724,
          0.03743937269738843,
          0.029602013015474552,
          0.029622510128373556,
          0.04434199487389795,
          0.038886340966036236,
          0.025805218173639226,
          0.034947429114095784,
          0.02209025698854482,
          0.02842676976894044,
          0.02027027027027027,
          0.0318853742856142,
          0
         ],
         "yaxis": "y"
        },
        {
         "hovertemplate": "influencer=JoyfullyECO<br>month=%{x}<br>denier_audience=%{y}<extra></extra>",
         "legendgroup": "JoyfullyECO",
         "line": {
          "color": "#FF6692",
          "dash": "solid"
         },
         "marker": {
          "symbol": "circle"
         },
         "mode": "lines",
         "name": "JoyfullyECO",
         "orientation": "v",
         "showlegend": true,
         "type": "scatter",
         "x": [
          "2017-09-01",
          "2017-10-01",
          "2017-11-01",
          "2017-12-01",
          "2018-01-01",
          "2018-02-01",
          "2018-03-01",
          "2018-04-01",
          "2018-05-01",
          "2018-12-01"
         ],
         "xaxis": "x",
         "y": [
          0.0018033589721430012,
          0.02132991612901428,
          0.054720279720279714,
          0.053042058335934665,
          0.04108057979790795,
          0.045976086030564134,
          0.028250284876224725,
          0.03428626034244501,
          0.06721774567009355,
          0
         ],
         "yaxis": "y"
        },
        {
         "hovertemplate": "influencer=MikeBloomberg<br>month=%{x}<br>denier_audience=%{y}<extra></extra>",
         "legendgroup": "MikeBloomberg",
         "line": {
          "color": "#B6E880",
          "dash": "solid"
         },
         "marker": {
          "symbol": "circle"
         },
         "mode": "lines",
         "name": "MikeBloomberg",
         "orientation": "v",
         "showlegend": true,
         "type": "scatter",
         "x": [
          "2017-09-01",
          "2017-10-01",
          "2017-11-01",
          "2017-12-01",
          "2018-01-01",
          "2018-02-01",
          "2018-03-01",
          "2018-04-01",
          "2018-05-01",
          "2018-07-01",
          "2018-08-01",
          "2018-09-01",
          "2018-10-01",
          "2018-12-01",
          "2019-01-01"
         ],
         "xaxis": "x",
         "y": [
          0.14285714285714285,
          0.14285714285714285,
          0.02704248366013072,
          0.033788821219530245,
          0,
          0.0625,
          0.019208711606417593,
          0.04671630838739698,
          0.6666666666666666,
          0,
          0,
          0.032492997198879554,
          0.05263157894736842,
          0.025564189350954055,
          0
         ],
         "yaxis": "y"
        },
        {
         "hovertemplate": "influencer=NRDC<br>month=%{x}<br>denier_audience=%{y}<extra></extra>",
         "legendgroup": "NRDC",
         "line": {
          "color": "#FF97FF",
          "dash": "solid"
         },
         "marker": {
          "symbol": "circle"
         },
         "mode": "lines",
         "name": "NRDC",
         "orientation": "v",
         "showlegend": true,
         "type": "scatter",
         "x": [
          "2017-09-01",
          "2017-10-01",
          "2017-11-01",
          "2017-12-01",
          "2018-01-01",
          "2018-02-01",
          "2018-03-01",
          "2018-04-01",
          "2018-05-01",
          "2018-06-01",
          "2018-07-01",
          "2018-08-01",
          "2018-09-01",
          "2018-10-01",
          "2018-11-01",
          "2018-12-01",
          "2019-01-01"
         ],
         "xaxis": "x",
         "y": [
          0.04240855762594893,
          0.02543415603613433,
          0.018954509177972863,
          0.054410929357096884,
          0.027959041277276206,
          0.025261345113638155,
          0.03676125541125541,
          0.023119392684610076,
          0.033480770437292175,
          0.04861111111111111,
          0.016666666666666666,
          0.03364341840379245,
          0.026398300660162077,
          0.019128420599008836,
          0.02321428571428571,
          0.03468902656544059,
          0.07936507936507936
         ],
         "yaxis": "y"
        },
        {
         "hovertemplate": "influencer=PaulEDawson<br>month=%{x}<br>denier_audience=%{y}<extra></extra>",
         "legendgroup": "PaulEDawson",
         "line": {
          "color": "#FECB52",
          "dash": "solid"
         },
         "marker": {
          "symbol": "circle"
         },
         "mode": "lines",
         "name": "PaulEDawson",
         "orientation": "v",
         "showlegend": true,
         "type": "scatter",
         "x": [
          "2017-09-01",
          "2017-10-01",
          "2017-11-01",
          "2017-12-01",
          "2018-01-01",
          "2018-02-01",
          "2018-03-01",
          "2018-04-01",
          "2018-05-01",
          "2018-06-01",
          "2018-07-01",
          "2018-08-01",
          "2018-09-01",
          "2018-10-01",
          "2018-11-01",
          "2018-12-01",
          "2019-01-01"
         ],
         "xaxis": "x",
         "y": [
          0.026427663098125036,
          0.03738717703386073,
          0.03101812953706474,
          0.04777754761026049,
          0.036242737674396786,
          0.03343286998827961,
          0.03102716956319777,
          0.03479432569638886,
          0.0431773662901704,
          0.0418616164721281,
          0.0233740778763605,
          0.05611111433744325,
          0.03033362204352835,
          0.03418903744465676,
          0.05224830316742081,
          0.041483073301070254,
          0.05651516287907197
         ],
         "yaxis": "y"
        },
        {
         "hovertemplate": "influencer=SenSanders<br>month=%{x}<br>denier_audience=%{y}<extra></extra>",
         "legendgroup": "SenSanders",
         "line": {
          "color": "#636efa",
          "dash": "solid"
         },
         "marker": {
          "symbol": "circle"
         },
         "mode": "lines",
         "name": "SenSanders",
         "orientation": "v",
         "showlegend": true,
         "type": "scatter",
         "x": [
          "2017-09-01",
          "2017-12-01",
          "2018-01-01",
          "2018-02-01",
          "2018-03-01",
          "2018-04-01",
          "2018-05-01",
          "2018-07-01",
          "2018-08-01",
          "2018-09-01",
          "2018-10-01",
          "2018-11-01",
          "2018-12-01",
          "2019-01-01"
         ],
         "xaxis": "x",
         "y": [
          0.057387057387057384,
          0.3333333333333333,
          0.07409258814792798,
          0.05996579903801163,
          0,
          0.07207207207207207,
          0,
          0.04197761194029851,
          0.10915529564652372,
          0.029982363315696647,
          0.05730095068330362,
          0.02966269841269841,
          0.07152528919852105,
          0.0657569937437194
         ],
         "yaxis": "y"
        },
        {
         "hovertemplate": "influencer=UNFCCC<br>month=%{x}<br>denier_audience=%{y}<extra></extra>",
         "legendgroup": "UNFCCC",
         "line": {
          "color": "#EF553B",
          "dash": "solid"
         },
         "marker": {
          "symbol": "circle"
         },
         "mode": "lines",
         "name": "UNFCCC",
         "orientation": "v",
         "showlegend": true,
         "type": "scatter",
         "x": [
          "2017-09-01",
          "2017-10-01",
          "2017-11-01",
          "2017-12-01",
          "2018-01-01",
          "2018-02-01",
          "2018-03-01",
          "2018-04-01",
          "2018-05-01",
          "2018-06-01",
          "2018-07-01",
          "2018-08-01",
          "2018-09-01",
          "2018-10-01",
          "2018-11-01",
          "2018-12-01"
         ],
         "xaxis": "x",
         "y": [
          0.022185158392054944,
          0.023478306768174573,
          0.016898597563974226,
          0.016363910861154636,
          0.025306671267898987,
          0.020945974210924617,
          0.006882927645194186,
          0.009629386808212872,
          0.012251783304414883,
          0,
          0,
          0.03291925465838509,
          0.01642780153490117,
          0.0068870523415977955,
          0,
          0.012127495226686985
         ],
         "yaxis": "y"
        },
        {
         "hovertemplate": "influencer=annemariayritys<br>month=%{x}<br>denier_audience=%{y}<extra></extra>",
         "legendgroup": "annemariayritys",
         "line": {
          "color": "#00cc96",
          "dash": "solid"
         },
         "marker": {
          "symbol": "circle"
         },
         "mode": "lines",
         "name": "annemariayritys",
         "orientation": "v",
         "showlegend": true,
         "type": "scatter",
         "x": [
          "2017-09-01",
          "2017-10-01",
          "2017-11-01",
          "2017-12-01",
          "2018-01-01",
          "2018-02-01",
          "2018-03-01",
          "2018-04-01",
          "2018-05-01",
          "2018-06-01",
          "2018-07-01",
          "2018-08-01",
          "2018-09-01",
          "2018-10-01",
          "2018-11-01",
          "2018-12-01",
          "2019-01-01"
         ],
         "xaxis": "x",
         "y": [
          0.07151766300479495,
          0.03296606002152302,
          0.03647580021338673,
          0.06364548297657799,
          0.07446011356439164,
          0.03470073713965198,
          0.06208400256714403,
          0.06166032450716135,
          0.049816823468517846,
          0.017456445993031356,
          0.0014005602240896359,
          0.056936936936936945,
          0.0367816091954023,
          0.005847953216374269,
          0,
          0.08977987421383647,
          0
         ],
         "yaxis": "y"
        },
        {
         "hovertemplate": "influencer=billmckibben<br>month=%{x}<br>denier_audience=%{y}<extra></extra>",
         "legendgroup": "billmckibben",
         "line": {
          "color": "#ab63fa",
          "dash": "solid"
         },
         "marker": {
          "symbol": "circle"
         },
         "mode": "lines",
         "name": "billmckibben",
         "orientation": "v",
         "showlegend": true,
         "type": "scatter",
         "x": [
          "2017-09-01",
          "2017-10-01",
          "2017-11-01",
          "2017-12-01",
          "2018-01-01",
          "2018-02-01",
          "2018-03-01",
          "2018-04-01",
          "2018-05-01",
          "2018-06-01",
          "2018-07-01",
          "2018-08-01",
          "2018-09-01",
          "2018-10-01",
          "2018-11-01",
          "2018-12-01",
          "2019-01-01"
         ],
         "xaxis": "x",
         "y": [
          0.1,
          0.0353641374779289,
          0.029559644977759987,
          0.050509842639048175,
          0.04314170568581955,
          0.052082673385755236,
          0.0286692047861371,
          0.0408399246564029,
          0.03503913825862456,
          0.05089451611190742,
          0.05754390645146948,
          0.04158444769518978,
          0.03942328061252067,
          0,
          0.04591836734693878,
          0.04008204934464389,
          0
         ],
         "yaxis": "y"
        },
        {
         "hovertemplate": "influencer=brianschatz<br>month=%{x}<br>denier_audience=%{y}<extra></extra>",
         "legendgroup": "brianschatz",
         "line": {
          "color": "#FFA15A",
          "dash": "solid"
         },
         "marker": {
          "symbol": "circle"
         },
         "mode": "lines",
         "name": "brianschatz",
         "orientation": "v",
         "showlegend": true,
         "type": "scatter",
         "x": [
          "2017-09-01",
          "2017-10-01",
          "2017-12-01",
          "2018-01-01",
          "2018-04-01",
          "2018-05-01",
          "2018-06-01",
          "2018-10-01",
          "2018-11-01",
          "2018-12-01",
          "2019-01-01"
         ],
         "xaxis": "x",
         "y": [
          0,
          0.03844785887039408,
          0.11089167932619272,
          0.0625,
          0.04722837267687158,
          0.08572479764532745,
          0.125,
          0.05952380952380952,
          0.09023668639053255,
          0.07055641616604325,
          0.035894495412844035
         ],
         "yaxis": "y"
        },
        {
         "hovertemplate": "influencer=britneyspears<br>month=%{x}<br>denier_audience=%{y}<extra></extra>",
         "legendgroup": "britneyspears",
         "line": {
          "color": "#19d3f3",
          "dash": "solid"
         },
         "marker": {
          "symbol": "circle"
         },
         "mode": "lines",
         "name": "britneyspears",
         "orientation": "v",
         "showlegend": true,
         "type": "scatter",
         "x": [
          "2017-09-01",
          "2017-10-01",
          "2017-11-01",
          "2017-12-01",
          "2018-01-01",
          "2018-02-01",
          "2018-03-01",
          "2018-04-01",
          "2018-05-01",
          "2018-06-01",
          "2018-07-01",
          "2018-08-01",
          "2018-09-01",
          "2018-10-01",
          "2018-11-01",
          "2018-12-01",
          "2019-01-01"
         ],
         "xaxis": "x",
         "y": [
          0.25,
          0.07692307692307693,
          0,
          0.048611111111111105,
          0.13043478260869565,
          0.10344827586206896,
          0.07692307692307693,
          0.125,
          0,
          0,
          0,
          0,
          0,
          0.11851851851851852,
          0,
          0.017045454545454544,
          0
         ],
         "yaxis": "y"
        },
        {
         "hovertemplate": "influencer=kylegriffin1<br>month=%{x}<br>denier_audience=%{y}<extra></extra>",
         "legendgroup": "kylegriffin1",
         "line": {
          "color": "#FF6692",
          "dash": "solid"
         },
         "marker": {
          "symbol": "circle"
         },
         "mode": "lines",
         "name": "kylegriffin1",
         "orientation": "v",
         "showlegend": true,
         "type": "scatter",
         "x": [
          "2017-09-01",
          "2017-10-01",
          "2017-11-01",
          "2017-12-01",
          "2018-01-01",
          "2018-02-01",
          "2018-03-01",
          "2018-04-01",
          "2018-05-01",
          "2018-06-01",
          "2018-08-01",
          "2018-09-01",
          "2018-10-01",
          "2018-12-01",
          "2019-01-01"
         ],
         "xaxis": "x",
         "y": [
          0.0625,
          0.05844579521177477,
          0.04806338028169014,
          0.07561574935769783,
          0.05559000663502272,
          0.04431547619047619,
          0.03151235015760155,
          0.019047619047619046,
          0.09903508771929824,
          0.06030612244897959,
          0.08497267759562842,
          0,
          0,
          0.0580489417989418,
          0
         ],
         "yaxis": "y"
        },
        {
         "hovertemplate": "influencer=nowthisnews<br>month=%{x}<br>denier_audience=%{y}<extra></extra>",
         "legendgroup": "nowthisnews",
         "line": {
          "color": "#B6E880",
          "dash": "solid"
         },
         "marker": {
          "symbol": "circle"
         },
         "mode": "lines",
         "name": "nowthisnews",
         "orientation": "v",
         "showlegend": true,
         "type": "scatter",
         "x": [
          "2017-09-01",
          "2017-10-01",
          "2017-11-01",
          "2017-12-01",
          "2018-01-01",
          "2018-02-01",
          "2018-03-01",
          "2018-04-01",
          "2018-05-01",
          "2018-06-01",
          "2018-07-01",
          "2018-08-01",
          "2018-09-01",
          "2018-10-01",
          "2018-11-01",
          "2018-12-01",
          "2019-01-01"
         ],
         "xaxis": "x",
         "y": [
          0,
          0.091869918699187,
          0.03894403580185198,
          0.07364634204162913,
          0.07518307441985773,
          0.04032258064516129,
          0.009265588212956633,
          0.06184971805316013,
          0.125,
          0.25,
          0,
          0,
          0.07053262804332588,
          0.04855595667870036,
          0.029537556802993855,
          0.05661656610331136,
          0.07461814914645104
         ],
         "yaxis": "y"
        },
        {
         "hovertemplate": "influencer=nytimes<br>month=%{x}<br>denier_audience=%{y}<extra></extra>",
         "legendgroup": "nytimes",
         "line": {
          "color": "#FF97FF",
          "dash": "solid"
         },
         "marker": {
          "symbol": "circle"
         },
         "mode": "lines",
         "name": "nytimes",
         "orientation": "v",
         "showlegend": true,
         "type": "scatter",
         "x": [
          "2017-09-01",
          "2017-10-01",
          "2017-11-01",
          "2017-12-01",
          "2018-01-01",
          "2018-02-01",
          "2018-03-01",
          "2018-04-01",
          "2018-05-01",
          "2018-06-01",
          "2018-07-01",
          "2018-08-01",
          "2018-09-01",
          "2018-10-01",
          "2018-11-01",
          "2018-12-01",
          "2019-01-01"
         ],
         "xaxis": "x",
         "y": [
          0,
          0.05127370991293729,
          0.052407283475982995,
          0.05654311150732148,
          0.05973823930604714,
          0.03571428571428571,
          0.017763811709911526,
          0.02398989898989899,
          0.06,
          0,
          0,
          0.07899522957662493,
          0.08365115174247972,
          0.012551174315880197,
          0.052218325788119836,
          0.05650810340143185,
          0
         ],
         "yaxis": "y"
        },
        {
         "hovertemplate": "influencer=tedlieu<br>month=%{x}<br>denier_audience=%{y}<extra></extra>",
         "legendgroup": "tedlieu",
         "line": {
          "color": "#FECB52",
          "dash": "solid"
         },
         "marker": {
          "symbol": "circle"
         },
         "mode": "lines",
         "name": "tedlieu",
         "orientation": "v",
         "showlegend": true,
         "type": "scatter",
         "x": [
          "2017-09-01",
          "2017-10-01",
          "2017-12-01",
          "2018-01-01",
          "2018-03-01",
          "2018-04-01",
          "2018-08-01",
          "2018-10-01",
          "2018-11-01",
          "2018-12-01"
         ],
         "xaxis": "x",
         "y": [
          0,
          0.06892006802721089,
          0.09322461829427937,
          0,
          0.0318100358422939,
          0.04858757062146893,
          0.05398885044213764,
          0,
          0,
          0.04422660157180281
         ],
         "yaxis": "y"
        },
        {
         "hovertemplate": "influencer=thehill<br>month=%{x}<br>denier_audience=%{y}<extra></extra>",
         "legendgroup": "thehill",
         "line": {
          "color": "#636efa",
          "dash": "solid"
         },
         "marker": {
          "symbol": "circle"
         },
         "mode": "lines",
         "name": "thehill",
         "orientation": "v",
         "showlegend": true,
         "type": "scatter",
         "x": [
          "2017-09-01",
          "2017-10-01",
          "2017-11-01",
          "2017-12-01",
          "2018-01-01",
          "2018-02-01",
          "2018-03-01",
          "2018-04-01",
          "2018-05-01",
          "2018-06-01",
          "2018-07-01",
          "2018-08-01",
          "2018-09-01",
          "2018-10-01",
          "2018-11-01",
          "2018-12-01",
          "2019-01-01"
         ],
         "xaxis": "x",
         "y": [
          0.10488721804511278,
          0.06102345975827086,
          0.062230410804778966,
          0.09116083266584121,
          0.08058223008223009,
          0.033615288220551376,
          0.050660103785103786,
          0.05376337066813257,
          0.08653981117136139,
          0.08628841607565012,
          0.05447662936142199,
          0.06026365348399246,
          0.05569833392414037,
          0.058982683982683984,
          0.16122448979591836,
          0.08315505397520946,
          0.06349206349206349
         ],
         "yaxis": "y"
        },
        {
         "hovertemplate": "influencer=wef<br>month=%{x}<br>denier_audience=%{y}<extra></extra>",
         "legendgroup": "wef",
         "line": {
          "color": "#EF553B",
          "dash": "solid"
         },
         "marker": {
          "symbol": "circle"
         },
         "mode": "lines",
         "name": "wef",
         "orientation": "v",
         "showlegend": true,
         "type": "scatter",
         "x": [
          "2017-09-01",
          "2017-10-01",
          "2017-11-01",
          "2017-12-01",
          "2018-01-01",
          "2018-02-01",
          "2018-03-01",
          "2018-04-01",
          "2018-05-01",
          "2018-06-01",
          "2018-07-01",
          "2018-08-01",
          "2018-09-01",
          "2018-10-01",
          "2018-11-01",
          "2018-12-01",
          "2019-01-01"
         ],
         "xaxis": "x",
         "y": [
          0.021739130434782608,
          0.040499194847020935,
          0.03397435897435897,
          0.03146608794279344,
          0.03855807911831378,
          0,
          0.026289568345874495,
          0.004157768718048275,
          0.0004743833017077799,
          0.042599532417513415,
          0.08333333333333333,
          0.0586734693877551,
          0.034661435044689756,
          0.013522650439486139,
          0,
          0.049659301923016395,
          0.05454545454545454
         ],
         "yaxis": "y"
        },
        {
         "hovertemplate": "influencer=DanRather<br>month=%{x}<br>denier_audience=%{y}<extra></extra>",
         "legendgroup": "DanRather",
         "line": {
          "color": "#00cc96",
          "dash": "solid"
         },
         "marker": {
          "symbol": "circle"
         },
         "mode": "lines",
         "name": "DanRather",
         "orientation": "v",
         "showlegend": true,
         "type": "scatter",
         "x": [
          "2017-10-01",
          "2018-01-01",
          "2018-04-01",
          "2018-05-01",
          "2018-07-01",
          "2018-10-01",
          "2018-11-01",
          "2018-12-01",
          "2019-01-01"
         ],
         "xaxis": "x",
         "y": [
          0.09438775510204081,
          0,
          0.06225066503488778,
          0.0659009009009009,
          0.09613275872987305,
          0.05415323615515449,
          0.09408602150537636,
          0.06259342849687388,
          0
         ],
         "yaxis": "y"
        },
        {
         "hovertemplate": "influencer=KamalaHarris<br>month=%{x}<br>denier_audience=%{y}<extra></extra>",
         "legendgroup": "KamalaHarris",
         "line": {
          "color": "#ab63fa",
          "dash": "solid"
         },
         "marker": {
          "symbol": "circle"
         },
         "mode": "lines",
         "name": "KamalaHarris",
         "orientation": "v",
         "showlegend": true,
         "type": "scatter",
         "x": [
          "2017-10-01",
          "2017-11-01",
          "2018-02-01",
          "2018-03-01",
          "2018-05-01",
          "2018-06-01",
          "2018-08-01",
          "2018-09-01",
          "2018-10-01",
          "2018-11-01",
          "2018-12-01",
          "2019-01-01"
         ],
         "xaxis": "x",
         "y": [
          0.05575359633047048,
          0.3333333333333333,
          0.02708333333333333,
          0.01537037037037037,
          0.0920120320855615,
          0.07465277777777778,
          0.08796296296296297,
          0.06604669006903643,
          0.05783730158730158,
          0.06048579252462748,
          0.062373716795205036,
          0.056787634408602156
         ],
         "yaxis": "y"
        },
        {
         "hovertemplate": "influencer=joekennedy<br>month=%{x}<br>denier_audience=%{y}<extra></extra>",
         "legendgroup": "joekennedy",
         "line": {
          "color": "#FFA15A",
          "dash": "solid"
         },
         "marker": {
          "symbol": "circle"
         },
         "mode": "lines",
         "name": "joekennedy",
         "orientation": "v",
         "showlegend": true,
         "type": "scatter",
         "x": [
          "2018-02-01",
          "2018-03-01",
          "2018-04-01",
          "2018-05-01",
          "2018-06-01",
          "2018-11-01",
          "2018-12-01",
          "2019-01-01"
         ],
         "xaxis": "x",
         "y": [
          0.05868425728500356,
          0.2,
          0.04397051079515535,
          0.08332261538783278,
          0.03301022876494575,
          0.05,
          0.04304236950464716,
          0
         ],
         "yaxis": "y"
        }
       ],
       "layout": {
        "legend": {
         "title": {
          "text": "influencer"
         },
         "tracegroupgap": 0
        },
        "template": {
         "data": {
          "bar": [
           {
            "error_x": {
             "color": "#2a3f5f"
            },
            "error_y": {
             "color": "#2a3f5f"
            },
            "marker": {
             "line": {
              "color": "#E5ECF6",
              "width": 0.5
             },
             "pattern": {
              "fillmode": "overlay",
              "size": 10,
              "solidity": 0.2
             }
            },
            "type": "bar"
           }
          ],
          "barpolar": [
           {
            "marker": {
             "line": {
              "color": "#E5ECF6",
              "width": 0.5
             },
             "pattern": {
              "fillmode": "overlay",
              "size": 10,
              "solidity": 0.2
             }
            },
            "type": "barpolar"
           }
          ],
          "carpet": [
           {
            "aaxis": {
             "endlinecolor": "#2a3f5f",
             "gridcolor": "white",
             "linecolor": "white",
             "minorgridcolor": "white",
             "startlinecolor": "#2a3f5f"
            },
            "baxis": {
             "endlinecolor": "#2a3f5f",
             "gridcolor": "white",
             "linecolor": "white",
             "minorgridcolor": "white",
             "startlinecolor": "#2a3f5f"
            },
            "type": "carpet"
           }
          ],
          "choropleth": [
           {
            "colorbar": {
             "outlinewidth": 0,
             "ticks": ""
            },
            "type": "choropleth"
           }
          ],
          "contour": [
           {
            "colorbar": {
             "outlinewidth": 0,
             "ticks": ""
            },
            "colorscale": [
             [
              0,
              "#0d0887"
             ],
             [
              0.1111111111111111,
              "#46039f"
             ],
             [
              0.2222222222222222,
              "#7201a8"
             ],
             [
              0.3333333333333333,
              "#9c179e"
             ],
             [
              0.4444444444444444,
              "#bd3786"
             ],
             [
              0.5555555555555556,
              "#d8576b"
             ],
             [
              0.6666666666666666,
              "#ed7953"
             ],
             [
              0.7777777777777778,
              "#fb9f3a"
             ],
             [
              0.8888888888888888,
              "#fdca26"
             ],
             [
              1,
              "#f0f921"
             ]
            ],
            "type": "contour"
           }
          ],
          "contourcarpet": [
           {
            "colorbar": {
             "outlinewidth": 0,
             "ticks": ""
            },
            "type": "contourcarpet"
           }
          ],
          "heatmap": [
           {
            "colorbar": {
             "outlinewidth": 0,
             "ticks": ""
            },
            "colorscale": [
             [
              0,
              "#0d0887"
             ],
             [
              0.1111111111111111,
              "#46039f"
             ],
             [
              0.2222222222222222,
              "#7201a8"
             ],
             [
              0.3333333333333333,
              "#9c179e"
             ],
             [
              0.4444444444444444,
              "#bd3786"
             ],
             [
              0.5555555555555556,
              "#d8576b"
             ],
             [
              0.6666666666666666,
              "#ed7953"
             ],
             [
              0.7777777777777778,
              "#fb9f3a"
             ],
             [
              0.8888888888888888,
              "#fdca26"
             ],
             [
              1,
              "#f0f921"
             ]
            ],
            "type": "heatmap"
           }
          ],
          "heatmapgl": [
           {
            "colorbar": {
             "outlinewidth": 0,
             "ticks": ""
            },
            "colorscale": [
             [
              0,
              "#0d0887"
             ],
             [
              0.1111111111111111,
              "#46039f"
             ],
             [
              0.2222222222222222,
              "#7201a8"
             ],
             [
              0.3333333333333333,
              "#9c179e"
             ],
             [
              0.4444444444444444,
              "#bd3786"
             ],
             [
              0.5555555555555556,
              "#d8576b"
             ],
             [
              0.6666666666666666,
              "#ed7953"
             ],
             [
              0.7777777777777778,
              "#fb9f3a"
             ],
             [
              0.8888888888888888,
              "#fdca26"
             ],
             [
              1,
              "#f0f921"
             ]
            ],
            "type": "heatmapgl"
           }
          ],
          "histogram": [
           {
            "marker": {
             "pattern": {
              "fillmode": "overlay",
              "size": 10,
              "solidity": 0.2
             }
            },
            "type": "histogram"
           }
          ],
          "histogram2d": [
           {
            "colorbar": {
             "outlinewidth": 0,
             "ticks": ""
            },
            "colorscale": [
             [
              0,
              "#0d0887"
             ],
             [
              0.1111111111111111,
              "#46039f"
             ],
             [
              0.2222222222222222,
              "#7201a8"
             ],
             [
              0.3333333333333333,
              "#9c179e"
             ],
             [
              0.4444444444444444,
              "#bd3786"
             ],
             [
              0.5555555555555556,
              "#d8576b"
             ],
             [
              0.6666666666666666,
              "#ed7953"
             ],
             [
              0.7777777777777778,
              "#fb9f3a"
             ],
             [
              0.8888888888888888,
              "#fdca26"
             ],
             [
              1,
              "#f0f921"
             ]
            ],
            "type": "histogram2d"
           }
          ],
          "histogram2dcontour": [
           {
            "colorbar": {
             "outlinewidth": 0,
             "ticks": ""
            },
            "colorscale": [
             [
              0,
              "#0d0887"
             ],
             [
              0.1111111111111111,
              "#46039f"
             ],
             [
              0.2222222222222222,
              "#7201a8"
             ],
             [
              0.3333333333333333,
              "#9c179e"
             ],
             [
              0.4444444444444444,
              "#bd3786"
             ],
             [
              0.5555555555555556,
              "#d8576b"
             ],
             [
              0.6666666666666666,
              "#ed7953"
             ],
             [
              0.7777777777777778,
              "#fb9f3a"
             ],
             [
              0.8888888888888888,
              "#fdca26"
             ],
             [
              1,
              "#f0f921"
             ]
            ],
            "type": "histogram2dcontour"
           }
          ],
          "mesh3d": [
           {
            "colorbar": {
             "outlinewidth": 0,
             "ticks": ""
            },
            "type": "mesh3d"
           }
          ],
          "parcoords": [
           {
            "line": {
             "colorbar": {
              "outlinewidth": 0,
              "ticks": ""
             }
            },
            "type": "parcoords"
           }
          ],
          "pie": [
           {
            "automargin": true,
            "type": "pie"
           }
          ],
          "scatter": [
           {
            "fillpattern": {
             "fillmode": "overlay",
             "size": 10,
             "solidity": 0.2
            },
            "type": "scatter"
           }
          ],
          "scatter3d": [
           {
            "line": {
             "colorbar": {
              "outlinewidth": 0,
              "ticks": ""
             }
            },
            "marker": {
             "colorbar": {
              "outlinewidth": 0,
              "ticks": ""
             }
            },
            "type": "scatter3d"
           }
          ],
          "scattercarpet": [
           {
            "marker": {
             "colorbar": {
              "outlinewidth": 0,
              "ticks": ""
             }
            },
            "type": "scattercarpet"
           }
          ],
          "scattergeo": [
           {
            "marker": {
             "colorbar": {
              "outlinewidth": 0,
              "ticks": ""
             }
            },
            "type": "scattergeo"
           }
          ],
          "scattergl": [
           {
            "marker": {
             "colorbar": {
              "outlinewidth": 0,
              "ticks": ""
             }
            },
            "type": "scattergl"
           }
          ],
          "scattermapbox": [
           {
            "marker": {
             "colorbar": {
              "outlinewidth": 0,
              "ticks": ""
             }
            },
            "type": "scattermapbox"
           }
          ],
          "scatterpolar": [
           {
            "marker": {
             "colorbar": {
              "outlinewidth": 0,
              "ticks": ""
             }
            },
            "type": "scatterpolar"
           }
          ],
          "scatterpolargl": [
           {
            "marker": {
             "colorbar": {
              "outlinewidth": 0,
              "ticks": ""
             }
            },
            "type": "scatterpolargl"
           }
          ],
          "scatterternary": [
           {
            "marker": {
             "colorbar": {
              "outlinewidth": 0,
              "ticks": ""
             }
            },
            "type": "scatterternary"
           }
          ],
          "surface": [
           {
            "colorbar": {
             "outlinewidth": 0,
             "ticks": ""
            },
            "colorscale": [
             [
              0,
              "#0d0887"
             ],
             [
              0.1111111111111111,
              "#46039f"
             ],
             [
              0.2222222222222222,
              "#7201a8"
             ],
             [
              0.3333333333333333,
              "#9c179e"
             ],
             [
              0.4444444444444444,
              "#bd3786"
             ],
             [
              0.5555555555555556,
              "#d8576b"
             ],
             [
              0.6666666666666666,
              "#ed7953"
             ],
             [
              0.7777777777777778,
              "#fb9f3a"
             ],
             [
              0.8888888888888888,
              "#fdca26"
             ],
             [
              1,
              "#f0f921"
             ]
            ],
            "type": "surface"
           }
          ],
          "table": [
           {
            "cells": {
             "fill": {
              "color": "#EBF0F8"
             },
             "line": {
              "color": "white"
             }
            },
            "header": {
             "fill": {
              "color": "#C8D4E3"
             },
             "line": {
              "color": "white"
             }
            },
            "type": "table"
           }
          ]
         },
         "layout": {
          "annotationdefaults": {
           "arrowcolor": "#2a3f5f",
           "arrowhead": 0,
           "arrowwidth": 1
          },
          "autotypenumbers": "strict",
          "coloraxis": {
           "colorbar": {
            "outlinewidth": 0,
            "ticks": ""
           }
          },
          "colorscale": {
           "diverging": [
            [
             0,
             "#8e0152"
            ],
            [
             0.1,
             "#c51b7d"
            ],
            [
             0.2,
             "#de77ae"
            ],
            [
             0.3,
             "#f1b6da"
            ],
            [
             0.4,
             "#fde0ef"
            ],
            [
             0.5,
             "#f7f7f7"
            ],
            [
             0.6,
             "#e6f5d0"
            ],
            [
             0.7,
             "#b8e186"
            ],
            [
             0.8,
             "#7fbc41"
            ],
            [
             0.9,
             "#4d9221"
            ],
            [
             1,
             "#276419"
            ]
           ],
           "sequential": [
            [
             0,
             "#0d0887"
            ],
            [
             0.1111111111111111,
             "#46039f"
            ],
            [
             0.2222222222222222,
             "#7201a8"
            ],
            [
             0.3333333333333333,
             "#9c179e"
            ],
            [
             0.4444444444444444,
             "#bd3786"
            ],
            [
             0.5555555555555556,
             "#d8576b"
            ],
            [
             0.6666666666666666,
             "#ed7953"
            ],
            [
             0.7777777777777778,
             "#fb9f3a"
            ],
            [
             0.8888888888888888,
             "#fdca26"
            ],
            [
             1,
             "#f0f921"
            ]
           ],
           "sequentialminus": [
            [
             0,
             "#0d0887"
            ],
            [
             0.1111111111111111,
             "#46039f"
            ],
            [
             0.2222222222222222,
             "#7201a8"
            ],
            [
             0.3333333333333333,
             "#9c179e"
            ],
            [
             0.4444444444444444,
             "#bd3786"
            ],
            [
             0.5555555555555556,
             "#d8576b"
            ],
            [
             0.6666666666666666,
             "#ed7953"
            ],
            [
             0.7777777777777778,
             "#fb9f3a"
            ],
            [
             0.8888888888888888,
             "#fdca26"
            ],
            [
             1,
             "#f0f921"
            ]
           ]
          },
          "colorway": [
           "#636efa",
           "#EF553B",
           "#00cc96",
           "#ab63fa",
           "#FFA15A",
           "#19d3f3",
           "#FF6692",
           "#B6E880",
           "#FF97FF",
           "#FECB52"
          ],
          "font": {
           "color": "#2a3f5f"
          },
          "geo": {
           "bgcolor": "white",
           "lakecolor": "white",
           "landcolor": "#E5ECF6",
           "showlakes": true,
           "showland": true,
           "subunitcolor": "white"
          },
          "hoverlabel": {
           "align": "left"
          },
          "hovermode": "closest",
          "mapbox": {
           "style": "light"
          },
          "paper_bgcolor": "white",
          "plot_bgcolor": "#E5ECF6",
          "polar": {
           "angularaxis": {
            "gridcolor": "white",
            "linecolor": "white",
            "ticks": ""
           },
           "bgcolor": "#E5ECF6",
           "radialaxis": {
            "gridcolor": "white",
            "linecolor": "white",
            "ticks": ""
           }
          },
          "scene": {
           "xaxis": {
            "backgroundcolor": "#E5ECF6",
            "gridcolor": "white",
            "gridwidth": 2,
            "linecolor": "white",
            "showbackground": true,
            "ticks": "",
            "zerolinecolor": "white"
           },
           "yaxis": {
            "backgroundcolor": "#E5ECF6",
            "gridcolor": "white",
            "gridwidth": 2,
            "linecolor": "white",
            "showbackground": true,
            "ticks": "",
            "zerolinecolor": "white"
           },
           "zaxis": {
            "backgroundcolor": "#E5ECF6",
            "gridcolor": "white",
            "gridwidth": 2,
            "linecolor": "white",
            "showbackground": true,
            "ticks": "",
            "zerolinecolor": "white"
           }
          },
          "shapedefaults": {
           "line": {
            "color": "#2a3f5f"
           }
          },
          "ternary": {
           "aaxis": {
            "gridcolor": "white",
            "linecolor": "white",
            "ticks": ""
           },
           "baxis": {
            "gridcolor": "white",
            "linecolor": "white",
            "ticks": ""
           },
           "bgcolor": "#E5ECF6",
           "caxis": {
            "gridcolor": "white",
            "linecolor": "white",
            "ticks": ""
           }
          },
          "title": {
           "x": 0.05
          },
          "xaxis": {
           "automargin": true,
           "gridcolor": "white",
           "linecolor": "white",
           "ticks": "",
           "title": {
            "standoff": 15
           },
           "zerolinecolor": "white",
           "zerolinewidth": 2
          },
          "yaxis": {
           "automargin": true,
           "gridcolor": "white",
           "linecolor": "white",
           "ticks": "",
           "title": {
            "standoff": 15
           },
           "zerolinecolor": "white",
           "zerolinewidth": 2
          }
         }
        },
        "title": {
         "text": "monthly proportion of tweets by audience that were climate denying"
        },
        "xaxis": {
         "anchor": "y",
         "domain": [
          0,
          1
         ],
         "title": {
          "text": "month"
         }
        },
        "yaxis": {
         "anchor": "x",
         "domain": [
          0,
          1
         ],
         "title": {
          "text": "denier_audience"
         }
        }
       }
      }
     },
     "metadata": {},
     "output_type": "display_data"
    }
   ],
   "source": [
    "px.line(\n",
    "    final_df,\n",
    "    x='month', \n",
    "    y='denier_audience', \n",
    "    color='influencer',\n",
    "    title='monthly proportion of tweets by audience that were climate denying'\n",
    ")"
   ]
  },
  {
   "cell_type": "code",
   "execution_count": 52,
   "metadata": {},
   "outputs": [
    {
     "data": {
      "application/vnd.plotly.v1+json": {
       "config": {
        "plotlyServerURL": "https://plot.ly"
       },
       "data": [
        {
         "hovertemplate": "influencer=CNN<br>month=%{x}<br>denier_echoer=%{y}<extra></extra>",
         "legendgroup": "CNN",
         "line": {
          "color": "#636efa",
          "dash": "solid"
         },
         "marker": {
          "symbol": "circle"
         },
         "mode": "lines",
         "name": "CNN",
         "orientation": "v",
         "showlegend": true,
         "type": "scatter",
         "x": [
          "2017-09-01",
          "2017-10-01",
          "2017-11-01",
          "2017-12-01",
          "2018-01-01",
          "2018-02-01",
          "2018-03-01",
          "2018-04-01",
          "2018-05-01",
          "2018-06-01",
          "2018-07-01",
          "2018-08-01",
          "2018-09-01",
          "2018-10-01",
          "2018-11-01",
          "2018-12-01",
          "2019-01-01"
         ],
         "xaxis": "x",
         "y": [
          0.006478059180626624,
          0.014849306710427314,
          0.005101069716334025,
          0.01472863261997507,
          0.009448530983712964,
          0.014263514817342594,
          0.00498175828707744,
          0.00740060742523865,
          0.01824346660601524,
          0.004789300651349426,
          0.006734105545550886,
          0.012499332696951264,
          0.008337574918974116,
          0.0049540546486372935,
          0.016925243287630315,
          0.014422820606402981,
          0.016977830949215674
         ],
         "yaxis": "y"
        },
        {
         "hovertemplate": "influencer=CarolineLucas<br>month=%{x}<br>denier_echoer=%{y}<extra></extra>",
         "legendgroup": "CarolineLucas",
         "line": {
          "color": "#EF553B",
          "dash": "solid"
         },
         "marker": {
          "symbol": "circle"
         },
         "mode": "lines",
         "name": "CarolineLucas",
         "orientation": "v",
         "showlegend": true,
         "type": "scatter",
         "x": [
          "2017-09-01",
          "2017-10-01",
          "2017-11-01",
          "2017-12-01",
          "2018-01-01",
          "2018-02-01",
          "2018-05-01",
          "2018-06-01",
          "2018-07-01",
          "2018-08-01",
          "2018-09-01",
          "2018-10-01",
          "2018-11-01",
          "2018-12-01",
          "2019-01-01"
         ],
         "xaxis": "x",
         "y": [
          0.02546296296296296,
          0.016809615339502485,
          0.004594445371079542,
          0.008333333333333333,
          0.011995720951922974,
          0.13917061077304485,
          0.010154472428058458,
          0.007841065459858944,
          0.0036181139122315594,
          0.008244291230155267,
          0.010837386386065897,
          0.010024070565362139,
          0.017324757656117473,
          0.016747709734452974,
          0
         ],
         "yaxis": "y"
        },
        {
         "hovertemplate": "influencer=ClimateReality<br>month=%{x}<br>denier_echoer=%{y}<extra></extra>",
         "legendgroup": "ClimateReality",
         "line": {
          "color": "#00cc96",
          "dash": "solid"
         },
         "marker": {
          "symbol": "circle"
         },
         "mode": "lines",
         "name": "ClimateReality",
         "orientation": "v",
         "showlegend": true,
         "type": "scatter",
         "x": [
          "2017-09-01",
          "2017-10-01",
          "2017-11-01",
          "2017-12-01",
          "2018-01-01",
          "2018-02-01",
          "2018-03-01",
          "2018-04-01",
          "2018-05-01",
          "2018-06-01",
          "2018-07-01",
          "2018-08-01",
          "2018-09-01",
          "2018-10-01",
          "2018-11-01",
          "2018-12-01",
          "2019-01-01"
         ],
         "xaxis": "x",
         "y": [
          0.007417695543945533,
          0.01051978648425856,
          0.005229204737398737,
          0.009643058510190504,
          0.012207819190803604,
          0.009274434829712658,
          0.005400031710021166,
          0.00573796757919016,
          0.01062443078990056,
          0.007158841744493914,
          0.0030366514211126877,
          0.015082027240134473,
          0.02919531753607082,
          0.009982645909334998,
          0.008724331224331224,
          0.011496899343442259,
          0.007827187415675734
         ],
         "yaxis": "y"
        },
        {
         "hovertemplate": "influencer=EricHolthaus<br>month=%{x}<br>denier_echoer=%{y}<extra></extra>",
         "legendgroup": "EricHolthaus",
         "line": {
          "color": "#ab63fa",
          "dash": "solid"
         },
         "marker": {
          "symbol": "circle"
         },
         "mode": "lines",
         "name": "EricHolthaus",
         "orientation": "v",
         "showlegend": true,
         "type": "scatter",
         "x": [
          "2017-09-01",
          "2017-10-01",
          "2017-11-01",
          "2017-12-01",
          "2018-01-01",
          "2018-02-01",
          "2018-03-01",
          "2018-04-01",
          "2018-05-01",
          "2018-06-01",
          "2018-07-01",
          "2018-08-01",
          "2018-09-01",
          "2018-10-01",
          "2018-11-01",
          "2018-12-01",
          "2019-01-01"
         ],
         "xaxis": "x",
         "y": [
          0.005743674644638265,
          0.013039431177898577,
          0.009126290681079906,
          0.014471026160804293,
          0.05412171110625979,
          0.017018564642864012,
          0.0263926206693915,
          0.01740165320738946,
          0.01931502268540068,
          0.008494230186518814,
          0.015364155412298179,
          0.015310303827254703,
          0.015427436382933176,
          0.009892202225360946,
          0.022437826951053993,
          0.016568755074423385,
          0.00912648358344474
         ],
         "yaxis": "y"
        },
        {
         "hovertemplate": "influencer=GCCThinkActTank<br>month=%{x}<br>denier_echoer=%{y}<extra></extra>",
         "legendgroup": "GCCThinkActTank",
         "line": {
          "color": "#FFA15A",
          "dash": "solid"
         },
         "marker": {
          "symbol": "circle"
         },
         "mode": "lines",
         "name": "GCCThinkActTank",
         "orientation": "v",
         "showlegend": true,
         "type": "scatter",
         "x": [
          "2017-09-01",
          "2017-10-01",
          "2017-11-01",
          "2017-12-01",
          "2018-01-01",
          "2018-02-01",
          "2018-03-01",
          "2018-04-01",
          "2018-05-01",
          "2018-06-01",
          "2018-07-01",
          "2018-08-01",
          "2018-09-01",
          "2018-10-01",
          "2018-11-01",
          "2018-12-01",
          "2019-01-01"
         ],
         "xaxis": "x",
         "y": [
          0.004201680672268907,
          0.0033695526695951914,
          0.007453680918186222,
          0.014814558796701927,
          0.01470576020298452,
          0.013322323350551708,
          0.004673923320570467,
          0.013480323334911884,
          0.015977718818193994,
          0.004943961305810747,
          0.002077908854735775,
          0.006793567093722636,
          0.00847737128910142,
          0.006564610638971378,
          0.002399030445835126,
          0.014704275939625184,
          0.01687294377030183
         ],
         "yaxis": "y"
        },
        {
         "hovertemplate": "influencer=Greenpeace<br>month=%{x}<br>denier_echoer=%{y}<extra></extra>",
         "legendgroup": "Greenpeace",
         "line": {
          "color": "#19d3f3",
          "dash": "solid"
         },
         "marker": {
          "symbol": "circle"
         },
         "mode": "lines",
         "name": "Greenpeace",
         "orientation": "v",
         "showlegend": true,
         "type": "scatter",
         "x": [
          "2017-09-01",
          "2017-10-01",
          "2017-11-01",
          "2017-12-01",
          "2018-01-01",
          "2018-02-01",
          "2018-03-01",
          "2018-04-01",
          "2018-05-01",
          "2018-06-01",
          "2018-07-01",
          "2018-08-01",
          "2018-09-01",
          "2018-10-01",
          "2018-11-01",
          "2018-12-01",
          "2019-01-01"
         ],
         "xaxis": "x",
         "y": [
          0.011809485914969407,
          0.01243285003653563,
          0.006156287108665223,
          0.010530412049450415,
          0.009830577317116505,
          0.034027459824488626,
          0.0027757354089162144,
          0.009458082772627163,
          0.009122484817224373,
          0.0076452030765320565,
          0.006222834064778793,
          0.014021909882873487,
          0.019041228026328946,
          0.028426395418338617,
          0.007658566380397196,
          0.01414238586502007,
          0.009985666104536913
         ],
         "yaxis": "y"
        },
        {
         "hovertemplate": "influencer=JoyfullyECO<br>month=%{x}<br>denier_echoer=%{y}<extra></extra>",
         "legendgroup": "JoyfullyECO",
         "line": {
          "color": "#FF6692",
          "dash": "solid"
         },
         "marker": {
          "symbol": "circle"
         },
         "mode": "lines",
         "name": "JoyfullyECO",
         "orientation": "v",
         "showlegend": true,
         "type": "scatter",
         "x": [
          "2017-09-01",
          "2017-10-01",
          "2017-11-01",
          "2017-12-01",
          "2018-01-01",
          "2018-02-01",
          "2018-03-01",
          "2018-04-01",
          "2018-05-01",
          "2018-12-01"
         ],
         "xaxis": "x",
         "y": [
          0.009605205368981627,
          0.00952771590665819,
          0.009000259304765227,
          0.009839401976503421,
          0.012489421386321886,
          0.010690460401007195,
          0.011307840324455937,
          0.013206791523324534,
          0.00772064937436722,
          0
         ],
         "yaxis": "y"
        },
        {
         "hovertemplate": "influencer=MikeBloomberg<br>month=%{x}<br>denier_echoer=%{y}<extra></extra>",
         "legendgroup": "MikeBloomberg",
         "line": {
          "color": "#B6E880",
          "dash": "solid"
         },
         "marker": {
          "symbol": "circle"
         },
         "mode": "lines",
         "name": "MikeBloomberg",
         "orientation": "v",
         "showlegend": true,
         "type": "scatter",
         "x": [
          "2017-09-01",
          "2017-10-01",
          "2017-11-01",
          "2017-12-01",
          "2018-01-01",
          "2018-02-01",
          "2018-03-01",
          "2018-04-01",
          "2018-05-01",
          "2018-07-01",
          "2018-08-01",
          "2018-09-01",
          "2018-10-01",
          "2018-12-01",
          "2019-01-01"
         ],
         "xaxis": "x",
         "y": [
          0.005952380952380952,
          0.009804349090063376,
          0.0032580782322167903,
          0.008752099079629736,
          0.002060285377603371,
          0.011086384743026785,
          0.004495971371206715,
          0.00759493119550833,
          0.019585001820167456,
          0.002650349584086363,
          0,
          0.009537073880879007,
          0.007618697092381303,
          0.007645801479350607,
          0.00908119658119658
         ],
         "yaxis": "y"
        },
        {
         "hovertemplate": "influencer=NRDC<br>month=%{x}<br>denier_echoer=%{y}<extra></extra>",
         "legendgroup": "NRDC",
         "line": {
          "color": "#FF97FF",
          "dash": "solid"
         },
         "marker": {
          "symbol": "circle"
         },
         "mode": "lines",
         "name": "NRDC",
         "orientation": "v",
         "showlegend": true,
         "type": "scatter",
         "x": [
          "2017-09-01",
          "2017-10-01",
          "2017-11-01",
          "2017-12-01",
          "2018-01-01",
          "2018-02-01",
          "2018-03-01",
          "2018-04-01",
          "2018-05-01",
          "2018-06-01",
          "2018-07-01",
          "2018-08-01",
          "2018-09-01",
          "2018-10-01",
          "2018-11-01",
          "2018-12-01",
          "2019-01-01"
         ],
         "xaxis": "x",
         "y": [
          0.0075873333214486575,
          0.010727942169292426,
          0.004609173367392527,
          0.010314488090521632,
          0.010709826774807592,
          0.00815268949357099,
          0.005849648556632291,
          0.009025027946567267,
          0.010620023210044714,
          0.004822118683186901,
          0.03800322914011482,
          0.010237906671608758,
          0.010463527945495526,
          0.006230811797664916,
          0.012170528868807422,
          0.01212202281188436,
          0.01227636299032238
         ],
         "yaxis": "y"
        },
        {
         "hovertemplate": "influencer=PaulEDawson<br>month=%{x}<br>denier_echoer=%{y}<extra></extra>",
         "legendgroup": "PaulEDawson",
         "line": {
          "color": "#FECB52",
          "dash": "solid"
         },
         "marker": {
          "symbol": "circle"
         },
         "mode": "lines",
         "name": "PaulEDawson",
         "orientation": "v",
         "showlegend": true,
         "type": "scatter",
         "x": [
          "2017-09-01",
          "2017-10-01",
          "2017-11-01",
          "2017-12-01",
          "2018-01-01",
          "2018-02-01",
          "2018-03-01",
          "2018-04-01",
          "2018-05-01",
          "2018-06-01",
          "2018-07-01",
          "2018-08-01",
          "2018-09-01",
          "2018-10-01",
          "2018-11-01",
          "2018-12-01",
          "2019-01-01"
         ],
         "xaxis": "x",
         "y": [
          0.01115034539437586,
          0.01393949894729372,
          0.013078751798932024,
          0.011281749995506898,
          0.011496144740390596,
          0.015354656592629816,
          0.008993166444622506,
          0.012013498338816283,
          0.01756546013354742,
          0.010526871482791982,
          0.011281520588695517,
          0.01624413199241353,
          0.016027924008932132,
          0.01944890186185837,
          0.02782091082951776,
          0.018455803321352604,
          0.011634895718874346
         ],
         "yaxis": "y"
        },
        {
         "hovertemplate": "influencer=SenSanders<br>month=%{x}<br>denier_echoer=%{y}<extra></extra>",
         "legendgroup": "SenSanders",
         "line": {
          "color": "#636efa",
          "dash": "solid"
         },
         "marker": {
          "symbol": "circle"
         },
         "mode": "lines",
         "name": "SenSanders",
         "orientation": "v",
         "showlegend": true,
         "type": "scatter",
         "x": [
          "2017-09-01",
          "2017-12-01",
          "2018-01-01",
          "2018-02-01",
          "2018-03-01",
          "2018-04-01",
          "2018-05-01",
          "2018-07-01",
          "2018-08-01",
          "2018-09-01",
          "2018-10-01",
          "2018-11-01",
          "2018-12-01",
          "2019-01-01"
         ],
         "xaxis": "x",
         "y": [
          0.012780473890373093,
          0,
          0.009300319813589957,
          0.01204198494796433,
          0.0031833246118960403,
          0.0290133285471425,
          0.01388888888888889,
          0.014783680717285027,
          0.029243093938480704,
          0.023113132435971483,
          0.010263392295557587,
          0.046003088381710563,
          0.01186759721071049,
          0.00800775232525153
         ],
         "yaxis": "y"
        },
        {
         "hovertemplate": "influencer=UNFCCC<br>month=%{x}<br>denier_echoer=%{y}<extra></extra>",
         "legendgroup": "UNFCCC",
         "line": {
          "color": "#EF553B",
          "dash": "solid"
         },
         "marker": {
          "symbol": "circle"
         },
         "mode": "lines",
         "name": "UNFCCC",
         "orientation": "v",
         "showlegend": true,
         "type": "scatter",
         "x": [
          "2017-09-01",
          "2017-10-01",
          "2017-11-01",
          "2017-12-01",
          "2018-01-01",
          "2018-02-01",
          "2018-03-01",
          "2018-04-01",
          "2018-05-01",
          "2018-06-01",
          "2018-07-01",
          "2018-08-01",
          "2018-09-01",
          "2018-10-01",
          "2018-11-01",
          "2018-12-01"
         ],
         "xaxis": "x",
         "y": [
          0.008230245278459412,
          0.007359913751599197,
          0.004577930208746823,
          0.00797281290283367,
          0.006642838719707442,
          0.007608557338967685,
          0.0029397849464232215,
          0.0048780157371735725,
          0.011941466052950506,
          0,
          0.001476237584505134,
          0.007094321670277365,
          0.007746012962631297,
          0.004602698537527346,
          0.016846209346209343,
          0.009125746831803666
         ],
         "yaxis": "y"
        },
        {
         "hovertemplate": "influencer=annemariayritys<br>month=%{x}<br>denier_echoer=%{y}<extra></extra>",
         "legendgroup": "annemariayritys",
         "line": {
          "color": "#00cc96",
          "dash": "solid"
         },
         "marker": {
          "symbol": "circle"
         },
         "mode": "lines",
         "name": "annemariayritys",
         "orientation": "v",
         "showlegend": true,
         "type": "scatter",
         "x": [
          "2017-09-01",
          "2017-10-01",
          "2017-11-01",
          "2017-12-01",
          "2018-01-01",
          "2018-02-01",
          "2018-03-01",
          "2018-04-01",
          "2018-05-01",
          "2018-06-01",
          "2018-07-01",
          "2018-08-01",
          "2018-09-01",
          "2018-10-01",
          "2018-11-01",
          "2018-12-01",
          "2019-01-01"
         ],
         "xaxis": "x",
         "y": [
          0.01586826388086315,
          0.014689632164296189,
          0.010145201196523995,
          0.014628718264313707,
          0.011450426677105684,
          0.005302431556732515,
          0.009895840151113661,
          0.016738462651710213,
          0.01411298546853392,
          0.008213196872487023,
          0.021756377176800994,
          0.008109553464546511,
          0.021256524013613345,
          0.0043676145854967515,
          0.005916134348477583,
          0.024619325475402215,
          0.002062927931553043
         ],
         "yaxis": "y"
        },
        {
         "hovertemplate": "influencer=billmckibben<br>month=%{x}<br>denier_echoer=%{y}<extra></extra>",
         "legendgroup": "billmckibben",
         "line": {
          "color": "#ab63fa",
          "dash": "solid"
         },
         "marker": {
          "symbol": "circle"
         },
         "mode": "lines",
         "name": "billmckibben",
         "orientation": "v",
         "showlegend": true,
         "type": "scatter",
         "x": [
          "2017-09-01",
          "2017-10-01",
          "2017-11-01",
          "2017-12-01",
          "2018-01-01",
          "2018-02-01",
          "2018-03-01",
          "2018-04-01",
          "2018-05-01",
          "2018-06-01",
          "2018-07-01",
          "2018-08-01",
          "2018-09-01",
          "2018-10-01",
          "2018-11-01",
          "2018-12-01",
          "2019-01-01"
         ],
         "xaxis": "x",
         "y": [
          0.0002941176470588235,
          0.010459808622358562,
          0.004934519040162003,
          0.011979162218192927,
          0.012621818210363702,
          0.011455622234722114,
          0.008439236625729653,
          0.01388651408488178,
          0.07052469833297953,
          0.01691758415554659,
          0.014840132399782541,
          0.01696745862663746,
          0.05910297827472476,
          0,
          0.0400316763460442,
          0.015870018056949254,
          0.009829007188520577
         ],
         "yaxis": "y"
        },
        {
         "hovertemplate": "influencer=brianschatz<br>month=%{x}<br>denier_echoer=%{y}<extra></extra>",
         "legendgroup": "brianschatz",
         "line": {
          "color": "#FFA15A",
          "dash": "solid"
         },
         "marker": {
          "symbol": "circle"
         },
         "mode": "lines",
         "name": "brianschatz",
         "orientation": "v",
         "showlegend": true,
         "type": "scatter",
         "x": [
          "2017-09-01",
          "2017-10-01",
          "2017-12-01",
          "2018-01-01",
          "2018-04-01",
          "2018-05-01",
          "2018-06-01",
          "2018-10-01",
          "2018-11-01",
          "2018-12-01",
          "2019-01-01"
         ],
         "xaxis": "x",
         "y": [
          0,
          0.010509867889751794,
          0.021441256170972568,
          0.0028097587719298246,
          0.013343653329545816,
          0.012392421428486075,
          0.050678210678210676,
          0.00907426811146984,
          0.03319020314579922,
          0.016120493295675976,
          0.006146681673299249
         ],
         "yaxis": "y"
        },
        {
         "hovertemplate": "influencer=britneyspears<br>month=%{x}<br>denier_echoer=%{y}<extra></extra>",
         "legendgroup": "britneyspears",
         "line": {
          "color": "#19d3f3",
          "dash": "solid"
         },
         "marker": {
          "symbol": "circle"
         },
         "mode": "lines",
         "name": "britneyspears",
         "orientation": "v",
         "showlegend": true,
         "type": "scatter",
         "x": [
          "2017-09-01",
          "2017-10-01",
          "2017-11-01",
          "2017-12-01",
          "2018-01-01",
          "2018-02-01",
          "2018-03-01",
          "2018-04-01",
          "2018-05-01",
          "2018-06-01",
          "2018-07-01",
          "2018-08-01",
          "2018-09-01",
          "2018-10-01",
          "2018-11-01",
          "2018-12-01",
          "2019-01-01"
         ],
         "xaxis": "x",
         "y": [
          null,
          null,
          0,
          0,
          0.004629629629629629,
          0.25,
          0.5,
          null,
          0,
          0,
          null,
          null,
          0,
          0.047619047619047616,
          0,
          0.006899350649350649,
          null
         ],
         "yaxis": "y"
        },
        {
         "hovertemplate": "influencer=kylegriffin1<br>month=%{x}<br>denier_echoer=%{y}<extra></extra>",
         "legendgroup": "kylegriffin1",
         "line": {
          "color": "#FF6692",
          "dash": "solid"
         },
         "marker": {
          "symbol": "circle"
         },
         "mode": "lines",
         "name": "kylegriffin1",
         "orientation": "v",
         "showlegend": true,
         "type": "scatter",
         "x": [
          "2017-09-01",
          "2017-10-01",
          "2017-11-01",
          "2017-12-01",
          "2018-01-01",
          "2018-02-01",
          "2018-03-01",
          "2018-04-01",
          "2018-05-01",
          "2018-06-01",
          "2018-08-01",
          "2018-09-01",
          "2018-10-01",
          "2018-12-01",
          "2019-01-01"
         ],
         "xaxis": "x",
         "y": [
          0.004318455691509084,
          0.01049617633310427,
          0.006104580358894844,
          0.018388900181934065,
          0.011270543939862501,
          0.00886222045334149,
          0.009047688583982494,
          0.02238565658954867,
          0.005662325857566481,
          0.0028235030385049134,
          0.004213032126991011,
          0.009615384615384616,
          0.01542794895736072,
          0.0147366972153866,
          0
         ],
         "yaxis": "y"
        },
        {
         "hovertemplate": "influencer=nowthisnews<br>month=%{x}<br>denier_echoer=%{y}<extra></extra>",
         "legendgroup": "nowthisnews",
         "line": {
          "color": "#B6E880",
          "dash": "solid"
         },
         "marker": {
          "symbol": "circle"
         },
         "mode": "lines",
         "name": "nowthisnews",
         "orientation": "v",
         "showlegend": true,
         "type": "scatter",
         "x": [
          "2017-09-01",
          "2017-10-01",
          "2017-11-01",
          "2017-12-01",
          "2018-01-01",
          "2018-02-01",
          "2018-03-01",
          "2018-04-01",
          "2018-05-01",
          "2018-06-01",
          "2018-07-01",
          "2018-08-01",
          "2018-09-01",
          "2018-10-01",
          "2018-11-01",
          "2018-12-01",
          "2019-01-01"
         ],
         "xaxis": "x",
         "y": [
          0,
          0.008586291487933752,
          0.00433519161815012,
          0.01324451339780609,
          0.007421404264282343,
          0.004813216906191894,
          0.007131396420882275,
          0.013950147386997286,
          0.006023092861086282,
          0,
          0.0032467532467532465,
          0,
          0.012324732069599997,
          0.005553378581352741,
          0.013433964869785323,
          0.010614866744961196,
          0.0035650156203407895
         ],
         "yaxis": "y"
        },
        {
         "hovertemplate": "influencer=nytimes<br>month=%{x}<br>denier_echoer=%{y}<extra></extra>",
         "legendgroup": "nytimes",
         "line": {
          "color": "#FF97FF",
          "dash": "solid"
         },
         "marker": {
          "symbol": "circle"
         },
         "mode": "lines",
         "name": "nytimes",
         "orientation": "v",
         "showlegend": true,
         "type": "scatter",
         "x": [
          "2017-09-01",
          "2017-10-01",
          "2017-11-01",
          "2017-12-01",
          "2018-01-01",
          "2018-02-01",
          "2018-03-01",
          "2018-04-01",
          "2018-05-01",
          "2018-06-01",
          "2018-07-01",
          "2018-08-01",
          "2018-09-01",
          "2018-10-01",
          "2018-11-01",
          "2018-12-01",
          "2019-01-01"
         ],
         "xaxis": "x",
         "y": [
          0.005050505050505051,
          0.011927209318140218,
          0.008021709235211392,
          0.011329397200710113,
          0.00978985556966612,
          0.009010346980135043,
          0.005108371889555492,
          0.004429683491308213,
          0.016337726763863924,
          0,
          0,
          0.0072721219107015934,
          0.008598341982938013,
          0.006187124097180739,
          0.028375828015542594,
          0.010076914714267849,
          0
         ],
         "yaxis": "y"
        },
        {
         "hovertemplate": "influencer=tedlieu<br>month=%{x}<br>denier_echoer=%{y}<extra></extra>",
         "legendgroup": "tedlieu",
         "line": {
          "color": "#FECB52",
          "dash": "solid"
         },
         "marker": {
          "symbol": "circle"
         },
         "mode": "lines",
         "name": "tedlieu",
         "orientation": "v",
         "showlegend": true,
         "type": "scatter",
         "x": [
          "2017-09-01",
          "2017-10-01",
          "2017-12-01",
          "2018-01-01",
          "2018-03-01",
          "2018-04-01",
          "2018-08-01",
          "2018-10-01",
          "2018-11-01",
          "2018-12-01"
         ],
         "xaxis": "x",
         "y": [
          0.02629712015525164,
          0.014901004221860213,
          0.027945925158009203,
          0.0005165289256198347,
          0.01151441392030673,
          0.027328030586400227,
          0.010047295551895515,
          0,
          null,
          0.017577313663722165
         ],
         "yaxis": "y"
        },
        {
         "hovertemplate": "influencer=thehill<br>month=%{x}<br>denier_echoer=%{y}<extra></extra>",
         "legendgroup": "thehill",
         "line": {
          "color": "#636efa",
          "dash": "solid"
         },
         "marker": {
          "symbol": "circle"
         },
         "mode": "lines",
         "name": "thehill",
         "orientation": "v",
         "showlegend": true,
         "type": "scatter",
         "x": [
          "2017-09-01",
          "2017-10-01",
          "2017-11-01",
          "2017-12-01",
          "2018-01-01",
          "2018-02-01",
          "2018-03-01",
          "2018-04-01",
          "2018-05-01",
          "2018-06-01",
          "2018-07-01",
          "2018-08-01",
          "2018-09-01",
          "2018-10-01",
          "2018-11-01",
          "2018-12-01",
          "2019-01-01"
         ],
         "xaxis": "x",
         "y": [
          0.003680396643783372,
          0.0125924406441253,
          0.006772850184050789,
          0.05186698338884641,
          0.014528618339423966,
          0.017734997708833453,
          0.0075644140260645,
          0.025371358001840823,
          0.015034168628868536,
          0.01640180548291136,
          0.009781375338728249,
          0.014010246133685025,
          0.08849113707848158,
          0.006386909300762377,
          0.031200056778246655,
          0.019253850215488127,
          0.002781169447836114
         ],
         "yaxis": "y"
        },
        {
         "hovertemplate": "influencer=wef<br>month=%{x}<br>denier_echoer=%{y}<extra></extra>",
         "legendgroup": "wef",
         "line": {
          "color": "#EF553B",
          "dash": "solid"
         },
         "marker": {
          "symbol": "circle"
         },
         "mode": "lines",
         "name": "wef",
         "orientation": "v",
         "showlegend": true,
         "type": "scatter",
         "x": [
          "2017-09-01",
          "2017-10-01",
          "2017-11-01",
          "2017-12-01",
          "2018-01-01",
          "2018-02-01",
          "2018-03-01",
          "2018-04-01",
          "2018-05-01",
          "2018-06-01",
          "2018-07-01",
          "2018-08-01",
          "2018-09-01",
          "2018-10-01",
          "2018-11-01",
          "2018-12-01",
          "2019-01-01"
         ],
         "xaxis": "x",
         "y": [
          0.00915986333849341,
          0.006262593897070628,
          0.004792357038491152,
          0.007906619513509409,
          0.009322275335736083,
          0.0073216863156642074,
          0.00368178444649394,
          0.009151161200100965,
          0.00973189115395511,
          0.004548518030095295,
          0.014956156915222453,
          0.013258291598785433,
          0.008501852231002914,
          0.006038268692079938,
          0.015625,
          0.0085776424047067,
          0.0022619491724605364
         ],
         "yaxis": "y"
        },
        {
         "hovertemplate": "influencer=DanRather<br>month=%{x}<br>denier_echoer=%{y}<extra></extra>",
         "legendgroup": "DanRather",
         "line": {
          "color": "#00cc96",
          "dash": "solid"
         },
         "marker": {
          "symbol": "circle"
         },
         "mode": "lines",
         "name": "DanRather",
         "orientation": "v",
         "showlegend": true,
         "type": "scatter",
         "x": [
          "2017-10-01",
          "2018-01-01",
          "2018-04-01",
          "2018-05-01",
          "2018-07-01",
          "2018-10-01",
          "2018-11-01",
          "2018-12-01",
          "2019-01-01"
         ],
         "xaxis": "x",
         "y": [
          0.011365878953303434,
          0.0010009635832004253,
          0.0090996050706257,
          0.007355047143547315,
          0.015073805578361918,
          0.00516023978132273,
          0.06332282913165266,
          0.009763483479212869,
          0
         ],
         "yaxis": "y"
        },
        {
         "hovertemplate": "influencer=KamalaHarris<br>month=%{x}<br>denier_echoer=%{y}<extra></extra>",
         "legendgroup": "KamalaHarris",
         "line": {
          "color": "#ab63fa",
          "dash": "solid"
         },
         "marker": {
          "symbol": "circle"
         },
         "mode": "lines",
         "name": "KamalaHarris",
         "orientation": "v",
         "showlegend": true,
         "type": "scatter",
         "x": [
          "2017-10-01",
          "2017-11-01",
          "2018-02-01",
          "2018-03-01",
          "2018-05-01",
          "2018-06-01",
          "2018-08-01",
          "2018-09-01",
          "2018-10-01",
          "2018-11-01",
          "2018-12-01",
          "2019-01-01"
         ],
         "xaxis": "x",
         "y": [
          0.009819237968700378,
          0,
          0.007997075896572831,
          0.0018371549218354321,
          0.007199097456433557,
          0,
          0.002770972842970392,
          0.009563666734583524,
          0.006196008177728043,
          0.02074853758937213,
          0.0106239635899775,
          0.003619435031598363
         ],
         "yaxis": "y"
        },
        {
         "hovertemplate": "influencer=joekennedy<br>month=%{x}<br>denier_echoer=%{y}<extra></extra>",
         "legendgroup": "joekennedy",
         "line": {
          "color": "#FFA15A",
          "dash": "solid"
         },
         "marker": {
          "symbol": "circle"
         },
         "mode": "lines",
         "name": "joekennedy",
         "orientation": "v",
         "showlegend": true,
         "type": "scatter",
         "x": [
          "2018-02-01",
          "2018-03-01",
          "2018-04-01",
          "2018-05-01",
          "2018-06-01",
          "2018-11-01",
          "2018-12-01",
          "2019-01-01"
         ],
         "xaxis": "x",
         "y": [
          0.010385416322834502,
          0,
          0.011254002450218735,
          0.01272912247356721,
          0.004121920917957565,
          0.03365384615384615,
          0.013708951166094788,
          0
         ],
         "yaxis": "y"
        }
       ],
       "layout": {
        "legend": {
         "title": {
          "text": "influencer"
         },
         "tracegroupgap": 0
        },
        "template": {
         "data": {
          "bar": [
           {
            "error_x": {
             "color": "#2a3f5f"
            },
            "error_y": {
             "color": "#2a3f5f"
            },
            "marker": {
             "line": {
              "color": "#E5ECF6",
              "width": 0.5
             },
             "pattern": {
              "fillmode": "overlay",
              "size": 10,
              "solidity": 0.2
             }
            },
            "type": "bar"
           }
          ],
          "barpolar": [
           {
            "marker": {
             "line": {
              "color": "#E5ECF6",
              "width": 0.5
             },
             "pattern": {
              "fillmode": "overlay",
              "size": 10,
              "solidity": 0.2
             }
            },
            "type": "barpolar"
           }
          ],
          "carpet": [
           {
            "aaxis": {
             "endlinecolor": "#2a3f5f",
             "gridcolor": "white",
             "linecolor": "white",
             "minorgridcolor": "white",
             "startlinecolor": "#2a3f5f"
            },
            "baxis": {
             "endlinecolor": "#2a3f5f",
             "gridcolor": "white",
             "linecolor": "white",
             "minorgridcolor": "white",
             "startlinecolor": "#2a3f5f"
            },
            "type": "carpet"
           }
          ],
          "choropleth": [
           {
            "colorbar": {
             "outlinewidth": 0,
             "ticks": ""
            },
            "type": "choropleth"
           }
          ],
          "contour": [
           {
            "colorbar": {
             "outlinewidth": 0,
             "ticks": ""
            },
            "colorscale": [
             [
              0,
              "#0d0887"
             ],
             [
              0.1111111111111111,
              "#46039f"
             ],
             [
              0.2222222222222222,
              "#7201a8"
             ],
             [
              0.3333333333333333,
              "#9c179e"
             ],
             [
              0.4444444444444444,
              "#bd3786"
             ],
             [
              0.5555555555555556,
              "#d8576b"
             ],
             [
              0.6666666666666666,
              "#ed7953"
             ],
             [
              0.7777777777777778,
              "#fb9f3a"
             ],
             [
              0.8888888888888888,
              "#fdca26"
             ],
             [
              1,
              "#f0f921"
             ]
            ],
            "type": "contour"
           }
          ],
          "contourcarpet": [
           {
            "colorbar": {
             "outlinewidth": 0,
             "ticks": ""
            },
            "type": "contourcarpet"
           }
          ],
          "heatmap": [
           {
            "colorbar": {
             "outlinewidth": 0,
             "ticks": ""
            },
            "colorscale": [
             [
              0,
              "#0d0887"
             ],
             [
              0.1111111111111111,
              "#46039f"
             ],
             [
              0.2222222222222222,
              "#7201a8"
             ],
             [
              0.3333333333333333,
              "#9c179e"
             ],
             [
              0.4444444444444444,
              "#bd3786"
             ],
             [
              0.5555555555555556,
              "#d8576b"
             ],
             [
              0.6666666666666666,
              "#ed7953"
             ],
             [
              0.7777777777777778,
              "#fb9f3a"
             ],
             [
              0.8888888888888888,
              "#fdca26"
             ],
             [
              1,
              "#f0f921"
             ]
            ],
            "type": "heatmap"
           }
          ],
          "heatmapgl": [
           {
            "colorbar": {
             "outlinewidth": 0,
             "ticks": ""
            },
            "colorscale": [
             [
              0,
              "#0d0887"
             ],
             [
              0.1111111111111111,
              "#46039f"
             ],
             [
              0.2222222222222222,
              "#7201a8"
             ],
             [
              0.3333333333333333,
              "#9c179e"
             ],
             [
              0.4444444444444444,
              "#bd3786"
             ],
             [
              0.5555555555555556,
              "#d8576b"
             ],
             [
              0.6666666666666666,
              "#ed7953"
             ],
             [
              0.7777777777777778,
              "#fb9f3a"
             ],
             [
              0.8888888888888888,
              "#fdca26"
             ],
             [
              1,
              "#f0f921"
             ]
            ],
            "type": "heatmapgl"
           }
          ],
          "histogram": [
           {
            "marker": {
             "pattern": {
              "fillmode": "overlay",
              "size": 10,
              "solidity": 0.2
             }
            },
            "type": "histogram"
           }
          ],
          "histogram2d": [
           {
            "colorbar": {
             "outlinewidth": 0,
             "ticks": ""
            },
            "colorscale": [
             [
              0,
              "#0d0887"
             ],
             [
              0.1111111111111111,
              "#46039f"
             ],
             [
              0.2222222222222222,
              "#7201a8"
             ],
             [
              0.3333333333333333,
              "#9c179e"
             ],
             [
              0.4444444444444444,
              "#bd3786"
             ],
             [
              0.5555555555555556,
              "#d8576b"
             ],
             [
              0.6666666666666666,
              "#ed7953"
             ],
             [
              0.7777777777777778,
              "#fb9f3a"
             ],
             [
              0.8888888888888888,
              "#fdca26"
             ],
             [
              1,
              "#f0f921"
             ]
            ],
            "type": "histogram2d"
           }
          ],
          "histogram2dcontour": [
           {
            "colorbar": {
             "outlinewidth": 0,
             "ticks": ""
            },
            "colorscale": [
             [
              0,
              "#0d0887"
             ],
             [
              0.1111111111111111,
              "#46039f"
             ],
             [
              0.2222222222222222,
              "#7201a8"
             ],
             [
              0.3333333333333333,
              "#9c179e"
             ],
             [
              0.4444444444444444,
              "#bd3786"
             ],
             [
              0.5555555555555556,
              "#d8576b"
             ],
             [
              0.6666666666666666,
              "#ed7953"
             ],
             [
              0.7777777777777778,
              "#fb9f3a"
             ],
             [
              0.8888888888888888,
              "#fdca26"
             ],
             [
              1,
              "#f0f921"
             ]
            ],
            "type": "histogram2dcontour"
           }
          ],
          "mesh3d": [
           {
            "colorbar": {
             "outlinewidth": 0,
             "ticks": ""
            },
            "type": "mesh3d"
           }
          ],
          "parcoords": [
           {
            "line": {
             "colorbar": {
              "outlinewidth": 0,
              "ticks": ""
             }
            },
            "type": "parcoords"
           }
          ],
          "pie": [
           {
            "automargin": true,
            "type": "pie"
           }
          ],
          "scatter": [
           {
            "fillpattern": {
             "fillmode": "overlay",
             "size": 10,
             "solidity": 0.2
            },
            "type": "scatter"
           }
          ],
          "scatter3d": [
           {
            "line": {
             "colorbar": {
              "outlinewidth": 0,
              "ticks": ""
             }
            },
            "marker": {
             "colorbar": {
              "outlinewidth": 0,
              "ticks": ""
             }
            },
            "type": "scatter3d"
           }
          ],
          "scattercarpet": [
           {
            "marker": {
             "colorbar": {
              "outlinewidth": 0,
              "ticks": ""
             }
            },
            "type": "scattercarpet"
           }
          ],
          "scattergeo": [
           {
            "marker": {
             "colorbar": {
              "outlinewidth": 0,
              "ticks": ""
             }
            },
            "type": "scattergeo"
           }
          ],
          "scattergl": [
           {
            "marker": {
             "colorbar": {
              "outlinewidth": 0,
              "ticks": ""
             }
            },
            "type": "scattergl"
           }
          ],
          "scattermapbox": [
           {
            "marker": {
             "colorbar": {
              "outlinewidth": 0,
              "ticks": ""
             }
            },
            "type": "scattermapbox"
           }
          ],
          "scatterpolar": [
           {
            "marker": {
             "colorbar": {
              "outlinewidth": 0,
              "ticks": ""
             }
            },
            "type": "scatterpolar"
           }
          ],
          "scatterpolargl": [
           {
            "marker": {
             "colorbar": {
              "outlinewidth": 0,
              "ticks": ""
             }
            },
            "type": "scatterpolargl"
           }
          ],
          "scatterternary": [
           {
            "marker": {
             "colorbar": {
              "outlinewidth": 0,
              "ticks": ""
             }
            },
            "type": "scatterternary"
           }
          ],
          "surface": [
           {
            "colorbar": {
             "outlinewidth": 0,
             "ticks": ""
            },
            "colorscale": [
             [
              0,
              "#0d0887"
             ],
             [
              0.1111111111111111,
              "#46039f"
             ],
             [
              0.2222222222222222,
              "#7201a8"
             ],
             [
              0.3333333333333333,
              "#9c179e"
             ],
             [
              0.4444444444444444,
              "#bd3786"
             ],
             [
              0.5555555555555556,
              "#d8576b"
             ],
             [
              0.6666666666666666,
              "#ed7953"
             ],
             [
              0.7777777777777778,
              "#fb9f3a"
             ],
             [
              0.8888888888888888,
              "#fdca26"
             ],
             [
              1,
              "#f0f921"
             ]
            ],
            "type": "surface"
           }
          ],
          "table": [
           {
            "cells": {
             "fill": {
              "color": "#EBF0F8"
             },
             "line": {
              "color": "white"
             }
            },
            "header": {
             "fill": {
              "color": "#C8D4E3"
             },
             "line": {
              "color": "white"
             }
            },
            "type": "table"
           }
          ]
         },
         "layout": {
          "annotationdefaults": {
           "arrowcolor": "#2a3f5f",
           "arrowhead": 0,
           "arrowwidth": 1
          },
          "autotypenumbers": "strict",
          "coloraxis": {
           "colorbar": {
            "outlinewidth": 0,
            "ticks": ""
           }
          },
          "colorscale": {
           "diverging": [
            [
             0,
             "#8e0152"
            ],
            [
             0.1,
             "#c51b7d"
            ],
            [
             0.2,
             "#de77ae"
            ],
            [
             0.3,
             "#f1b6da"
            ],
            [
             0.4,
             "#fde0ef"
            ],
            [
             0.5,
             "#f7f7f7"
            ],
            [
             0.6,
             "#e6f5d0"
            ],
            [
             0.7,
             "#b8e186"
            ],
            [
             0.8,
             "#7fbc41"
            ],
            [
             0.9,
             "#4d9221"
            ],
            [
             1,
             "#276419"
            ]
           ],
           "sequential": [
            [
             0,
             "#0d0887"
            ],
            [
             0.1111111111111111,
             "#46039f"
            ],
            [
             0.2222222222222222,
             "#7201a8"
            ],
            [
             0.3333333333333333,
             "#9c179e"
            ],
            [
             0.4444444444444444,
             "#bd3786"
            ],
            [
             0.5555555555555556,
             "#d8576b"
            ],
            [
             0.6666666666666666,
             "#ed7953"
            ],
            [
             0.7777777777777778,
             "#fb9f3a"
            ],
            [
             0.8888888888888888,
             "#fdca26"
            ],
            [
             1,
             "#f0f921"
            ]
           ],
           "sequentialminus": [
            [
             0,
             "#0d0887"
            ],
            [
             0.1111111111111111,
             "#46039f"
            ],
            [
             0.2222222222222222,
             "#7201a8"
            ],
            [
             0.3333333333333333,
             "#9c179e"
            ],
            [
             0.4444444444444444,
             "#bd3786"
            ],
            [
             0.5555555555555556,
             "#d8576b"
            ],
            [
             0.6666666666666666,
             "#ed7953"
            ],
            [
             0.7777777777777778,
             "#fb9f3a"
            ],
            [
             0.8888888888888888,
             "#fdca26"
            ],
            [
             1,
             "#f0f921"
            ]
           ]
          },
          "colorway": [
           "#636efa",
           "#EF553B",
           "#00cc96",
           "#ab63fa",
           "#FFA15A",
           "#19d3f3",
           "#FF6692",
           "#B6E880",
           "#FF97FF",
           "#FECB52"
          ],
          "font": {
           "color": "#2a3f5f"
          },
          "geo": {
           "bgcolor": "white",
           "lakecolor": "white",
           "landcolor": "#E5ECF6",
           "showlakes": true,
           "showland": true,
           "subunitcolor": "white"
          },
          "hoverlabel": {
           "align": "left"
          },
          "hovermode": "closest",
          "mapbox": {
           "style": "light"
          },
          "paper_bgcolor": "white",
          "plot_bgcolor": "#E5ECF6",
          "polar": {
           "angularaxis": {
            "gridcolor": "white",
            "linecolor": "white",
            "ticks": ""
           },
           "bgcolor": "#E5ECF6",
           "radialaxis": {
            "gridcolor": "white",
            "linecolor": "white",
            "ticks": ""
           }
          },
          "scene": {
           "xaxis": {
            "backgroundcolor": "#E5ECF6",
            "gridcolor": "white",
            "gridwidth": 2,
            "linecolor": "white",
            "showbackground": true,
            "ticks": "",
            "zerolinecolor": "white"
           },
           "yaxis": {
            "backgroundcolor": "#E5ECF6",
            "gridcolor": "white",
            "gridwidth": 2,
            "linecolor": "white",
            "showbackground": true,
            "ticks": "",
            "zerolinecolor": "white"
           },
           "zaxis": {
            "backgroundcolor": "#E5ECF6",
            "gridcolor": "white",
            "gridwidth": 2,
            "linecolor": "white",
            "showbackground": true,
            "ticks": "",
            "zerolinecolor": "white"
           }
          },
          "shapedefaults": {
           "line": {
            "color": "#2a3f5f"
           }
          },
          "ternary": {
           "aaxis": {
            "gridcolor": "white",
            "linecolor": "white",
            "ticks": ""
           },
           "baxis": {
            "gridcolor": "white",
            "linecolor": "white",
            "ticks": ""
           },
           "bgcolor": "#E5ECF6",
           "caxis": {
            "gridcolor": "white",
            "linecolor": "white",
            "ticks": ""
           }
          },
          "title": {
           "x": 0.05
          },
          "xaxis": {
           "automargin": true,
           "gridcolor": "white",
           "linecolor": "white",
           "ticks": "",
           "title": {
            "standoff": 15
           },
           "zerolinecolor": "white",
           "zerolinewidth": 2
          },
          "yaxis": {
           "automargin": true,
           "gridcolor": "white",
           "linecolor": "white",
           "ticks": "",
           "title": {
            "standoff": 15
           },
           "zerolinecolor": "white",
           "zerolinewidth": 2
          }
         }
        },
        "title": {
         "text": "monthly proportion of tweets by echoers that were climate denying"
        },
        "xaxis": {
         "anchor": "y",
         "domain": [
          0,
          1
         ],
         "title": {
          "text": "month"
         }
        },
        "yaxis": {
         "anchor": "x",
         "domain": [
          0,
          1
         ],
         "title": {
          "text": "denier_echoer"
         }
        }
       }
      }
     },
     "metadata": {},
     "output_type": "display_data"
    }
   ],
   "source": [
    "px.line(\n",
    "    final_df,\n",
    "    x='month', \n",
    "    y='denier_echoer', \n",
    "    color='influencer',\n",
    "    title='monthly proportion of tweets by echoers that were climate denying'\n",
    ")"
   ]
  },
  {
   "cell_type": "code",
   "execution_count": 55,
   "metadata": {},
   "outputs": [
    {
     "data": {
      "application/vnd.plotly.v1+json": {
       "config": {
        "plotlyServerURL": "https://plot.ly"
       },
       "data": [
        {
         "hovertemplate": "influencer=CNN<br>month=%{x}<br>sentiment_audience=%{y}<extra></extra>",
         "legendgroup": "CNN",
         "line": {
          "color": "#636efa",
          "dash": "solid"
         },
         "marker": {
          "symbol": "circle"
         },
         "mode": "lines",
         "name": "CNN",
         "orientation": "v",
         "showlegend": true,
         "type": "scatter",
         "x": [
          "2017-09-01",
          "2017-10-01",
          "2017-11-01",
          "2017-12-01",
          "2018-01-01",
          "2018-02-01",
          "2018-03-01",
          "2018-04-01",
          "2018-05-01",
          "2018-06-01",
          "2018-07-01",
          "2018-08-01",
          "2018-09-01",
          "2018-10-01",
          "2018-11-01",
          "2018-12-01",
          "2019-01-01"
         ],
         "xaxis": "x",
         "y": [
          -0.09869224550006601,
          -0.15006746780606728,
          -0.13294040869615692,
          -0.17239431638792696,
          -0.11414693266431936,
          -0.08469214894539935,
          -0.018428429240329926,
          0.0899453991237054,
          -0.0653040488487113,
          -0.048356790209690984,
          0.23972931462417948,
          -0.04321725334782589,
          -0.13525759395095152,
          -0.03965123809147631,
          -0.14757454068266715,
          -0.053041869718718486,
          -0.03141755745546517
         ],
         "yaxis": "y"
        },
        {
         "hovertemplate": "influencer=CarolineLucas<br>month=%{x}<br>sentiment_audience=%{y}<extra></extra>",
         "legendgroup": "CarolineLucas",
         "line": {
          "color": "#EF553B",
          "dash": "solid"
         },
         "marker": {
          "symbol": "circle"
         },
         "mode": "lines",
         "name": "CarolineLucas",
         "orientation": "v",
         "showlegend": true,
         "type": "scatter",
         "x": [
          "2017-09-01",
          "2017-10-01",
          "2017-11-01",
          "2017-12-01",
          "2018-01-01",
          "2018-02-01",
          "2018-05-01",
          "2018-06-01",
          "2018-07-01",
          "2018-08-01",
          "2018-09-01",
          "2018-10-01",
          "2018-11-01",
          "2018-12-01",
          "2019-01-01"
         ],
         "xaxis": "x",
         "y": [
          0.2463798745019501,
          -0.21679537785723996,
          -0.0943892851766193,
          -0.052275502915647296,
          -0.06809042867862425,
          0.0026155227162535377,
          -0.02931702396392336,
          -0.06088943638424096,
          -0.052585859355073226,
          -0.07595061061134746,
          0.01621743155352169,
          -0.012953071421475008,
          -0.07070213513117095,
          -0.04622517843681784,
          0.004212503904695578
         ],
         "yaxis": "y"
        },
        {
         "hovertemplate": "influencer=ClimateReality<br>month=%{x}<br>sentiment_audience=%{y}<extra></extra>",
         "legendgroup": "ClimateReality",
         "line": {
          "color": "#00cc96",
          "dash": "solid"
         },
         "marker": {
          "symbol": "circle"
         },
         "mode": "lines",
         "name": "ClimateReality",
         "orientation": "v",
         "showlegend": true,
         "type": "scatter",
         "x": [
          "2017-09-01",
          "2017-10-01",
          "2017-11-01",
          "2017-12-01",
          "2018-01-01",
          "2018-02-01",
          "2018-03-01",
          "2018-04-01",
          "2018-05-01",
          "2018-06-01",
          "2018-07-01",
          "2018-08-01",
          "2018-09-01",
          "2018-10-01",
          "2018-11-01",
          "2018-12-01",
          "2019-01-01"
         ],
         "xaxis": "x",
         "y": [
          -0.0002324272728863558,
          0.01867757603373404,
          0.016666996895395574,
          0.025540341062631162,
          0.030229678591481398,
          0.055366497558097576,
          0.05151204626333012,
          -0.01410006593822179,
          0.01615296582913535,
          0.07077717614521382,
          0.08259614572431713,
          0.04810684904677644,
          0.024435046817739475,
          0.04325478762786001,
          -0.09860008620758687,
          0.05999521951387305,
          0.06971678335893185
         ],
         "yaxis": "y"
        },
        {
         "hovertemplate": "influencer=EricHolthaus<br>month=%{x}<br>sentiment_audience=%{y}<extra></extra>",
         "legendgroup": "EricHolthaus",
         "line": {
          "color": "#ab63fa",
          "dash": "solid"
         },
         "marker": {
          "symbol": "circle"
         },
         "mode": "lines",
         "name": "EricHolthaus",
         "orientation": "v",
         "showlegend": true,
         "type": "scatter",
         "x": [
          "2017-09-01",
          "2017-10-01",
          "2017-11-01",
          "2017-12-01",
          "2018-01-01",
          "2018-02-01",
          "2018-03-01",
          "2018-04-01",
          "2018-05-01",
          "2018-06-01",
          "2018-07-01",
          "2018-08-01",
          "2018-09-01",
          "2018-10-01",
          "2018-11-01",
          "2018-12-01",
          "2019-01-01"
         ],
         "xaxis": "x",
         "y": [
          0.01369818266389934,
          -0.03308310011695588,
          0.0012113104889601575,
          -0.0859111840583266,
          -0.039444078648010944,
          -0.016329810836225783,
          -0.0051765545900849625,
          -0.008339349657736828,
          -0.0038552387046860356,
          0.036173852543539255,
          0.05257638924672677,
          -0.022841466532241346,
          0.02504244932838381,
          -0.06147259425063559,
          -0.02573326878470626,
          -0.033976206966475304,
          0.056812513000903425
         ],
         "yaxis": "y"
        },
        {
         "hovertemplate": "influencer=GCCThinkActTank<br>month=%{x}<br>sentiment_audience=%{y}<extra></extra>",
         "legendgroup": "GCCThinkActTank",
         "line": {
          "color": "#FFA15A",
          "dash": "solid"
         },
         "marker": {
          "symbol": "circle"
         },
         "mode": "lines",
         "name": "GCCThinkActTank",
         "orientation": "v",
         "showlegend": true,
         "type": "scatter",
         "x": [
          "2017-09-01",
          "2017-10-01",
          "2017-11-01",
          "2017-12-01",
          "2018-01-01",
          "2018-02-01",
          "2018-03-01",
          "2018-04-01",
          "2018-05-01",
          "2018-06-01",
          "2018-07-01",
          "2018-08-01",
          "2018-09-01",
          "2018-10-01",
          "2018-11-01",
          "2018-12-01",
          "2019-01-01"
         ],
         "xaxis": "x",
         "y": [
          -0.03909746473553491,
          0.044675594791563994,
          0.11718081384136159,
          0.08097397710364591,
          0.02641680422126984,
          0.052678239883094384,
          0.0918639991014087,
          0.06070357883454255,
          0.0811492223466473,
          0.06895511775342551,
          0.3141394372147372,
          0.04507237214578838,
          0.07272260719447941,
          -0.06677930666081822,
          -0.19618693182961744,
          -0.018213535645887888,
          0.058821273955849615
         ],
         "yaxis": "y"
        },
        {
         "hovertemplate": "influencer=Greenpeace<br>month=%{x}<br>sentiment_audience=%{y}<extra></extra>",
         "legendgroup": "Greenpeace",
         "line": {
          "color": "#19d3f3",
          "dash": "solid"
         },
         "marker": {
          "symbol": "circle"
         },
         "mode": "lines",
         "name": "Greenpeace",
         "orientation": "v",
         "showlegend": true,
         "type": "scatter",
         "x": [
          "2017-09-01",
          "2017-10-01",
          "2017-11-01",
          "2017-12-01",
          "2018-01-01",
          "2018-02-01",
          "2018-03-01",
          "2018-04-01",
          "2018-05-01",
          "2018-06-01",
          "2018-07-01",
          "2018-08-01",
          "2018-09-01",
          "2018-10-01",
          "2018-11-01",
          "2018-12-01",
          "2019-01-01"
         ],
         "xaxis": "x",
         "y": [
          0.016633612928365002,
          0.002633978639302528,
          0.05518026452876847,
          -0.029790967819462617,
          0.001339471487497279,
          0.0955756959174242,
          0.012887404379080484,
          -0.058318452679593326,
          0.002519447834863512,
          -0.02094174921547309,
          -0.02054866190193372,
          0.017635191016738713,
          0.04655703278304643,
          -0.02860576605362534,
          -0.05263156350602891,
          -0.012929489244676457,
          0.0416714629536481
         ],
         "yaxis": "y"
        },
        {
         "hovertemplate": "influencer=JoyfullyECO<br>month=%{x}<br>sentiment_audience=%{y}<extra></extra>",
         "legendgroup": "JoyfullyECO",
         "line": {
          "color": "#FF6692",
          "dash": "solid"
         },
         "marker": {
          "symbol": "circle"
         },
         "mode": "lines",
         "name": "JoyfullyECO",
         "orientation": "v",
         "showlegend": true,
         "type": "scatter",
         "x": [
          "2017-09-01",
          "2017-10-01",
          "2017-11-01",
          "2017-12-01",
          "2018-01-01",
          "2018-02-01",
          "2018-03-01",
          "2018-04-01",
          "2018-05-01",
          "2018-12-01"
         ],
         "xaxis": "x",
         "y": [
          0.07776087324337136,
          0.03513838811750643,
          0.04213478866906567,
          0.01987748958476053,
          -0.017639455573189557,
          0.06295728452664535,
          0.04855574918754294,
          0.03872201968618624,
          0.052080306891526235,
          0.04613431465625764
         ],
         "yaxis": "y"
        },
        {
         "hovertemplate": "influencer=MikeBloomberg<br>month=%{x}<br>sentiment_audience=%{y}<extra></extra>",
         "legendgroup": "MikeBloomberg",
         "line": {
          "color": "#B6E880",
          "dash": "solid"
         },
         "marker": {
          "symbol": "circle"
         },
         "mode": "lines",
         "name": "MikeBloomberg",
         "orientation": "v",
         "showlegend": true,
         "type": "scatter",
         "x": [
          "2017-09-01",
          "2017-10-01",
          "2017-11-01",
          "2017-12-01",
          "2018-01-01",
          "2018-02-01",
          "2018-03-01",
          "2018-04-01",
          "2018-05-01",
          "2018-07-01",
          "2018-08-01",
          "2018-09-01",
          "2018-10-01",
          "2018-12-01",
          "2019-01-01"
         ],
         "xaxis": "x",
         "y": [
          0.18339917127421115,
          0.043988255558127465,
          0.06476355801864217,
          0.07570641664902998,
          0.6642787624597549,
          -0.12381668255659742,
          0.07735442851706838,
          -0.034291456143518036,
          0.17810114006892083,
          0.22217306362124248,
          -0.037019334933847646,
          0.1268778808694436,
          0.0061084500027043685,
          0.08597595096736038,
          0.08950001059219365
         ],
         "yaxis": "y"
        },
        {
         "hovertemplate": "influencer=NRDC<br>month=%{x}<br>sentiment_audience=%{y}<extra></extra>",
         "legendgroup": "NRDC",
         "line": {
          "color": "#FF97FF",
          "dash": "solid"
         },
         "marker": {
          "symbol": "circle"
         },
         "mode": "lines",
         "name": "NRDC",
         "orientation": "v",
         "showlegend": true,
         "type": "scatter",
         "x": [
          "2017-09-01",
          "2017-10-01",
          "2017-11-01",
          "2017-12-01",
          "2018-01-01",
          "2018-02-01",
          "2018-03-01",
          "2018-04-01",
          "2018-05-01",
          "2018-06-01",
          "2018-07-01",
          "2018-08-01",
          "2018-09-01",
          "2018-10-01",
          "2018-11-01",
          "2018-12-01",
          "2019-01-01"
         ],
         "xaxis": "x",
         "y": [
          0.03303999647748648,
          0.0014235616824634413,
          0.035316132501726744,
          -0.06507686673853978,
          -0.03531401001748329,
          -0.002650773194811311,
          -0.024252981028322906,
          -0.039378978528961044,
          -0.02159434278711152,
          -0.03373433391971891,
          -0.05894651473928527,
          -0.01557776529883995,
          0.031094854315097523,
          -0.06634235397047565,
          -0.13920674567378416,
          -0.01921760339904127,
          0.08849041333829928
         ],
         "yaxis": "y"
        },
        {
         "hovertemplate": "influencer=PaulEDawson<br>month=%{x}<br>sentiment_audience=%{y}<extra></extra>",
         "legendgroup": "PaulEDawson",
         "line": {
          "color": "#FECB52",
          "dash": "solid"
         },
         "marker": {
          "symbol": "circle"
         },
         "mode": "lines",
         "name": "PaulEDawson",
         "orientation": "v",
         "showlegend": true,
         "type": "scatter",
         "x": [
          "2017-09-01",
          "2017-10-01",
          "2017-11-01",
          "2017-12-01",
          "2018-01-01",
          "2018-02-01",
          "2018-03-01",
          "2018-04-01",
          "2018-05-01",
          "2018-06-01",
          "2018-07-01",
          "2018-08-01",
          "2018-09-01",
          "2018-10-01",
          "2018-11-01",
          "2018-12-01",
          "2019-01-01"
         ],
         "xaxis": "x",
         "y": [
          0.0030371064852991745,
          -0.009212173705909255,
          -0.010007268972139164,
          -0.04278120319931936,
          -0.0068843691335261255,
          0.012204901737146053,
          -0.011670959842387406,
          -0.006738599120158368,
          0.007585634537655023,
          -0.01697510703447708,
          0.024633370953245665,
          -0.029989656385142834,
          -0.009937213502990766,
          0.002763601184040542,
          -0.04469887740100002,
          -0.020578231369037095,
          0.09014854222863185
         ],
         "yaxis": "y"
        },
        {
         "hovertemplate": "influencer=SenSanders<br>month=%{x}<br>sentiment_audience=%{y}<extra></extra>",
         "legendgroup": "SenSanders",
         "line": {
          "color": "#636efa",
          "dash": "solid"
         },
         "marker": {
          "symbol": "circle"
         },
         "mode": "lines",
         "name": "SenSanders",
         "orientation": "v",
         "showlegend": true,
         "type": "scatter",
         "x": [
          "2017-09-01",
          "2017-12-01",
          "2018-01-01",
          "2018-02-01",
          "2018-03-01",
          "2018-04-01",
          "2018-05-01",
          "2018-07-01",
          "2018-08-01",
          "2018-09-01",
          "2018-10-01",
          "2018-11-01",
          "2018-12-01",
          "2019-01-01"
         ],
         "xaxis": "x",
         "y": [
          -0.07811840246289534,
          -0.42396718744966716,
          -0.09643016878951725,
          -0.10768130151550467,
          -0.016200948506593746,
          -0.08246722392232747,
          0.302993383359909,
          -0.11959723144194971,
          -0.1922172638990749,
          -0.04070121413693571,
          -0.070969888862172,
          -0.11157425913847144,
          -0.07646274882774579,
          -0.02966071077729471
         ],
         "yaxis": "y"
        },
        {
         "hovertemplate": "influencer=UNFCCC<br>month=%{x}<br>sentiment_audience=%{y}<extra></extra>",
         "legendgroup": "UNFCCC",
         "line": {
          "color": "#EF553B",
          "dash": "solid"
         },
         "marker": {
          "symbol": "circle"
         },
         "mode": "lines",
         "name": "UNFCCC",
         "orientation": "v",
         "showlegend": true,
         "type": "scatter",
         "x": [
          "2017-09-01",
          "2017-10-01",
          "2017-11-01",
          "2017-12-01",
          "2018-01-01",
          "2018-02-01",
          "2018-03-01",
          "2018-04-01",
          "2018-05-01",
          "2018-06-01",
          "2018-07-01",
          "2018-08-01",
          "2018-09-01",
          "2018-10-01",
          "2018-11-01",
          "2018-12-01"
         ],
         "xaxis": "x",
         "y": [
          0.20881191202241867,
          0.1418273943837805,
          0.22905898061739047,
          0.134029359199631,
          0.1434521283216421,
          0.1884802214043372,
          0.1818822503688541,
          0.2862245256512624,
          0.24472409623882735,
          0.3727248544223778,
          0.38472633918842014,
          0.08915723818785869,
          0.1636702979142289,
          0.10941888387098432,
          -0.05275194373199654,
          0.19180712290127655
         ],
         "yaxis": "y"
        },
        {
         "hovertemplate": "influencer=annemariayritys<br>month=%{x}<br>sentiment_audience=%{y}<extra></extra>",
         "legendgroup": "annemariayritys",
         "line": {
          "color": "#00cc96",
          "dash": "solid"
         },
         "marker": {
          "symbol": "circle"
         },
         "mode": "lines",
         "name": "annemariayritys",
         "orientation": "v",
         "showlegend": true,
         "type": "scatter",
         "x": [
          "2017-09-01",
          "2017-10-01",
          "2017-11-01",
          "2017-12-01",
          "2018-01-01",
          "2018-02-01",
          "2018-03-01",
          "2018-04-01",
          "2018-05-01",
          "2018-06-01",
          "2018-07-01",
          "2018-08-01",
          "2018-09-01",
          "2018-10-01",
          "2018-11-01",
          "2018-12-01",
          "2019-01-01"
         ],
         "xaxis": "x",
         "y": [
          0.036720987152619795,
          0.02841574831635836,
          0.029618710632832095,
          -0.017962591525641787,
          -0.03285599990772872,
          0.012317010555251515,
          -0.011158040028588749,
          0.08165184379774523,
          0.03542379424587568,
          0.153656087888824,
          0.09589061003442202,
          -0.11752497192160642,
          0.001176707557373387,
          -0.08813101394543488,
          -0.029517673198316316,
          -0.01830248195512765,
          0.20964427458449358
         ],
         "yaxis": "y"
        },
        {
         "hovertemplate": "influencer=billmckibben<br>month=%{x}<br>sentiment_audience=%{y}<extra></extra>",
         "legendgroup": "billmckibben",
         "line": {
          "color": "#ab63fa",
          "dash": "solid"
         },
         "marker": {
          "symbol": "circle"
         },
         "mode": "lines",
         "name": "billmckibben",
         "orientation": "v",
         "showlegend": true,
         "type": "scatter",
         "x": [
          "2017-09-01",
          "2017-10-01",
          "2017-11-01",
          "2017-12-01",
          "2018-01-01",
          "2018-02-01",
          "2018-03-01",
          "2018-04-01",
          "2018-05-01",
          "2018-06-01",
          "2018-07-01",
          "2018-08-01",
          "2018-09-01",
          "2018-10-01",
          "2018-11-01",
          "2018-12-01",
          "2019-01-01"
         ],
         "xaxis": "x",
         "y": [
          0.08172322354502148,
          -0.08196476011024402,
          0.00842500328673255,
          -0.08253634749909877,
          -0.02742180646585317,
          -0.024567896882841972,
          -0.032940166184880874,
          -0.040173685117698636,
          0.008106059135776618,
          -0.028372841099482876,
          0.005498038425322116,
          -0.051073233878113564,
          -0.008420119921982688,
          -0.29928787287993863,
          -0.131488830093964,
          -0.006769304277169988,
          0.21345650895607618
         ],
         "yaxis": "y"
        },
        {
         "hovertemplate": "influencer=brianschatz<br>month=%{x}<br>sentiment_audience=%{y}<extra></extra>",
         "legendgroup": "brianschatz",
         "line": {
          "color": "#FFA15A",
          "dash": "solid"
         },
         "marker": {
          "symbol": "circle"
         },
         "mode": "lines",
         "name": "brianschatz",
         "orientation": "v",
         "showlegend": true,
         "type": "scatter",
         "x": [
          "2017-09-01",
          "2017-10-01",
          "2017-12-01",
          "2018-01-01",
          "2018-04-01",
          "2018-05-01",
          "2018-06-01",
          "2018-10-01",
          "2018-11-01",
          "2018-12-01",
          "2019-01-01"
         ],
         "xaxis": "x",
         "y": [
          -0.2775801662882169,
          -0.1561714130862413,
          -0.1598565119248697,
          -0.38018267187205806,
          -0.14877960248660652,
          -0.07740876080726507,
          -0.1271362203145631,
          -0.16769356194190263,
          -0.2335318548762058,
          -0.14006770655723938,
          -0.07993630576968795
         ],
         "yaxis": "y"
        },
        {
         "hovertemplate": "influencer=britneyspears<br>month=%{x}<br>sentiment_audience=%{y}<extra></extra>",
         "legendgroup": "britneyspears",
         "line": {
          "color": "#19d3f3",
          "dash": "solid"
         },
         "marker": {
          "symbol": "circle"
         },
         "mode": "lines",
         "name": "britneyspears",
         "orientation": "v",
         "showlegend": true,
         "type": "scatter",
         "x": [
          "2017-09-01",
          "2017-10-01",
          "2017-11-01",
          "2017-12-01",
          "2018-01-01",
          "2018-02-01",
          "2018-03-01",
          "2018-04-01",
          "2018-05-01",
          "2018-06-01",
          "2018-07-01",
          "2018-08-01",
          "2018-09-01",
          "2018-10-01",
          "2018-11-01",
          "2018-12-01",
          "2019-01-01"
         ],
         "xaxis": "x",
         "y": [
          0.11394949960708614,
          -0.18381527045404278,
          -0.22753403118508203,
          -0.0615024843118454,
          -0.0624158414155082,
          0.004253391724149584,
          0.32556723495547685,
          0.22460875988460724,
          0.4796505375100192,
          -0.1505978496948878,
          -0.040914299397998365,
          0.1285162395890554,
          -0.13781918315833525,
          -0.19873666189800634,
          0.056220525907529476,
          -0.06085630194548022,
          -0.00655345254739127
         ],
         "yaxis": "y"
        },
        {
         "hovertemplate": "influencer=kylegriffin1<br>month=%{x}<br>sentiment_audience=%{y}<extra></extra>",
         "legendgroup": "kylegriffin1",
         "line": {
          "color": "#FF6692",
          "dash": "solid"
         },
         "marker": {
          "symbol": "circle"
         },
         "mode": "lines",
         "name": "kylegriffin1",
         "orientation": "v",
         "showlegend": true,
         "type": "scatter",
         "x": [
          "2017-09-01",
          "2017-10-01",
          "2017-11-01",
          "2017-12-01",
          "2018-01-01",
          "2018-02-01",
          "2018-03-01",
          "2018-04-01",
          "2018-05-01",
          "2018-06-01",
          "2018-08-01",
          "2018-09-01",
          "2018-10-01",
          "2018-12-01",
          "2019-01-01"
         ],
         "xaxis": "x",
         "y": [
          -0.1589341715570953,
          -0.14982257729899096,
          -0.1731665274378028,
          -0.16632578046602237,
          -0.18799894174167578,
          -0.06798274052966716,
          -0.119946531847205,
          -0.12008419193686713,
          -0.1370592205937398,
          -0.12839652927413883,
          -0.12674199782049064,
          -0.5032430232104285,
          -0.08401721777819623,
          -0.13649146240387897,
          0.011985457278291409
         ],
         "yaxis": "y"
        },
        {
         "hovertemplate": "influencer=nowthisnews<br>month=%{x}<br>sentiment_audience=%{y}<extra></extra>",
         "legendgroup": "nowthisnews",
         "line": {
          "color": "#B6E880",
          "dash": "solid"
         },
         "marker": {
          "symbol": "circle"
         },
         "mode": "lines",
         "name": "nowthisnews",
         "orientation": "v",
         "showlegend": true,
         "type": "scatter",
         "x": [
          "2017-09-01",
          "2017-10-01",
          "2017-11-01",
          "2017-12-01",
          "2018-01-01",
          "2018-02-01",
          "2018-03-01",
          "2018-04-01",
          "2018-05-01",
          "2018-06-01",
          "2018-07-01",
          "2018-08-01",
          "2018-09-01",
          "2018-10-01",
          "2018-11-01",
          "2018-12-01",
          "2019-01-01"
         ],
         "xaxis": "x",
         "y": [
          -0.14133603211868492,
          -0.1080096464089889,
          -0.11569058990566736,
          -0.1726815998826133,
          -0.11098222049158403,
          -0.06032932707132459,
          -0.14106151284028637,
          -0.11409947465718107,
          0.21858013617177938,
          0.2753062853515148,
          -0.02513311550418537,
          0.3993982787370682,
          -0.05959311433028736,
          -0.15640434779890877,
          -0.1845153776949857,
          -0.13183418176056177,
          -0.04358552520749132
         ],
         "yaxis": "y"
        },
        {
         "hovertemplate": "influencer=nytimes<br>month=%{x}<br>sentiment_audience=%{y}<extra></extra>",
         "legendgroup": "nytimes",
         "line": {
          "color": "#FF97FF",
          "dash": "solid"
         },
         "marker": {
          "symbol": "circle"
         },
         "mode": "lines",
         "name": "nytimes",
         "orientation": "v",
         "showlegend": true,
         "type": "scatter",
         "x": [
          "2017-09-01",
          "2017-10-01",
          "2017-11-01",
          "2017-12-01",
          "2018-01-01",
          "2018-02-01",
          "2018-03-01",
          "2018-04-01",
          "2018-05-01",
          "2018-06-01",
          "2018-07-01",
          "2018-08-01",
          "2018-09-01",
          "2018-10-01",
          "2018-11-01",
          "2018-12-01",
          "2019-01-01"
         ],
         "xaxis": "x",
         "y": [
          -0.08815231416000853,
          -0.10333332867164453,
          -0.07531186770984805,
          -0.09577176201469968,
          -0.05631557875903826,
          -0.08299209263993645,
          -0.03389517056365896,
          -0.05495485830438058,
          -0.07461586558225741,
          0.0732001136407708,
          0.4931523934006691,
          -0.0845673752520164,
          -0.0422896444082747,
          -0.12060337330848467,
          -0.11386839173925421,
          -0.06556512991225928,
          -0.2507795726325777
         ],
         "yaxis": "y"
        },
        {
         "hovertemplate": "influencer=tedlieu<br>month=%{x}<br>sentiment_audience=%{y}<extra></extra>",
         "legendgroup": "tedlieu",
         "line": {
          "color": "#FECB52",
          "dash": "solid"
         },
         "marker": {
          "symbol": "circle"
         },
         "mode": "lines",
         "name": "tedlieu",
         "orientation": "v",
         "showlegend": true,
         "type": "scatter",
         "x": [
          "2017-09-01",
          "2017-10-01",
          "2017-12-01",
          "2018-01-01",
          "2018-03-01",
          "2018-04-01",
          "2018-08-01",
          "2018-10-01",
          "2018-11-01",
          "2018-12-01"
         ],
         "xaxis": "x",
         "y": [
          0.047085559380054515,
          -0.1730954594109332,
          -0.2253945910928947,
          0.23180853697359563,
          -0.06684619795130352,
          -0.04243519155544516,
          -0.12226692868713905,
          0.5308780188798905,
          0.7434294555425643,
          -0.07570362728178545
         ],
         "yaxis": "y"
        },
        {
         "hovertemplate": "influencer=thehill<br>month=%{x}<br>sentiment_audience=%{y}<extra></extra>",
         "legendgroup": "thehill",
         "line": {
          "color": "#636efa",
          "dash": "solid"
         },
         "marker": {
          "symbol": "circle"
         },
         "mode": "lines",
         "name": "thehill",
         "orientation": "v",
         "showlegend": true,
         "type": "scatter",
         "x": [
          "2017-09-01",
          "2017-10-01",
          "2017-11-01",
          "2017-12-01",
          "2018-01-01",
          "2018-02-01",
          "2018-03-01",
          "2018-04-01",
          "2018-05-01",
          "2018-06-01",
          "2018-07-01",
          "2018-08-01",
          "2018-09-01",
          "2018-10-01",
          "2018-11-01",
          "2018-12-01",
          "2019-01-01"
         ],
         "xaxis": "x",
         "y": [
          -0.08701080476936143,
          -0.1483966034797616,
          -0.10119260524801064,
          -0.203650082541656,
          -0.13677582272898606,
          -0.17891629702201906,
          -0.13292983073215928,
          -0.08379744389435187,
          -0.08080032001696452,
          -0.0591566181791237,
          -0.07999717895078724,
          -0.09040936121092108,
          -0.0510588454944088,
          -0.1456851624963796,
          -0.26562346945229925,
          -0.1285452585038848,
          -0.1627751114531111
         ],
         "yaxis": "y"
        },
        {
         "hovertemplate": "influencer=wef<br>month=%{x}<br>sentiment_audience=%{y}<extra></extra>",
         "legendgroup": "wef",
         "line": {
          "color": "#EF553B",
          "dash": "solid"
         },
         "marker": {
          "symbol": "circle"
         },
         "mode": "lines",
         "name": "wef",
         "orientation": "v",
         "showlegend": true,
         "type": "scatter",
         "x": [
          "2017-09-01",
          "2017-10-01",
          "2017-11-01",
          "2017-12-01",
          "2018-01-01",
          "2018-02-01",
          "2018-03-01",
          "2018-04-01",
          "2018-05-01",
          "2018-06-01",
          "2018-07-01",
          "2018-08-01",
          "2018-09-01",
          "2018-10-01",
          "2018-11-01",
          "2018-12-01",
          "2019-01-01"
         ],
         "xaxis": "x",
         "y": [
          0.0012209188742194174,
          0.12233832683602595,
          0.11100277633289084,
          0.05510207276040262,
          0.034734520288152916,
          0.18671889557719942,
          0.08676526114301156,
          -0.0017062955742248383,
          0.1593913733398635,
          0.10676700719481347,
          0.14013506931227018,
          0.1770083803749441,
          0.0994364571194388,
          0.06815266392355143,
          0.24668395751875896,
          0.09785599816637933,
          0.21351291904183836
         ],
         "yaxis": "y"
        },
        {
         "hovertemplate": "influencer=DanRather<br>month=%{x}<br>sentiment_audience=%{y}<extra></extra>",
         "legendgroup": "DanRather",
         "line": {
          "color": "#00cc96",
          "dash": "solid"
         },
         "marker": {
          "symbol": "circle"
         },
         "mode": "lines",
         "name": "DanRather",
         "orientation": "v",
         "showlegend": true,
         "type": "scatter",
         "x": [
          "2017-10-01",
          "2018-01-01",
          "2018-04-01",
          "2018-05-01",
          "2018-07-01",
          "2018-10-01",
          "2018-11-01",
          "2018-12-01",
          "2019-01-01"
         ],
         "xaxis": "x",
         "y": [
          -0.12476892397226878,
          0.08683234957933138,
          -0.12970522147933713,
          -0.0659089271603525,
          -0.07842096572868536,
          -0.15106169858010365,
          -0.052610884102919954,
          -0.10387011034674337,
          -0.12614568328941517
         ],
         "yaxis": "y"
        },
        {
         "hovertemplate": "influencer=KamalaHarris<br>month=%{x}<br>sentiment_audience=%{y}<extra></extra>",
         "legendgroup": "KamalaHarris",
         "line": {
          "color": "#ab63fa",
          "dash": "solid"
         },
         "marker": {
          "symbol": "circle"
         },
         "mode": "lines",
         "name": "KamalaHarris",
         "orientation": "v",
         "showlegend": true,
         "type": "scatter",
         "x": [
          "2017-10-01",
          "2017-11-01",
          "2018-02-01",
          "2018-03-01",
          "2018-05-01",
          "2018-06-01",
          "2018-08-01",
          "2018-09-01",
          "2018-10-01",
          "2018-11-01",
          "2018-12-01",
          "2019-01-01"
         ],
         "xaxis": "x",
         "y": [
          -0.14270891355634513,
          -0.13609420709382922,
          -0.12835050612536844,
          0.08261867065233221,
          -0.12092738263957493,
          -0.17566342279705213,
          -0.12089956617165139,
          -0.13170164670720638,
          -0.18100169439691394,
          -0.1491640005134654,
          -0.138354594103713,
          -0.0829329129740039
         ],
         "yaxis": "y"
        },
        {
         "hovertemplate": "influencer=joekennedy<br>month=%{x}<br>sentiment_audience=%{y}<extra></extra>",
         "legendgroup": "joekennedy",
         "line": {
          "color": "#FFA15A",
          "dash": "solid"
         },
         "marker": {
          "symbol": "circle"
         },
         "mode": "lines",
         "name": "joekennedy",
         "orientation": "v",
         "showlegend": true,
         "type": "scatter",
         "x": [
          "2018-02-01",
          "2018-03-01",
          "2018-04-01",
          "2018-05-01",
          "2018-06-01",
          "2018-11-01",
          "2018-12-01",
          "2019-01-01"
         ],
         "xaxis": "x",
         "y": [
          -0.14239939642385097,
          -0.23272336907489088,
          -0.09902473528705945,
          -0.09750947805650093,
          -0.10119077704772225,
          -0.2663261383062637,
          -0.1242212300908031,
          -0.5602882762648345
         ],
         "yaxis": "y"
        }
       ],
       "layout": {
        "legend": {
         "title": {
          "text": "influencer"
         },
         "tracegroupgap": 0
        },
        "template": {
         "data": {
          "bar": [
           {
            "error_x": {
             "color": "#2a3f5f"
            },
            "error_y": {
             "color": "#2a3f5f"
            },
            "marker": {
             "line": {
              "color": "#E5ECF6",
              "width": 0.5
             },
             "pattern": {
              "fillmode": "overlay",
              "size": 10,
              "solidity": 0.2
             }
            },
            "type": "bar"
           }
          ],
          "barpolar": [
           {
            "marker": {
             "line": {
              "color": "#E5ECF6",
              "width": 0.5
             },
             "pattern": {
              "fillmode": "overlay",
              "size": 10,
              "solidity": 0.2
             }
            },
            "type": "barpolar"
           }
          ],
          "carpet": [
           {
            "aaxis": {
             "endlinecolor": "#2a3f5f",
             "gridcolor": "white",
             "linecolor": "white",
             "minorgridcolor": "white",
             "startlinecolor": "#2a3f5f"
            },
            "baxis": {
             "endlinecolor": "#2a3f5f",
             "gridcolor": "white",
             "linecolor": "white",
             "minorgridcolor": "white",
             "startlinecolor": "#2a3f5f"
            },
            "type": "carpet"
           }
          ],
          "choropleth": [
           {
            "colorbar": {
             "outlinewidth": 0,
             "ticks": ""
            },
            "type": "choropleth"
           }
          ],
          "contour": [
           {
            "colorbar": {
             "outlinewidth": 0,
             "ticks": ""
            },
            "colorscale": [
             [
              0,
              "#0d0887"
             ],
             [
              0.1111111111111111,
              "#46039f"
             ],
             [
              0.2222222222222222,
              "#7201a8"
             ],
             [
              0.3333333333333333,
              "#9c179e"
             ],
             [
              0.4444444444444444,
              "#bd3786"
             ],
             [
              0.5555555555555556,
              "#d8576b"
             ],
             [
              0.6666666666666666,
              "#ed7953"
             ],
             [
              0.7777777777777778,
              "#fb9f3a"
             ],
             [
              0.8888888888888888,
              "#fdca26"
             ],
             [
              1,
              "#f0f921"
             ]
            ],
            "type": "contour"
           }
          ],
          "contourcarpet": [
           {
            "colorbar": {
             "outlinewidth": 0,
             "ticks": ""
            },
            "type": "contourcarpet"
           }
          ],
          "heatmap": [
           {
            "colorbar": {
             "outlinewidth": 0,
             "ticks": ""
            },
            "colorscale": [
             [
              0,
              "#0d0887"
             ],
             [
              0.1111111111111111,
              "#46039f"
             ],
             [
              0.2222222222222222,
              "#7201a8"
             ],
             [
              0.3333333333333333,
              "#9c179e"
             ],
             [
              0.4444444444444444,
              "#bd3786"
             ],
             [
              0.5555555555555556,
              "#d8576b"
             ],
             [
              0.6666666666666666,
              "#ed7953"
             ],
             [
              0.7777777777777778,
              "#fb9f3a"
             ],
             [
              0.8888888888888888,
              "#fdca26"
             ],
             [
              1,
              "#f0f921"
             ]
            ],
            "type": "heatmap"
           }
          ],
          "heatmapgl": [
           {
            "colorbar": {
             "outlinewidth": 0,
             "ticks": ""
            },
            "colorscale": [
             [
              0,
              "#0d0887"
             ],
             [
              0.1111111111111111,
              "#46039f"
             ],
             [
              0.2222222222222222,
              "#7201a8"
             ],
             [
              0.3333333333333333,
              "#9c179e"
             ],
             [
              0.4444444444444444,
              "#bd3786"
             ],
             [
              0.5555555555555556,
              "#d8576b"
             ],
             [
              0.6666666666666666,
              "#ed7953"
             ],
             [
              0.7777777777777778,
              "#fb9f3a"
             ],
             [
              0.8888888888888888,
              "#fdca26"
             ],
             [
              1,
              "#f0f921"
             ]
            ],
            "type": "heatmapgl"
           }
          ],
          "histogram": [
           {
            "marker": {
             "pattern": {
              "fillmode": "overlay",
              "size": 10,
              "solidity": 0.2
             }
            },
            "type": "histogram"
           }
          ],
          "histogram2d": [
           {
            "colorbar": {
             "outlinewidth": 0,
             "ticks": ""
            },
            "colorscale": [
             [
              0,
              "#0d0887"
             ],
             [
              0.1111111111111111,
              "#46039f"
             ],
             [
              0.2222222222222222,
              "#7201a8"
             ],
             [
              0.3333333333333333,
              "#9c179e"
             ],
             [
              0.4444444444444444,
              "#bd3786"
             ],
             [
              0.5555555555555556,
              "#d8576b"
             ],
             [
              0.6666666666666666,
              "#ed7953"
             ],
             [
              0.7777777777777778,
              "#fb9f3a"
             ],
             [
              0.8888888888888888,
              "#fdca26"
             ],
             [
              1,
              "#f0f921"
             ]
            ],
            "type": "histogram2d"
           }
          ],
          "histogram2dcontour": [
           {
            "colorbar": {
             "outlinewidth": 0,
             "ticks": ""
            },
            "colorscale": [
             [
              0,
              "#0d0887"
             ],
             [
              0.1111111111111111,
              "#46039f"
             ],
             [
              0.2222222222222222,
              "#7201a8"
             ],
             [
              0.3333333333333333,
              "#9c179e"
             ],
             [
              0.4444444444444444,
              "#bd3786"
             ],
             [
              0.5555555555555556,
              "#d8576b"
             ],
             [
              0.6666666666666666,
              "#ed7953"
             ],
             [
              0.7777777777777778,
              "#fb9f3a"
             ],
             [
              0.8888888888888888,
              "#fdca26"
             ],
             [
              1,
              "#f0f921"
             ]
            ],
            "type": "histogram2dcontour"
           }
          ],
          "mesh3d": [
           {
            "colorbar": {
             "outlinewidth": 0,
             "ticks": ""
            },
            "type": "mesh3d"
           }
          ],
          "parcoords": [
           {
            "line": {
             "colorbar": {
              "outlinewidth": 0,
              "ticks": ""
             }
            },
            "type": "parcoords"
           }
          ],
          "pie": [
           {
            "automargin": true,
            "type": "pie"
           }
          ],
          "scatter": [
           {
            "fillpattern": {
             "fillmode": "overlay",
             "size": 10,
             "solidity": 0.2
            },
            "type": "scatter"
           }
          ],
          "scatter3d": [
           {
            "line": {
             "colorbar": {
              "outlinewidth": 0,
              "ticks": ""
             }
            },
            "marker": {
             "colorbar": {
              "outlinewidth": 0,
              "ticks": ""
             }
            },
            "type": "scatter3d"
           }
          ],
          "scattercarpet": [
           {
            "marker": {
             "colorbar": {
              "outlinewidth": 0,
              "ticks": ""
             }
            },
            "type": "scattercarpet"
           }
          ],
          "scattergeo": [
           {
            "marker": {
             "colorbar": {
              "outlinewidth": 0,
              "ticks": ""
             }
            },
            "type": "scattergeo"
           }
          ],
          "scattergl": [
           {
            "marker": {
             "colorbar": {
              "outlinewidth": 0,
              "ticks": ""
             }
            },
            "type": "scattergl"
           }
          ],
          "scattermapbox": [
           {
            "marker": {
             "colorbar": {
              "outlinewidth": 0,
              "ticks": ""
             }
            },
            "type": "scattermapbox"
           }
          ],
          "scatterpolar": [
           {
            "marker": {
             "colorbar": {
              "outlinewidth": 0,
              "ticks": ""
             }
            },
            "type": "scatterpolar"
           }
          ],
          "scatterpolargl": [
           {
            "marker": {
             "colorbar": {
              "outlinewidth": 0,
              "ticks": ""
             }
            },
            "type": "scatterpolargl"
           }
          ],
          "scatterternary": [
           {
            "marker": {
             "colorbar": {
              "outlinewidth": 0,
              "ticks": ""
             }
            },
            "type": "scatterternary"
           }
          ],
          "surface": [
           {
            "colorbar": {
             "outlinewidth": 0,
             "ticks": ""
            },
            "colorscale": [
             [
              0,
              "#0d0887"
             ],
             [
              0.1111111111111111,
              "#46039f"
             ],
             [
              0.2222222222222222,
              "#7201a8"
             ],
             [
              0.3333333333333333,
              "#9c179e"
             ],
             [
              0.4444444444444444,
              "#bd3786"
             ],
             [
              0.5555555555555556,
              "#d8576b"
             ],
             [
              0.6666666666666666,
              "#ed7953"
             ],
             [
              0.7777777777777778,
              "#fb9f3a"
             ],
             [
              0.8888888888888888,
              "#fdca26"
             ],
             [
              1,
              "#f0f921"
             ]
            ],
            "type": "surface"
           }
          ],
          "table": [
           {
            "cells": {
             "fill": {
              "color": "#EBF0F8"
             },
             "line": {
              "color": "white"
             }
            },
            "header": {
             "fill": {
              "color": "#C8D4E3"
             },
             "line": {
              "color": "white"
             }
            },
            "type": "table"
           }
          ]
         },
         "layout": {
          "annotationdefaults": {
           "arrowcolor": "#2a3f5f",
           "arrowhead": 0,
           "arrowwidth": 1
          },
          "autotypenumbers": "strict",
          "coloraxis": {
           "colorbar": {
            "outlinewidth": 0,
            "ticks": ""
           }
          },
          "colorscale": {
           "diverging": [
            [
             0,
             "#8e0152"
            ],
            [
             0.1,
             "#c51b7d"
            ],
            [
             0.2,
             "#de77ae"
            ],
            [
             0.3,
             "#f1b6da"
            ],
            [
             0.4,
             "#fde0ef"
            ],
            [
             0.5,
             "#f7f7f7"
            ],
            [
             0.6,
             "#e6f5d0"
            ],
            [
             0.7,
             "#b8e186"
            ],
            [
             0.8,
             "#7fbc41"
            ],
            [
             0.9,
             "#4d9221"
            ],
            [
             1,
             "#276419"
            ]
           ],
           "sequential": [
            [
             0,
             "#0d0887"
            ],
            [
             0.1111111111111111,
             "#46039f"
            ],
            [
             0.2222222222222222,
             "#7201a8"
            ],
            [
             0.3333333333333333,
             "#9c179e"
            ],
            [
             0.4444444444444444,
             "#bd3786"
            ],
            [
             0.5555555555555556,
             "#d8576b"
            ],
            [
             0.6666666666666666,
             "#ed7953"
            ],
            [
             0.7777777777777778,
             "#fb9f3a"
            ],
            [
             0.8888888888888888,
             "#fdca26"
            ],
            [
             1,
             "#f0f921"
            ]
           ],
           "sequentialminus": [
            [
             0,
             "#0d0887"
            ],
            [
             0.1111111111111111,
             "#46039f"
            ],
            [
             0.2222222222222222,
             "#7201a8"
            ],
            [
             0.3333333333333333,
             "#9c179e"
            ],
            [
             0.4444444444444444,
             "#bd3786"
            ],
            [
             0.5555555555555556,
             "#d8576b"
            ],
            [
             0.6666666666666666,
             "#ed7953"
            ],
            [
             0.7777777777777778,
             "#fb9f3a"
            ],
            [
             0.8888888888888888,
             "#fdca26"
            ],
            [
             1,
             "#f0f921"
            ]
           ]
          },
          "colorway": [
           "#636efa",
           "#EF553B",
           "#00cc96",
           "#ab63fa",
           "#FFA15A",
           "#19d3f3",
           "#FF6692",
           "#B6E880",
           "#FF97FF",
           "#FECB52"
          ],
          "font": {
           "color": "#2a3f5f"
          },
          "geo": {
           "bgcolor": "white",
           "lakecolor": "white",
           "landcolor": "#E5ECF6",
           "showlakes": true,
           "showland": true,
           "subunitcolor": "white"
          },
          "hoverlabel": {
           "align": "left"
          },
          "hovermode": "closest",
          "mapbox": {
           "style": "light"
          },
          "paper_bgcolor": "white",
          "plot_bgcolor": "#E5ECF6",
          "polar": {
           "angularaxis": {
            "gridcolor": "white",
            "linecolor": "white",
            "ticks": ""
           },
           "bgcolor": "#E5ECF6",
           "radialaxis": {
            "gridcolor": "white",
            "linecolor": "white",
            "ticks": ""
           }
          },
          "scene": {
           "xaxis": {
            "backgroundcolor": "#E5ECF6",
            "gridcolor": "white",
            "gridwidth": 2,
            "linecolor": "white",
            "showbackground": true,
            "ticks": "",
            "zerolinecolor": "white"
           },
           "yaxis": {
            "backgroundcolor": "#E5ECF6",
            "gridcolor": "white",
            "gridwidth": 2,
            "linecolor": "white",
            "showbackground": true,
            "ticks": "",
            "zerolinecolor": "white"
           },
           "zaxis": {
            "backgroundcolor": "#E5ECF6",
            "gridcolor": "white",
            "gridwidth": 2,
            "linecolor": "white",
            "showbackground": true,
            "ticks": "",
            "zerolinecolor": "white"
           }
          },
          "shapedefaults": {
           "line": {
            "color": "#2a3f5f"
           }
          },
          "ternary": {
           "aaxis": {
            "gridcolor": "white",
            "linecolor": "white",
            "ticks": ""
           },
           "baxis": {
            "gridcolor": "white",
            "linecolor": "white",
            "ticks": ""
           },
           "bgcolor": "#E5ECF6",
           "caxis": {
            "gridcolor": "white",
            "linecolor": "white",
            "ticks": ""
           }
          },
          "title": {
           "x": 0.05
          },
          "xaxis": {
           "automargin": true,
           "gridcolor": "white",
           "linecolor": "white",
           "ticks": "",
           "title": {
            "standoff": 15
           },
           "zerolinecolor": "white",
           "zerolinewidth": 2
          },
          "yaxis": {
           "automargin": true,
           "gridcolor": "white",
           "linecolor": "white",
           "ticks": "",
           "title": {
            "standoff": 15
           },
           "zerolinecolor": "white",
           "zerolinewidth": 2
          }
         }
        },
        "title": {
         "text": "monthly audience sentiment"
        },
        "xaxis": {
         "anchor": "y",
         "domain": [
          0,
          1
         ],
         "title": {
          "text": "month"
         }
        },
        "yaxis": {
         "anchor": "x",
         "domain": [
          0,
          1
         ],
         "title": {
          "text": "sentiment_audience"
         }
        }
       }
      }
     },
     "metadata": {},
     "output_type": "display_data"
    }
   ],
   "source": [
    "px.line(\n",
    "    final_df,\n",
    "    x='month', \n",
    "    y='sentiment_audience', \n",
    "    color='influencer',\n",
    "    title='monthly audience sentiment'\n",
    ")"
   ]
  },
  {
   "cell_type": "code",
   "execution_count": 57,
   "metadata": {},
   "outputs": [
    {
     "data": {
      "application/vnd.plotly.v1+json": {
       "config": {
        "plotlyServerURL": "https://plot.ly"
       },
       "data": [
        {
         "hovertemplate": "influencer=CNN<br>month=%{x}<br>sentiment_echoer=%{y}<extra></extra>",
         "legendgroup": "CNN",
         "line": {
          "color": "#636efa",
          "dash": "solid"
         },
         "marker": {
          "symbol": "circle"
         },
         "mode": "lines",
         "name": "CNN",
         "orientation": "v",
         "showlegend": true,
         "type": "scatter",
         "x": [
          "2017-09-01",
          "2017-10-01",
          "2017-11-01",
          "2017-12-01",
          "2018-01-01",
          "2018-02-01",
          "2018-03-01",
          "2018-04-01",
          "2018-05-01",
          "2018-06-01",
          "2018-07-01",
          "2018-08-01",
          "2018-09-01",
          "2018-10-01",
          "2018-11-01",
          "2018-12-01",
          "2019-01-01"
         ],
         "xaxis": "x",
         "y": [
          -0.0492950449914109,
          -0.049388869248553624,
          -0.038234251746703724,
          -0.01674347222120896,
          0.07404475028563293,
          -0.1079919166674915,
          0.003956450830358342,
          0.08121045256197917,
          0.14227473254429593,
          -0.0635884378971961,
          0.14057182770972543,
          0.020830180555502956,
          0.1107947570731132,
          0.021875872960966474,
          -0.2286161633233821,
          0.007529838452353248,
          -0.003707491920712731
         ],
         "yaxis": "y"
        },
        {
         "hovertemplate": "influencer=CarolineLucas<br>month=%{x}<br>sentiment_echoer=%{y}<extra></extra>",
         "legendgroup": "CarolineLucas",
         "line": {
          "color": "#EF553B",
          "dash": "solid"
         },
         "marker": {
          "symbol": "circle"
         },
         "mode": "lines",
         "name": "CarolineLucas",
         "orientation": "v",
         "showlegend": true,
         "type": "scatter",
         "x": [
          "2017-09-01",
          "2017-10-01",
          "2017-11-01",
          "2017-12-01",
          "2018-01-01",
          "2018-02-01",
          "2018-05-01",
          "2018-06-01",
          "2018-07-01",
          "2018-08-01",
          "2018-09-01",
          "2018-10-01",
          "2018-11-01",
          "2018-12-01",
          "2019-01-01"
         ],
         "xaxis": "x",
         "y": [
          0.21983283524758937,
          -0.05080257491195456,
          0.040425603845004925,
          -0.1093363126349012,
          -0.1675413564642188,
          -0.2784689383095886,
          0.47599448650261367,
          -0.16263287681337094,
          -0.07694267106713601,
          0.36834334437276944,
          0.19620277275994072,
          0.17951733601100234,
          -0.008838583072023166,
          0.22300560451954257,
          0.05531877608606882
         ],
         "yaxis": "y"
        },
        {
         "hovertemplate": "influencer=ClimateReality<br>month=%{x}<br>sentiment_echoer=%{y}<extra></extra>",
         "legendgroup": "ClimateReality",
         "line": {
          "color": "#00cc96",
          "dash": "solid"
         },
         "marker": {
          "symbol": "circle"
         },
         "mode": "lines",
         "name": "ClimateReality",
         "orientation": "v",
         "showlegend": true,
         "type": "scatter",
         "x": [
          "2017-09-01",
          "2017-10-01",
          "2017-11-01",
          "2017-12-01",
          "2018-01-01",
          "2018-02-01",
          "2018-03-01",
          "2018-04-01",
          "2018-05-01",
          "2018-06-01",
          "2018-07-01",
          "2018-08-01",
          "2018-09-01",
          "2018-10-01",
          "2018-11-01",
          "2018-12-01",
          "2019-01-01"
         ],
         "xaxis": "x",
         "y": [
          0.071890538341728,
          0.003382723649688861,
          0.08183644415492927,
          0.1450985430432788,
          0.12437726253335091,
          0.13983142568520762,
          0.13412486698481224,
          0.08669685959443704,
          0.06333101117776833,
          0.16988376538780878,
          0.19615631391183933,
          0.1200955998455064,
          0.10124980720600149,
          0.09372589838215033,
          0.21812865280478205,
          0.1520318063891617,
          0.13739009780722386
         ],
         "yaxis": "y"
        },
        {
         "hovertemplate": "influencer=EricHolthaus<br>month=%{x}<br>sentiment_echoer=%{y}<extra></extra>",
         "legendgroup": "EricHolthaus",
         "line": {
          "color": "#ab63fa",
          "dash": "solid"
         },
         "marker": {
          "symbol": "circle"
         },
         "mode": "lines",
         "name": "EricHolthaus",
         "orientation": "v",
         "showlegend": true,
         "type": "scatter",
         "x": [
          "2017-09-01",
          "2017-10-01",
          "2017-11-01",
          "2017-12-01",
          "2018-01-01",
          "2018-02-01",
          "2018-03-01",
          "2018-04-01",
          "2018-05-01",
          "2018-06-01",
          "2018-07-01",
          "2018-08-01",
          "2018-09-01",
          "2018-10-01",
          "2018-11-01",
          "2018-12-01",
          "2019-01-01"
         ],
         "xaxis": "x",
         "y": [
          -0.08989037301652485,
          -0.08582437401757048,
          0.13287514490958063,
          0.0769017717031545,
          0.08259851651184014,
          0.13969740688727988,
          0.04026184282417622,
          0.07833454816620872,
          0.1578113839722297,
          0.019611495595286153,
          0.0703992008810629,
          0.021617475602689906,
          0.09234870469071292,
          -0.045341211605602325,
          0.046804906457099046,
          0.07082462802666598,
          0.1898623017102164
         ],
         "yaxis": "y"
        },
        {
         "hovertemplate": "influencer=GCCThinkActTank<br>month=%{x}<br>sentiment_echoer=%{y}<extra></extra>",
         "legendgroup": "GCCThinkActTank",
         "line": {
          "color": "#FFA15A",
          "dash": "solid"
         },
         "marker": {
          "symbol": "circle"
         },
         "mode": "lines",
         "name": "GCCThinkActTank",
         "orientation": "v",
         "showlegend": true,
         "type": "scatter",
         "x": [
          "2017-09-01",
          "2017-10-01",
          "2017-11-01",
          "2017-12-01",
          "2018-01-01",
          "2018-02-01",
          "2018-03-01",
          "2018-04-01",
          "2018-05-01",
          "2018-06-01",
          "2018-07-01",
          "2018-08-01",
          "2018-09-01",
          "2018-10-01",
          "2018-11-01",
          "2018-12-01",
          "2019-01-01"
         ],
         "xaxis": "x",
         "y": [
          0.100708688214112,
          0.14336668995411644,
          0.15407462365787888,
          0.12651886436976473,
          0.1286236068725889,
          0.15964072074698443,
          0.19481412741989604,
          0.1766260551428053,
          0.1570189784933658,
          0.18216820431418504,
          0.18439725429730308,
          0.12620630688353943,
          0.14996759393311482,
          0.17437362517106236,
          0.10250074588563854,
          0.11166852361266277,
          0.13883800013397105
         ],
         "yaxis": "y"
        },
        {
         "hovertemplate": "influencer=Greenpeace<br>month=%{x}<br>sentiment_echoer=%{y}<extra></extra>",
         "legendgroup": "Greenpeace",
         "line": {
          "color": "#19d3f3",
          "dash": "solid"
         },
         "marker": {
          "symbol": "circle"
         },
         "mode": "lines",
         "name": "Greenpeace",
         "orientation": "v",
         "showlegend": true,
         "type": "scatter",
         "x": [
          "2017-09-01",
          "2017-10-01",
          "2017-11-01",
          "2017-12-01",
          "2018-01-01",
          "2018-02-01",
          "2018-03-01",
          "2018-04-01",
          "2018-05-01",
          "2018-06-01",
          "2018-07-01",
          "2018-08-01",
          "2018-09-01",
          "2018-10-01",
          "2018-11-01",
          "2018-12-01",
          "2019-01-01"
         ],
         "xaxis": "x",
         "y": [
          0.10076797700037687,
          0.07500061076495274,
          0.1464953275944234,
          0.12680038811004984,
          -0.008265923072386194,
          0.08374532010602444,
          0.11050384306413277,
          -0.009868204198801283,
          0.07262521847307041,
          0.05640057062847378,
          -0.018390142665732166,
          0.004339958726129586,
          0.09167764826947947,
          0.10638972875607407,
          -0.014962598166295065,
          0.09708979874163337,
          0.08153040518652226
         ],
         "yaxis": "y"
        },
        {
         "hovertemplate": "influencer=JoyfullyECO<br>month=%{x}<br>sentiment_echoer=%{y}<extra></extra>",
         "legendgroup": "JoyfullyECO",
         "line": {
          "color": "#FF6692",
          "dash": "solid"
         },
         "marker": {
          "symbol": "circle"
         },
         "mode": "lines",
         "name": "JoyfullyECO",
         "orientation": "v",
         "showlegend": true,
         "type": "scatter",
         "x": [
          "2017-09-01",
          "2017-10-01",
          "2017-11-01",
          "2017-12-01",
          "2018-01-01",
          "2018-02-01",
          "2018-03-01",
          "2018-04-01",
          "2018-05-01",
          "2018-12-01"
         ],
         "xaxis": "x",
         "y": [
          0.2064191183712225,
          0.1360589126842594,
          0.15694966886238185,
          0.14233700254348067,
          0.12252345116347774,
          0.17494011207980736,
          0.15739352965236594,
          0.14781195193077742,
          0.1813936987278327,
          0.3982178312540054
         ],
         "yaxis": "y"
        },
        {
         "hovertemplate": "influencer=MikeBloomberg<br>month=%{x}<br>sentiment_echoer=%{y}<extra></extra>",
         "legendgroup": "MikeBloomberg",
         "line": {
          "color": "#B6E880",
          "dash": "solid"
         },
         "marker": {
          "symbol": "circle"
         },
         "mode": "lines",
         "name": "MikeBloomberg",
         "orientation": "v",
         "showlegend": true,
         "type": "scatter",
         "x": [
          "2017-09-01",
          "2017-10-01",
          "2017-11-01",
          "2017-12-01",
          "2018-01-01",
          "2018-02-01",
          "2018-03-01",
          "2018-04-01",
          "2018-05-01",
          "2018-07-01",
          "2018-08-01",
          "2018-09-01",
          "2018-10-01",
          "2018-12-01",
          "2019-01-01"
         ],
         "xaxis": "x",
         "y": [
          0.6183028653053773,
          0.30843305017046535,
          0.29431301569479684,
          0.2856006092798083,
          0.08884272388888614,
          0.228746602930439,
          0.30072537623675233,
          0.32011186073956965,
          0.10831906372121525,
          0.33576792463653865,
          0.22941894952704342,
          0.3355963060364668,
          0.36889210850216875,
          0.22432022838126908,
          0.005413241748007715
         ],
         "yaxis": "y"
        },
        {
         "hovertemplate": "influencer=NRDC<br>month=%{x}<br>sentiment_echoer=%{y}<extra></extra>",
         "legendgroup": "NRDC",
         "line": {
          "color": "#FF97FF",
          "dash": "solid"
         },
         "marker": {
          "symbol": "circle"
         },
         "mode": "lines",
         "name": "NRDC",
         "orientation": "v",
         "showlegend": true,
         "type": "scatter",
         "x": [
          "2017-09-01",
          "2017-10-01",
          "2017-11-01",
          "2017-12-01",
          "2018-01-01",
          "2018-02-01",
          "2018-03-01",
          "2018-04-01",
          "2018-05-01",
          "2018-06-01",
          "2018-07-01",
          "2018-08-01",
          "2018-09-01",
          "2018-10-01",
          "2018-11-01",
          "2018-12-01",
          "2019-01-01"
         ],
         "xaxis": "x",
         "y": [
          0.051749509687195494,
          0.0005504988327040609,
          0.18256314318185024,
          0.10590174711641605,
          0.015181651682450567,
          0.0830880046761971,
          0.01928745800758581,
          0.007292075166856687,
          0.051073823330492,
          0.06488890070042572,
          0.06249863741743282,
          0.06979273013029219,
          0.14128156581295356,
          0.06248953130822098,
          -0.12982605415815388,
          0.0689506456596603,
          0.15802707703712926
         ],
         "yaxis": "y"
        },
        {
         "hovertemplate": "influencer=PaulEDawson<br>month=%{x}<br>sentiment_echoer=%{y}<extra></extra>",
         "legendgroup": "PaulEDawson",
         "line": {
          "color": "#FECB52",
          "dash": "solid"
         },
         "marker": {
          "symbol": "circle"
         },
         "mode": "lines",
         "name": "PaulEDawson",
         "orientation": "v",
         "showlegend": true,
         "type": "scatter",
         "x": [
          "2017-09-01",
          "2017-10-01",
          "2017-11-01",
          "2017-12-01",
          "2018-01-01",
          "2018-02-01",
          "2018-03-01",
          "2018-04-01",
          "2018-05-01",
          "2018-06-01",
          "2018-07-01",
          "2018-08-01",
          "2018-09-01",
          "2018-10-01",
          "2018-11-01",
          "2018-12-01",
          "2019-01-01"
         ],
         "xaxis": "x",
         "y": [
          0.04422663748112866,
          0.01564269584931346,
          0.07224286430861336,
          0.031106527533141533,
          0.016864285096242968,
          0.04276654290003978,
          0.06693913877769365,
          0.03163920161041789,
          0.05385271306910259,
          0.03449494564780905,
          -0.005851966712021224,
          0.022458842626370212,
          0.07348319533777908,
          0.03064573072504213,
          -0.04493879369178327,
          0.05371521692561237,
          0.06958710744819104
         ],
         "yaxis": "y"
        },
        {
         "hovertemplate": "influencer=SenSanders<br>month=%{x}<br>sentiment_echoer=%{y}<extra></extra>",
         "legendgroup": "SenSanders",
         "line": {
          "color": "#636efa",
          "dash": "solid"
         },
         "marker": {
          "symbol": "circle"
         },
         "mode": "lines",
         "name": "SenSanders",
         "orientation": "v",
         "showlegend": true,
         "type": "scatter",
         "x": [
          "2017-09-01",
          "2017-12-01",
          "2018-01-01",
          "2018-02-01",
          "2018-03-01",
          "2018-04-01",
          "2018-05-01",
          "2018-07-01",
          "2018-08-01",
          "2018-09-01",
          "2018-10-01",
          "2018-11-01",
          "2018-12-01",
          "2019-01-01"
         ],
         "xaxis": "x",
         "y": [
          0.11096019103369664,
          -0.1839414990782738,
          0.00416526312737174,
          -0.14469495431304497,
          -0.06036071386128383,
          -0.1829692463644942,
          0.08416445778645486,
          0.07900610996730958,
          -0.00927356478521249,
          0.0798319603304828,
          -0.12555120409611192,
          0.04809550588535425,
          0.0715007667851001,
          0.09580150911942628
         ],
         "yaxis": "y"
        },
        {
         "hovertemplate": "influencer=UNFCCC<br>month=%{x}<br>sentiment_echoer=%{y}<extra></extra>",
         "legendgroup": "UNFCCC",
         "line": {
          "color": "#EF553B",
          "dash": "solid"
         },
         "marker": {
          "symbol": "circle"
         },
         "mode": "lines",
         "name": "UNFCCC",
         "orientation": "v",
         "showlegend": true,
         "type": "scatter",
         "x": [
          "2017-09-01",
          "2017-10-01",
          "2017-11-01",
          "2017-12-01",
          "2018-01-01",
          "2018-02-01",
          "2018-03-01",
          "2018-04-01",
          "2018-05-01",
          "2018-06-01",
          "2018-07-01",
          "2018-08-01",
          "2018-09-01",
          "2018-10-01",
          "2018-11-01",
          "2018-12-01"
         ],
         "xaxis": "x",
         "y": [
          0.26396035183300676,
          0.13640734429339815,
          0.29616784539165275,
          0.2047218746329832,
          0.22225020339562154,
          0.2882121513823344,
          0.25657121374222147,
          0.3547694806611475,
          0.3029471955852146,
          0.8199019741773605,
          0.3575681814406492,
          0.16529450692012848,
          0.18619563337081918,
          0.13577706492549535,
          0.23376956922793743,
          0.29461287341376097
         ],
         "yaxis": "y"
        },
        {
         "hovertemplate": "influencer=annemariayritys<br>month=%{x}<br>sentiment_echoer=%{y}<extra></extra>",
         "legendgroup": "annemariayritys",
         "line": {
          "color": "#00cc96",
          "dash": "solid"
         },
         "marker": {
          "symbol": "circle"
         },
         "mode": "lines",
         "name": "annemariayritys",
         "orientation": "v",
         "showlegend": true,
         "type": "scatter",
         "x": [
          "2017-09-01",
          "2017-10-01",
          "2017-11-01",
          "2017-12-01",
          "2018-01-01",
          "2018-02-01",
          "2018-03-01",
          "2018-04-01",
          "2018-05-01",
          "2018-06-01",
          "2018-07-01",
          "2018-08-01",
          "2018-09-01",
          "2018-10-01",
          "2018-11-01",
          "2018-12-01",
          "2019-01-01"
         ],
         "xaxis": "x",
         "y": [
          0.19099416190608984,
          0.11896871161866908,
          0.1639599865066531,
          0.10689326119772644,
          0.12954580569652605,
          0.17984707057025284,
          0.17298550830722367,
          0.20189528921053168,
          0.18843550541824503,
          0.19296378309960224,
          0.21550825954463246,
          0.15738565134896998,
          0.17268983990023473,
          0.16562098379403925,
          0.07619443579833567,
          0.1083585329051561,
          0.19926869837992747
         ],
         "yaxis": "y"
        },
        {
         "hovertemplate": "influencer=billmckibben<br>month=%{x}<br>sentiment_echoer=%{y}<extra></extra>",
         "legendgroup": "billmckibben",
         "line": {
          "color": "#ab63fa",
          "dash": "solid"
         },
         "marker": {
          "symbol": "circle"
         },
         "mode": "lines",
         "name": "billmckibben",
         "orientation": "v",
         "showlegend": true,
         "type": "scatter",
         "x": [
          "2017-09-01",
          "2017-10-01",
          "2017-11-01",
          "2017-12-01",
          "2018-01-01",
          "2018-02-01",
          "2018-03-01",
          "2018-04-01",
          "2018-05-01",
          "2018-06-01",
          "2018-07-01",
          "2018-08-01",
          "2018-09-01",
          "2018-10-01",
          "2018-11-01",
          "2018-12-01",
          "2019-01-01"
         ],
         "xaxis": "x",
         "y": [
          0.25813160441388905,
          0.1975289467969172,
          0.021731577940776545,
          0.06015919834707453,
          0.107094059749912,
          0.06914706789636224,
          0.002855336392687894,
          0.15342070291008564,
          0.10186717807785482,
          0.12994686977212735,
          0.005167093029354319,
          0.024846724940413723,
          0.14346227730824354,
          -0.09733651907395732,
          0.22977656451623027,
          0.03339122669797386,
          0.14822556485095228
         ],
         "yaxis": "y"
        },
        {
         "hovertemplate": "influencer=brianschatz<br>month=%{x}<br>sentiment_echoer=%{y}<extra></extra>",
         "legendgroup": "brianschatz",
         "line": {
          "color": "#FFA15A",
          "dash": "solid"
         },
         "marker": {
          "symbol": "circle"
         },
         "mode": "lines",
         "name": "brianschatz",
         "orientation": "v",
         "showlegend": true,
         "type": "scatter",
         "x": [
          "2017-09-01",
          "2017-10-01",
          "2017-12-01",
          "2018-01-01",
          "2018-04-01",
          "2018-05-01",
          "2018-06-01",
          "2018-10-01",
          "2018-11-01",
          "2018-12-01",
          "2019-01-01"
         ],
         "xaxis": "x",
         "y": [
          -0.1333378086160022,
          -0.054629665997957835,
          -0.10883873625049395,
          -0.1680688301507353,
          -0.17758199313642758,
          0.05352932048103574,
          0.1179001903479499,
          0.0613307837050704,
          -0.27730346457512767,
          -0.23141353164200174,
          -0.2726076630842685
         ],
         "yaxis": "y"
        },
        {
         "hovertemplate": "influencer=britneyspears<br>month=%{x}<br>sentiment_echoer=%{y}<extra></extra>",
         "legendgroup": "britneyspears",
         "line": {
          "color": "#19d3f3",
          "dash": "solid"
         },
         "marker": {
          "symbol": "circle"
         },
         "mode": "lines",
         "name": "britneyspears",
         "orientation": "v",
         "showlegend": true,
         "type": "scatter",
         "x": [
          "2017-09-01",
          "2017-10-01",
          "2017-11-01",
          "2017-12-01",
          "2018-01-01",
          "2018-02-01",
          "2018-03-01",
          "2018-04-01",
          "2018-05-01",
          "2018-06-01",
          "2018-07-01",
          "2018-08-01",
          "2018-09-01",
          "2018-10-01",
          "2018-11-01",
          "2018-12-01",
          "2019-01-01"
         ],
         "xaxis": "x",
         "y": [
          null,
          null,
          0.078626030716837,
          -0.1899061189690699,
          0.06658881309616599,
          0.01102665873517595,
          -0.6206187321643035,
          null,
          -0.1419949548721313,
          -0.19529691401587593,
          null,
          null,
          -0.3018787263790766,
          -0.10022772528441792,
          0.42106186241176397,
          -0.06887314106455399,
          null
         ],
         "yaxis": "y"
        },
        {
         "hovertemplate": "influencer=kylegriffin1<br>month=%{x}<br>sentiment_echoer=%{y}<extra></extra>",
         "legendgroup": "kylegriffin1",
         "line": {
          "color": "#FF6692",
          "dash": "solid"
         },
         "marker": {
          "symbol": "circle"
         },
         "mode": "lines",
         "name": "kylegriffin1",
         "orientation": "v",
         "showlegend": true,
         "type": "scatter",
         "x": [
          "2017-09-01",
          "2017-10-01",
          "2017-11-01",
          "2017-12-01",
          "2018-01-01",
          "2018-02-01",
          "2018-03-01",
          "2018-04-01",
          "2018-05-01",
          "2018-06-01",
          "2018-08-01",
          "2018-09-01",
          "2018-10-01",
          "2018-12-01",
          "2019-01-01"
         ],
         "xaxis": "x",
         "y": [
          -0.36029245300114626,
          -0.14919963994952512,
          -0.195324452975097,
          -0.07889452132379239,
          -0.12461552530231548,
          -0.1457541462657985,
          -0.05579990752582722,
          -0.19135122711047256,
          -0.017894830628706414,
          -0.36670627005403045,
          0.004731118820005962,
          -0.00003280059465166421,
          -0.049278268233384416,
          -0.15729743849392339,
          0.0006003434746871747
         ],
         "yaxis": "y"
        },
        {
         "hovertemplate": "influencer=nowthisnews<br>month=%{x}<br>sentiment_echoer=%{y}<extra></extra>",
         "legendgroup": "nowthisnews",
         "line": {
          "color": "#B6E880",
          "dash": "solid"
         },
         "marker": {
          "symbol": "circle"
         },
         "mode": "lines",
         "name": "nowthisnews",
         "orientation": "v",
         "showlegend": true,
         "type": "scatter",
         "x": [
          "2017-09-01",
          "2017-10-01",
          "2017-11-01",
          "2017-12-01",
          "2018-01-01",
          "2018-02-01",
          "2018-03-01",
          "2018-04-01",
          "2018-05-01",
          "2018-06-01",
          "2018-07-01",
          "2018-08-01",
          "2018-09-01",
          "2018-10-01",
          "2018-11-01",
          "2018-12-01",
          "2019-01-01"
         ],
         "xaxis": "x",
         "y": [
          -0.19594934808130915,
          -0.04824921245207933,
          -0.06305862268032984,
          -0.15580660086030193,
          -0.154528464008927,
          -0.24127031665198323,
          -0.18694241139017506,
          0.0468958120843142,
          0.1044934542633395,
          0.035707158906262554,
          -0.1238863001213368,
          -0.01366184351553618,
          -0.2869500912764719,
          -0.17110595185667454,
          -0.08005226290486893,
          -0.03544453271839714,
          -0.08704512433573333
         ],
         "yaxis": "y"
        },
        {
         "hovertemplate": "influencer=nytimes<br>month=%{x}<br>sentiment_echoer=%{y}<extra></extra>",
         "legendgroup": "nytimes",
         "line": {
          "color": "#FF97FF",
          "dash": "solid"
         },
         "marker": {
          "symbol": "circle"
         },
         "mode": "lines",
         "name": "nytimes",
         "orientation": "v",
         "showlegend": true,
         "type": "scatter",
         "x": [
          "2017-09-01",
          "2017-10-01",
          "2017-11-01",
          "2017-12-01",
          "2018-01-01",
          "2018-02-01",
          "2018-03-01",
          "2018-04-01",
          "2018-05-01",
          "2018-06-01",
          "2018-07-01",
          "2018-08-01",
          "2018-09-01",
          "2018-10-01",
          "2018-11-01",
          "2018-12-01",
          "2019-01-01"
         ],
         "xaxis": "x",
         "y": [
          0.03177360865954824,
          -0.11858318302166786,
          -0.04682184839445269,
          0.004768140321657284,
          0.034559999100126734,
          0.011872716310407675,
          0.008261824142614546,
          -0.019594761191812193,
          0.17845711350084587,
          -0.30325650091228457,
          0.12378042175938121,
          0.024124135369865143,
          0.0481361501474184,
          -0.055161360816149085,
          -0.046087389862914364,
          0.016484561540311665,
          0.10955871188866016
         ],
         "yaxis": "y"
        },
        {
         "hovertemplate": "influencer=tedlieu<br>month=%{x}<br>sentiment_echoer=%{y}<extra></extra>",
         "legendgroup": "tedlieu",
         "line": {
          "color": "#FECB52",
          "dash": "solid"
         },
         "marker": {
          "symbol": "circle"
         },
         "mode": "lines",
         "name": "tedlieu",
         "orientation": "v",
         "showlegend": true,
         "type": "scatter",
         "x": [
          "2017-09-01",
          "2017-10-01",
          "2017-12-01",
          "2018-01-01",
          "2018-03-01",
          "2018-04-01",
          "2018-08-01",
          "2018-10-01",
          "2018-11-01",
          "2018-12-01"
         ],
         "xaxis": "x",
         "y": [
          0.059778072250380246,
          -0.0679697044800121,
          -0.12797533922679297,
          -0.21422195519393014,
          -0.022855547096293064,
          -0.0146841337782788,
          -0.02245332371641938,
          0.001656100153923,
          null,
          0.05946771552176017
         ],
         "yaxis": "y"
        },
        {
         "hovertemplate": "influencer=thehill<br>month=%{x}<br>sentiment_echoer=%{y}<extra></extra>",
         "legendgroup": "thehill",
         "line": {
          "color": "#636efa",
          "dash": "solid"
         },
         "marker": {
          "symbol": "circle"
         },
         "mode": "lines",
         "name": "thehill",
         "orientation": "v",
         "showlegend": true,
         "type": "scatter",
         "x": [
          "2017-09-01",
          "2017-10-01",
          "2017-11-01",
          "2017-12-01",
          "2018-01-01",
          "2018-02-01",
          "2018-03-01",
          "2018-04-01",
          "2018-05-01",
          "2018-06-01",
          "2018-07-01",
          "2018-08-01",
          "2018-09-01",
          "2018-10-01",
          "2018-11-01",
          "2018-12-01",
          "2019-01-01"
         ],
         "xaxis": "x",
         "y": [
          -0.11829270840472562,
          -0.13905843548090766,
          -0.07589606864883339,
          -0.10945420780385419,
          -0.0431130331777224,
          -0.07953870480751472,
          -0.12848900710295832,
          -0.11522948947654696,
          0.07475937909790734,
          -0.17233277947884185,
          -0.05714908577160694,
          -0.1449175424950627,
          -0.10366677190084266,
          -0.12079567668953399,
          -0.2199776171552671,
          -0.03530913445485367,
          -0.05012403666450755
         ],
         "yaxis": "y"
        },
        {
         "hovertemplate": "influencer=wef<br>month=%{x}<br>sentiment_echoer=%{y}<extra></extra>",
         "legendgroup": "wef",
         "line": {
          "color": "#EF553B",
          "dash": "solid"
         },
         "marker": {
          "symbol": "circle"
         },
         "mode": "lines",
         "name": "wef",
         "orientation": "v",
         "showlegend": true,
         "type": "scatter",
         "x": [
          "2017-09-01",
          "2017-10-01",
          "2017-11-01",
          "2017-12-01",
          "2018-01-01",
          "2018-02-01",
          "2018-03-01",
          "2018-04-01",
          "2018-05-01",
          "2018-06-01",
          "2018-07-01",
          "2018-08-01",
          "2018-09-01",
          "2018-10-01",
          "2018-11-01",
          "2018-12-01",
          "2019-01-01"
         ],
         "xaxis": "x",
         "y": [
          0.022146165108757533,
          0.15037687454920035,
          0.1459768043165372,
          0.11579105578890177,
          0.10200762070099519,
          0.20991186726944278,
          0.2084219562452988,
          0.17154254031576716,
          0.24768724012000273,
          0.23215284033975037,
          0.2648578914287601,
          0.22915642616817578,
          0.21445525436795682,
          0.20593945890430027,
          0.2894533448955008,
          0.20686440254818378,
          0.302062061504339
         ],
         "yaxis": "y"
        },
        {
         "hovertemplate": "influencer=DanRather<br>month=%{x}<br>sentiment_echoer=%{y}<extra></extra>",
         "legendgroup": "DanRather",
         "line": {
          "color": "#00cc96",
          "dash": "solid"
         },
         "marker": {
          "symbol": "circle"
         },
         "mode": "lines",
         "name": "DanRather",
         "orientation": "v",
         "showlegend": true,
         "type": "scatter",
         "x": [
          "2017-10-01",
          "2018-01-01",
          "2018-04-01",
          "2018-05-01",
          "2018-07-01",
          "2018-10-01",
          "2018-11-01",
          "2018-12-01",
          "2019-01-01"
         ],
         "xaxis": "x",
         "y": [
          -0.01628902969758152,
          0.059190433401777875,
          0.016211570433042177,
          0.17450943320366336,
          -0.41044507188967744,
          -0.32317821383155637,
          -0.1201446193398857,
          -0.14506783565164577,
          0.15766845722860762
         ],
         "yaxis": "y"
        },
        {
         "hovertemplate": "influencer=KamalaHarris<br>month=%{x}<br>sentiment_echoer=%{y}<extra></extra>",
         "legendgroup": "KamalaHarris",
         "line": {
          "color": "#ab63fa",
          "dash": "solid"
         },
         "marker": {
          "symbol": "circle"
         },
         "mode": "lines",
         "name": "KamalaHarris",
         "orientation": "v",
         "showlegend": true,
         "type": "scatter",
         "x": [
          "2017-10-01",
          "2017-11-01",
          "2018-02-01",
          "2018-03-01",
          "2018-05-01",
          "2018-06-01",
          "2018-08-01",
          "2018-09-01",
          "2018-10-01",
          "2018-11-01",
          "2018-12-01",
          "2019-01-01"
         ],
         "xaxis": "x",
         "y": [
          -0.04318531531054852,
          -0.11579145415666665,
          0.3220895379067244,
          0.1889981675474408,
          -0.007305415716669983,
          -0.425211181610986,
          -0.00441086928280852,
          -0.02112648776922747,
          0.08730522884657187,
          -0.10617499591796503,
          0.005358900384506725,
          0.29302074740203515
         ],
         "yaxis": "y"
        },
        {
         "hovertemplate": "influencer=joekennedy<br>month=%{x}<br>sentiment_echoer=%{y}<extra></extra>",
         "legendgroup": "joekennedy",
         "line": {
          "color": "#FFA15A",
          "dash": "solid"
         },
         "marker": {
          "symbol": "circle"
         },
         "mode": "lines",
         "name": "joekennedy",
         "orientation": "v",
         "showlegend": true,
         "type": "scatter",
         "x": [
          "2018-02-01",
          "2018-03-01",
          "2018-04-01",
          "2018-05-01",
          "2018-06-01",
          "2018-11-01",
          "2018-12-01",
          "2019-01-01"
         ],
         "xaxis": "x",
         "y": [
          -0.011381546696628622,
          0.04714601448176065,
          0.16429973481504406,
          0.007193818696652456,
          -0.1172570415364877,
          -0.14082982595120452,
          0.05278254234874709,
          0.2846868017520568
         ],
         "yaxis": "y"
        }
       ],
       "layout": {
        "legend": {
         "title": {
          "text": "influencer"
         },
         "tracegroupgap": 0
        },
        "template": {
         "data": {
          "bar": [
           {
            "error_x": {
             "color": "#2a3f5f"
            },
            "error_y": {
             "color": "#2a3f5f"
            },
            "marker": {
             "line": {
              "color": "#E5ECF6",
              "width": 0.5
             },
             "pattern": {
              "fillmode": "overlay",
              "size": 10,
              "solidity": 0.2
             }
            },
            "type": "bar"
           }
          ],
          "barpolar": [
           {
            "marker": {
             "line": {
              "color": "#E5ECF6",
              "width": 0.5
             },
             "pattern": {
              "fillmode": "overlay",
              "size": 10,
              "solidity": 0.2
             }
            },
            "type": "barpolar"
           }
          ],
          "carpet": [
           {
            "aaxis": {
             "endlinecolor": "#2a3f5f",
             "gridcolor": "white",
             "linecolor": "white",
             "minorgridcolor": "white",
             "startlinecolor": "#2a3f5f"
            },
            "baxis": {
             "endlinecolor": "#2a3f5f",
             "gridcolor": "white",
             "linecolor": "white",
             "minorgridcolor": "white",
             "startlinecolor": "#2a3f5f"
            },
            "type": "carpet"
           }
          ],
          "choropleth": [
           {
            "colorbar": {
             "outlinewidth": 0,
             "ticks": ""
            },
            "type": "choropleth"
           }
          ],
          "contour": [
           {
            "colorbar": {
             "outlinewidth": 0,
             "ticks": ""
            },
            "colorscale": [
             [
              0,
              "#0d0887"
             ],
             [
              0.1111111111111111,
              "#46039f"
             ],
             [
              0.2222222222222222,
              "#7201a8"
             ],
             [
              0.3333333333333333,
              "#9c179e"
             ],
             [
              0.4444444444444444,
              "#bd3786"
             ],
             [
              0.5555555555555556,
              "#d8576b"
             ],
             [
              0.6666666666666666,
              "#ed7953"
             ],
             [
              0.7777777777777778,
              "#fb9f3a"
             ],
             [
              0.8888888888888888,
              "#fdca26"
             ],
             [
              1,
              "#f0f921"
             ]
            ],
            "type": "contour"
           }
          ],
          "contourcarpet": [
           {
            "colorbar": {
             "outlinewidth": 0,
             "ticks": ""
            },
            "type": "contourcarpet"
           }
          ],
          "heatmap": [
           {
            "colorbar": {
             "outlinewidth": 0,
             "ticks": ""
            },
            "colorscale": [
             [
              0,
              "#0d0887"
             ],
             [
              0.1111111111111111,
              "#46039f"
             ],
             [
              0.2222222222222222,
              "#7201a8"
             ],
             [
              0.3333333333333333,
              "#9c179e"
             ],
             [
              0.4444444444444444,
              "#bd3786"
             ],
             [
              0.5555555555555556,
              "#d8576b"
             ],
             [
              0.6666666666666666,
              "#ed7953"
             ],
             [
              0.7777777777777778,
              "#fb9f3a"
             ],
             [
              0.8888888888888888,
              "#fdca26"
             ],
             [
              1,
              "#f0f921"
             ]
            ],
            "type": "heatmap"
           }
          ],
          "heatmapgl": [
           {
            "colorbar": {
             "outlinewidth": 0,
             "ticks": ""
            },
            "colorscale": [
             [
              0,
              "#0d0887"
             ],
             [
              0.1111111111111111,
              "#46039f"
             ],
             [
              0.2222222222222222,
              "#7201a8"
             ],
             [
              0.3333333333333333,
              "#9c179e"
             ],
             [
              0.4444444444444444,
              "#bd3786"
             ],
             [
              0.5555555555555556,
              "#d8576b"
             ],
             [
              0.6666666666666666,
              "#ed7953"
             ],
             [
              0.7777777777777778,
              "#fb9f3a"
             ],
             [
              0.8888888888888888,
              "#fdca26"
             ],
             [
              1,
              "#f0f921"
             ]
            ],
            "type": "heatmapgl"
           }
          ],
          "histogram": [
           {
            "marker": {
             "pattern": {
              "fillmode": "overlay",
              "size": 10,
              "solidity": 0.2
             }
            },
            "type": "histogram"
           }
          ],
          "histogram2d": [
           {
            "colorbar": {
             "outlinewidth": 0,
             "ticks": ""
            },
            "colorscale": [
             [
              0,
              "#0d0887"
             ],
             [
              0.1111111111111111,
              "#46039f"
             ],
             [
              0.2222222222222222,
              "#7201a8"
             ],
             [
              0.3333333333333333,
              "#9c179e"
             ],
             [
              0.4444444444444444,
              "#bd3786"
             ],
             [
              0.5555555555555556,
              "#d8576b"
             ],
             [
              0.6666666666666666,
              "#ed7953"
             ],
             [
              0.7777777777777778,
              "#fb9f3a"
             ],
             [
              0.8888888888888888,
              "#fdca26"
             ],
             [
              1,
              "#f0f921"
             ]
            ],
            "type": "histogram2d"
           }
          ],
          "histogram2dcontour": [
           {
            "colorbar": {
             "outlinewidth": 0,
             "ticks": ""
            },
            "colorscale": [
             [
              0,
              "#0d0887"
             ],
             [
              0.1111111111111111,
              "#46039f"
             ],
             [
              0.2222222222222222,
              "#7201a8"
             ],
             [
              0.3333333333333333,
              "#9c179e"
             ],
             [
              0.4444444444444444,
              "#bd3786"
             ],
             [
              0.5555555555555556,
              "#d8576b"
             ],
             [
              0.6666666666666666,
              "#ed7953"
             ],
             [
              0.7777777777777778,
              "#fb9f3a"
             ],
             [
              0.8888888888888888,
              "#fdca26"
             ],
             [
              1,
              "#f0f921"
             ]
            ],
            "type": "histogram2dcontour"
           }
          ],
          "mesh3d": [
           {
            "colorbar": {
             "outlinewidth": 0,
             "ticks": ""
            },
            "type": "mesh3d"
           }
          ],
          "parcoords": [
           {
            "line": {
             "colorbar": {
              "outlinewidth": 0,
              "ticks": ""
             }
            },
            "type": "parcoords"
           }
          ],
          "pie": [
           {
            "automargin": true,
            "type": "pie"
           }
          ],
          "scatter": [
           {
            "fillpattern": {
             "fillmode": "overlay",
             "size": 10,
             "solidity": 0.2
            },
            "type": "scatter"
           }
          ],
          "scatter3d": [
           {
            "line": {
             "colorbar": {
              "outlinewidth": 0,
              "ticks": ""
             }
            },
            "marker": {
             "colorbar": {
              "outlinewidth": 0,
              "ticks": ""
             }
            },
            "type": "scatter3d"
           }
          ],
          "scattercarpet": [
           {
            "marker": {
             "colorbar": {
              "outlinewidth": 0,
              "ticks": ""
             }
            },
            "type": "scattercarpet"
           }
          ],
          "scattergeo": [
           {
            "marker": {
             "colorbar": {
              "outlinewidth": 0,
              "ticks": ""
             }
            },
            "type": "scattergeo"
           }
          ],
          "scattergl": [
           {
            "marker": {
             "colorbar": {
              "outlinewidth": 0,
              "ticks": ""
             }
            },
            "type": "scattergl"
           }
          ],
          "scattermapbox": [
           {
            "marker": {
             "colorbar": {
              "outlinewidth": 0,
              "ticks": ""
             }
            },
            "type": "scattermapbox"
           }
          ],
          "scatterpolar": [
           {
            "marker": {
             "colorbar": {
              "outlinewidth": 0,
              "ticks": ""
             }
            },
            "type": "scatterpolar"
           }
          ],
          "scatterpolargl": [
           {
            "marker": {
             "colorbar": {
              "outlinewidth": 0,
              "ticks": ""
             }
            },
            "type": "scatterpolargl"
           }
          ],
          "scatterternary": [
           {
            "marker": {
             "colorbar": {
              "outlinewidth": 0,
              "ticks": ""
             }
            },
            "type": "scatterternary"
           }
          ],
          "surface": [
           {
            "colorbar": {
             "outlinewidth": 0,
             "ticks": ""
            },
            "colorscale": [
             [
              0,
              "#0d0887"
             ],
             [
              0.1111111111111111,
              "#46039f"
             ],
             [
              0.2222222222222222,
              "#7201a8"
             ],
             [
              0.3333333333333333,
              "#9c179e"
             ],
             [
              0.4444444444444444,
              "#bd3786"
             ],
             [
              0.5555555555555556,
              "#d8576b"
             ],
             [
              0.6666666666666666,
              "#ed7953"
             ],
             [
              0.7777777777777778,
              "#fb9f3a"
             ],
             [
              0.8888888888888888,
              "#fdca26"
             ],
             [
              1,
              "#f0f921"
             ]
            ],
            "type": "surface"
           }
          ],
          "table": [
           {
            "cells": {
             "fill": {
              "color": "#EBF0F8"
             },
             "line": {
              "color": "white"
             }
            },
            "header": {
             "fill": {
              "color": "#C8D4E3"
             },
             "line": {
              "color": "white"
             }
            },
            "type": "table"
           }
          ]
         },
         "layout": {
          "annotationdefaults": {
           "arrowcolor": "#2a3f5f",
           "arrowhead": 0,
           "arrowwidth": 1
          },
          "autotypenumbers": "strict",
          "coloraxis": {
           "colorbar": {
            "outlinewidth": 0,
            "ticks": ""
           }
          },
          "colorscale": {
           "diverging": [
            [
             0,
             "#8e0152"
            ],
            [
             0.1,
             "#c51b7d"
            ],
            [
             0.2,
             "#de77ae"
            ],
            [
             0.3,
             "#f1b6da"
            ],
            [
             0.4,
             "#fde0ef"
            ],
            [
             0.5,
             "#f7f7f7"
            ],
            [
             0.6,
             "#e6f5d0"
            ],
            [
             0.7,
             "#b8e186"
            ],
            [
             0.8,
             "#7fbc41"
            ],
            [
             0.9,
             "#4d9221"
            ],
            [
             1,
             "#276419"
            ]
           ],
           "sequential": [
            [
             0,
             "#0d0887"
            ],
            [
             0.1111111111111111,
             "#46039f"
            ],
            [
             0.2222222222222222,
             "#7201a8"
            ],
            [
             0.3333333333333333,
             "#9c179e"
            ],
            [
             0.4444444444444444,
             "#bd3786"
            ],
            [
             0.5555555555555556,
             "#d8576b"
            ],
            [
             0.6666666666666666,
             "#ed7953"
            ],
            [
             0.7777777777777778,
             "#fb9f3a"
            ],
            [
             0.8888888888888888,
             "#fdca26"
            ],
            [
             1,
             "#f0f921"
            ]
           ],
           "sequentialminus": [
            [
             0,
             "#0d0887"
            ],
            [
             0.1111111111111111,
             "#46039f"
            ],
            [
             0.2222222222222222,
             "#7201a8"
            ],
            [
             0.3333333333333333,
             "#9c179e"
            ],
            [
             0.4444444444444444,
             "#bd3786"
            ],
            [
             0.5555555555555556,
             "#d8576b"
            ],
            [
             0.6666666666666666,
             "#ed7953"
            ],
            [
             0.7777777777777778,
             "#fb9f3a"
            ],
            [
             0.8888888888888888,
             "#fdca26"
            ],
            [
             1,
             "#f0f921"
            ]
           ]
          },
          "colorway": [
           "#636efa",
           "#EF553B",
           "#00cc96",
           "#ab63fa",
           "#FFA15A",
           "#19d3f3",
           "#FF6692",
           "#B6E880",
           "#FF97FF",
           "#FECB52"
          ],
          "font": {
           "color": "#2a3f5f"
          },
          "geo": {
           "bgcolor": "white",
           "lakecolor": "white",
           "landcolor": "#E5ECF6",
           "showlakes": true,
           "showland": true,
           "subunitcolor": "white"
          },
          "hoverlabel": {
           "align": "left"
          },
          "hovermode": "closest",
          "mapbox": {
           "style": "light"
          },
          "paper_bgcolor": "white",
          "plot_bgcolor": "#E5ECF6",
          "polar": {
           "angularaxis": {
            "gridcolor": "white",
            "linecolor": "white",
            "ticks": ""
           },
           "bgcolor": "#E5ECF6",
           "radialaxis": {
            "gridcolor": "white",
            "linecolor": "white",
            "ticks": ""
           }
          },
          "scene": {
           "xaxis": {
            "backgroundcolor": "#E5ECF6",
            "gridcolor": "white",
            "gridwidth": 2,
            "linecolor": "white",
            "showbackground": true,
            "ticks": "",
            "zerolinecolor": "white"
           },
           "yaxis": {
            "backgroundcolor": "#E5ECF6",
            "gridcolor": "white",
            "gridwidth": 2,
            "linecolor": "white",
            "showbackground": true,
            "ticks": "",
            "zerolinecolor": "white"
           },
           "zaxis": {
            "backgroundcolor": "#E5ECF6",
            "gridcolor": "white",
            "gridwidth": 2,
            "linecolor": "white",
            "showbackground": true,
            "ticks": "",
            "zerolinecolor": "white"
           }
          },
          "shapedefaults": {
           "line": {
            "color": "#2a3f5f"
           }
          },
          "ternary": {
           "aaxis": {
            "gridcolor": "white",
            "linecolor": "white",
            "ticks": ""
           },
           "baxis": {
            "gridcolor": "white",
            "linecolor": "white",
            "ticks": ""
           },
           "bgcolor": "#E5ECF6",
           "caxis": {
            "gridcolor": "white",
            "linecolor": "white",
            "ticks": ""
           }
          },
          "title": {
           "x": 0.05
          },
          "xaxis": {
           "automargin": true,
           "gridcolor": "white",
           "linecolor": "white",
           "ticks": "",
           "title": {
            "standoff": 15
           },
           "zerolinecolor": "white",
           "zerolinewidth": 2
          },
          "yaxis": {
           "automargin": true,
           "gridcolor": "white",
           "linecolor": "white",
           "ticks": "",
           "title": {
            "standoff": 15
           },
           "zerolinecolor": "white",
           "zerolinewidth": 2
          }
         }
        },
        "title": {
         "text": "monthly echoer sentiment"
        },
        "xaxis": {
         "anchor": "y",
         "domain": [
          0,
          1
         ],
         "title": {
          "text": "month"
         }
        },
        "yaxis": {
         "anchor": "x",
         "domain": [
          0,
          1
         ],
         "title": {
          "text": "sentiment_echoer"
         }
        }
       }
      }
     },
     "metadata": {},
     "output_type": "display_data"
    }
   ],
   "source": [
    "px.line(\n",
    "    final_df,\n",
    "    x='month', \n",
    "    y='sentiment_echoer', \n",
    "    color='influencer',\n",
    "    title='monthly echoer sentiment'\n",
    ")"
   ]
  }
 ],
 "metadata": {
  "kernelspec": {
   "display_name": "Python 3.10.8 ('twitEnv': venv)",
   "language": "python",
   "name": "python3"
  },
  "language_info": {
   "codemirror_mode": {
    "name": "ipython",
    "version": 3
   },
   "file_extension": ".py",
   "mimetype": "text/x-python",
   "name": "python",
   "nbconvert_exporter": "python",
   "pygments_lexer": "ipython3",
   "version": "3.10.8"
  },
  "orig_nbformat": 4,
  "vscode": {
   "interpreter": {
    "hash": "51f4cb22758bf4d813282807242dc96b75b9f6927d275eddf1f9cf22690ed4aa"
   }
  }
 },
 "nbformat": 4,
 "nbformat_minor": 2
}
