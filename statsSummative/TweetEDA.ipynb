{
 "cells": [
  {
   "cell_type": "code",
   "execution_count": 1,
   "metadata": {},
   "outputs": [],
   "source": [
    "import json\n",
    "from dateutil import parser\n",
    "import TweetExtraction as te\n",
    "import pandas as pd\n",
    "import DataProcessing as dp\n",
    "import statsmodels.api as sm\n",
    "from statsmodels.api import families\n",
    "import matplotlib.pyplot as plt\n",
    "import numpy as np\n",
    "from operator import itemgetter\n",
    "from statsmodels.stats.diagnostic import het_white\n",
    "from datetime import datetime as dt\n",
    "import random as rnd\n",
    "from statsmodels.discrete.count_model import NegativeBinomialP, ZeroInflatedNegativeBinomialP\n",
    "from statsmodels.api import OLS\n",
    "from statsmodels.tools import add_constant\n",
    "import seaborn as sb\n",
    "\n",
    "chunk_files = [\n",
    "    './data/id_chunk0.jsonl', \n",
    "    './data/id_chunk1.jsonl', \n",
    "    './data/id_chunk2.jsonl', \n",
    "    './data/id_chunk3.jsonl', \n",
    "    './data/id_chunk4.jsonl',\n",
    "    './data/id_chunk_comp0.jsonl',\n",
    "    './data/id_chunk_comp1.jsonl',\n",
    "    './data/id_chunk_comp2.jsonl',\n",
    "    './data/id_chunk_comp3.jsonl',\n",
    "    './data/id_chunk_comp4.jsonl',\n",
    "    './data/id_chunk_comp5.jsonl',\n",
    "    './data/id_chunk_comp6.jsonl',\n",
    "    './data/id_chunk_comp7.jsonl',\n",
    "    './data/id_chunk_comp8.jsonl',\n",
    "    './data/id_chunk_comp9.jsonl'\n",
    "]"
   ]
  },
  {
   "cell_type": "code",
   "execution_count": 4,
   "metadata": {},
   "outputs": [],
   "source": [
    "# tweets_df = te.get_all_tweets(chunk_files)\n",
    "# tweets_df.to_pickle('./tweets.pkl')\n",
    "# combined_df = dp.merge_preprocess_climate_tweets(\n",
    "#     './data/climateTweets.csv',\n",
    "#     './tweets.pkl',\n",
    "#     retweets=False\n",
    "# )\n",
    "# combined_df.to_pickle('combined_tweets.pkl')"
   ]
  },
  {
   "cell_type": "code",
   "execution_count": 2,
   "metadata": {},
   "outputs": [],
   "source": [
    "def transformations(df):\n",
    "\n",
    "    new_df = df.copy()\n",
    "\n",
    "    new_df['log_text_len'] = new_df['text'].map(lambda x: np.log(len(x) + 1))\n",
    "    new_df['text_len'] = new_df['text'].map(lambda x: len(x))\n",
    "    \n",
    "    new_df['log_user_followers'] = np.log(new_df['user_followers'] + 1)\n",
    "    new_df['log_user_favorites'] = np.log(new_df['user_favorites'] + 1)\n",
    "    new_df['log_user_friends'] = np.log(new_df['user_friends'] + 1)\n",
    "    new_df['log_user_freq'] = np.log(new_df['user_freq'] + 1)\n",
    "    new_df['bool_user_verified'] = new_df['user_verified'].map(lambda x: int(x == True))\n",
    "\n",
    "    new_df['bool_hashtags'] = new_df['hashtags'].map(lambda x: int(x > 0))\n",
    "    new_df['bool_mentions'] = new_df['mentions'].map(lambda x: int(x > 0))\n",
    "    new_df['bool_urls'] = new_df['urls'].map(lambda x: int(x > 0))\n",
    "    new_df['bool_media'] = new_df['media'].map(lambda x: int(x > 0))\n",
    "    \n",
    "    new_df['bool_sensitive'] = new_df['sensitive'].map(lambda x: int(x == True))\n",
    "    new_df['bool_aggressive'] = new_df['aggressive']\n",
    "    new_df['bool_denier'] = new_df['denier']\n",
    "\n",
    "    new_df['bool_retweets'] = new_df['retweets'].map(lambda x: int(x > 0))\n",
    "    new_df['log_retweets'] = new_df['retweets'].map(lambda x: np.log(x + 1))\n",
    "\n",
    "    new_df['bool_favorites'] = new_df['favorites'].map(lambda x: int(x > 0))\n",
    "    new_df['log_favorites'] = new_df['favorites'].map(lambda x: np.log(x + 1))\n",
    "\n",
    "    new_df['emotionality'] = new_df['sentiment'].map(lambda x: np.abs(x))\n",
    "    new_df['bool_sentiment'] = new_df['sentiment'].map(lambda x: int(x > 0))\n",
    "    new_df['log_sentiment'] = new_df['sentiment'].map(lambda x: np.log(x + 1))\n",
    "\n",
    "    new_df['bool_awareness'] = new_df['topic'].map(lambda x: int(x == 'Awareness'))\n",
    "    new_df['bool_consumption'] = new_df['topic'].map(lambda x: int(x == 'Consumption'))\n",
    "    new_df['bool_emissions'] = new_df['topic'].map(lambda x: int(x == 'Emissions'))\n",
    "    new_df['bool_global'] = new_df['topic'].map(lambda x: int(x == 'Global'))\n",
    "    new_df['bool_ideology'] = new_df['topic'].map(lambda x: int(x == 'Ideology'))\n",
    "    new_df['bool_intervention'] = new_df['topic'].map(lambda x: int(x == 'Intervention'))\n",
    "    new_df['bool_politics'] = new_df['topic'].map(lambda x: int(x == 'Politics'))\n",
    "    new_df['bool_trump'] = new_df['topic'].map(lambda x: int(x == 'Trump'))\n",
    "    new_df['bool_undefined'] = new_df['topic'].map(lambda x: int(x == 'Undefined'))\n",
    "    new_df['bool_weather'] = new_df['topic'].map(lambda x: int(x == 'Weather'))\n",
    "\n",
    "    return new_df"
   ]
  },
  {
   "cell_type": "code",
   "execution_count": 3,
   "metadata": {},
   "outputs": [],
   "source": [
    "combined_df = pd.read_pickle('combined_tweets.pkl').drop_duplicates()"
   ]
  },
  {
   "cell_type": "code",
   "execution_count": 4,
   "metadata": {},
   "outputs": [],
   "source": [
    "translated_df = transformations(combined_df)"
   ]
  },
  {
   "cell_type": "code",
   "execution_count": 10,
   "metadata": {},
   "outputs": [],
   "source": [
    "awareness = translated_df[translated_df['bool_awareness'] == 1][['text']]"
   ]
  },
  {
   "cell_type": "code",
   "execution_count": 16,
   "metadata": {},
   "outputs": [
    {
     "data": {
      "text/html": [
       "<div>\n",
       "<style scoped>\n",
       "    .dataframe tbody tr th:only-of-type {\n",
       "        vertical-align: middle;\n",
       "    }\n",
       "\n",
       "    .dataframe tbody tr th {\n",
       "        vertical-align: top;\n",
       "    }\n",
       "\n",
       "    .dataframe thead th {\n",
       "        text-align: right;\n",
       "    }\n",
       "</style>\n",
       "<table border=\"1\" class=\"dataframe\">\n",
       "  <thead>\n",
       "    <tr style=\"text-align: right;\">\n",
       "      <th></th>\n",
       "      <th>text</th>\n",
       "    </tr>\n",
       "  </thead>\n",
       "  <tbody>\n",
       "    <tr>\n",
       "      <th>3830284</th>\n",
       "      <td>‘Mustang Means Freedom’: Why Ford Is Saving an American Icon https://t.co/85hIFqD25I\\nAs long as gas prices CAFE standards are kept too low , the auto industry will turn out more &amp;amp; more gas-guzzling trucks &amp;amp; SUVs &amp;amp; speed up global warming.</td>\n",
       "    </tr>\n",
       "    <tr>\n",
       "      <th>1646563</th>\n",
       "      <td>A picture NatGeo put out a while ago. They claimed the bear was dying because of industry induced climate change. False. The truth: the bear was dying of old age (which they knew). Also the polar bear population is growing. In the 60s there were approx 6000, presently, 28,000. https://t.co/sLvZfVp8sN</td>\n",
       "    </tr>\n",
       "    <tr>\n",
       "      <th>3311222</th>\n",
       "      <td>RT @wildlifeaction Save polar bears - and people! - from global warming polluters before it's too late: http://bit.ly/dX4izx</td>\n",
       "    </tr>\n",
       "    <tr>\n",
       "      <th>1616712</th>\n",
       "      <td>#excellent #globalwarming #lexapro #medicine #pharmacy http://62.99.70.17/crisp.htm</td>\n",
       "    </tr>\n",
       "    <tr>\n",
       "      <th>6582811</th>\n",
       "      <td>Article: Bangkok Car Free Day this Sunday to raise awareness of global warming http://t.co/fDaX4El</td>\n",
       "    </tr>\n",
       "  </tbody>\n",
       "</table>\n",
       "</div>"
      ],
      "text/plain": [
       "                                                                                                                                                                                                                                                                                                                  text\n",
       "3830284                                                    ‘Mustang Means Freedom’: Why Ford Is Saving an American Icon https://t.co/85hIFqD25I\\nAs long as gas prices CAFE standards are kept too low , the auto industry will turn out more &amp; more gas-guzzling trucks &amp; SUVs &amp; speed up global warming.\n",
       "1646563  A picture NatGeo put out a while ago. They claimed the bear was dying because of industry induced climate change. False. The truth: the bear was dying of old age (which they knew). Also the polar bear population is growing. In the 60s there were approx 6000, presently, 28,000. https://t.co/sLvZfVp8sN\n",
       "3311222                                                                                                                                                                                   RT @wildlifeaction Save polar bears - and people! - from global warming polluters before it's too late: http://bit.ly/dX4izx\n",
       "1616712                                                                                                                                                                                                                            #excellent #globalwarming #lexapro #medicine #pharmacy http://62.99.70.17/crisp.htm\n",
       "6582811                                                                                                                                                                                                             Article: Bangkok Car Free Day this Sunday to raise awareness of global warming http://t.co/fDaX4El"
      ]
     },
     "metadata": {},
     "output_type": "display_data"
    }
   ],
   "source": [
    "with pd.option_context('display.max_colwidth', None):\n",
    "    display(awareness.sample(5))"
   ]
  },
  {
   "cell_type": "code",
   "execution_count": 60,
   "metadata": {},
   "outputs": [],
   "source": [
    "user_predictors = [\n",
    "    'log_user_followers', 'bool_user_verified', 'log_user_friends', 'log_user_freq', 'log_user_favorites'\n",
    "]\n",
    "structural_predictors = [\n",
    "    'bool_hashtags', 'bool_mentions', 'bool_urls', 'bool_media', 'bool_sensitive', 'log_text_len'\n",
    "]\n",
    "content_predictors = [\n",
    "    'sentiment', 'bool_aggressive'\n",
    "]\n",
    "framing_predictors = [\n",
    "    'bool_denier', 'bool_awareness', 'bool_consumption', 'bool_emissions', 'bool_global', \n",
    "    'bool_ideology', 'bool_intervention', 'bool_politics', 'bool_trump', \n",
    "    'bool_weather'\n",
    "]\n",
    "numeric_predictors = user_predictors + structural_predictors + content_predictors + framing_predictors"
   ]
  },
  {
   "attachments": {},
   "cell_type": "markdown",
   "metadata": {},
   "source": [
    "## Descriptive Data Analysis"
   ]
  },
  {
   "cell_type": "code",
   "execution_count": 6,
   "metadata": {},
   "outputs": [
    {
     "data": {
      "text/html": [
       "<div>\n",
       "<style scoped>\n",
       "    .dataframe tbody tr th:only-of-type {\n",
       "        vertical-align: middle;\n",
       "    }\n",
       "\n",
       "    .dataframe tbody tr th {\n",
       "        vertical-align: top;\n",
       "    }\n",
       "\n",
       "    .dataframe thead th {\n",
       "        text-align: right;\n",
       "    }\n",
       "</style>\n",
       "<table border=\"1\" class=\"dataframe\">\n",
       "  <thead>\n",
       "    <tr style=\"text-align: right;\">\n",
       "      <th></th>\n",
       "      <th>text</th>\n",
       "    </tr>\n",
       "  </thead>\n",
       "  <tbody>\n",
       "    <tr>\n",
       "      <th>1227</th>\n",
       "      <td>@Lid79908481's account is temporarily unavailable because it violates the Twitter Media Policy. Learn more.</td>\n",
       "    </tr>\n",
       "    <tr>\n",
       "      <th>2093</th>\n",
       "      <td>It's happening right now, not very far! a few hours by plane from home! #poverty#climatechange#UN#refugee#asia#humantight#climate#chine#usa# https://t.co/6fuXIw0gVd</td>\n",
       "    </tr>\n",
       "    <tr>\n",
       "      <th>5636</th>\n",
       "      <td>窓が割れるので東急はクソ</td>\n",
       "    </tr>\n",
       "    <tr>\n",
       "      <th>6161</th>\n",
       "      <td>@na_co_UoxoU @Candy みんなにはほよりとかほよとかほよちゃんとかって呼ばれるよ🤟🏻\\n呼びやすいように呼んでもらえれば( ᐡ｡› ·̫ ‹｡ᐡ )♡</td>\n",
       "    </tr>\n",
       "    <tr>\n",
       "      <th>6187</th>\n",
       "      <td>@Pamela_moreiraa @netopaodequeijo @mnnau_ ta</td>\n",
       "    </tr>\n",
       "    <tr>\n",
       "      <th>...</th>\n",
       "      <td>...</td>\n",
       "    </tr>\n",
       "    <tr>\n",
       "      <th>7672654</th>\n",
       "      <td>#irma#climatechange\\nRead Isaiah ch24\\nThe Lord's devastation of the earth\\nHe will lay it waste &amp;amp; it will affect ALL\\nas all bear guilt ......</td>\n",
       "    </tr>\n",
       "    <tr>\n",
       "      <th>7674988</th>\n",
       "      <td>Fascinating : \"Where is the remotest place on earth?\"  http://bit.ly/O2yQ6 #ecology#climatechange#environment</td>\n",
       "    </tr>\n",
       "    <tr>\n",
       "      <th>7676079</th>\n",
       "      <td>@Peston So if the US gets its trade deal and the NHS is privatised how does that help the working class Robert?</td>\n",
       "    </tr>\n",
       "    <tr>\n",
       "      <th>7677817</th>\n",
       "      <td>Every Argument Against Veganism | Ed Winters | TEDxBathUniversity https://t.co/NeDuHXnOkb via @YouTube #meat#dairy#vegan#animals#health#awareness#bethechange#climatechange#gogreen#environmental#love#earthlinged#amazing#food#ethical#hearthealth#cancerawareness</td>\n",
       "    </tr>\n",
       "    <tr>\n",
       "      <th>7683427</th>\n",
       "      <td>@The_MrLoew @MarcFarzetta Brett is an average coach\\nAt best</td>\n",
       "    </tr>\n",
       "  </tbody>\n",
       "</table>\n",
       "<p>3915 rows × 1 columns</p>\n",
       "</div>"
      ],
      "text/plain": [
       "                                                                                                                                                                                                                                                                        text\n",
       "1227                                                                                                                                                             @Lid79908481's account is temporarily unavailable because it violates the Twitter Media Policy. Learn more.\n",
       "2093                                                                                                    It's happening right now, not very far! a few hours by plane from home! #poverty#climatechange#UN#refugee#asia#humantight#climate#chine#usa# https://t.co/6fuXIw0gVd\n",
       "5636                                                                                                                                                                                                                                                            窓が割れるので東急はクソ\n",
       "6161                                                                                                                                                                                     @na_co_UoxoU @Candy みんなにはほよりとかほよとかほよちゃんとかって呼ばれるよ🤟🏻\\n呼びやすいように呼んでもらえれば( ᐡ｡› ·̫ ‹｡ᐡ )♡\n",
       "6187                                                                                                                                                                                                                            @Pamela_moreiraa @netopaodequeijo @mnnau_ ta\n",
       "...                                                                                                                                                                                                                                                                      ...\n",
       "7672654                                                                                                                  #irma#climatechange\\nRead Isaiah ch24\\nThe Lord's devastation of the earth\\nHe will lay it waste &amp; it will affect ALL\\nas all bear guilt ......\n",
       "7674988                                                                                                                                                        Fascinating : \"Where is the remotest place on earth?\"  http://bit.ly/O2yQ6 #ecology#climatechange#environment\n",
       "7676079                                                                                                                                                      @Peston So if the US gets its trade deal and the NHS is privatised how does that help the working class Robert?\n",
       "7677817  Every Argument Against Veganism | Ed Winters | TEDxBathUniversity https://t.co/NeDuHXnOkb via @YouTube #meat#dairy#vegan#animals#health#awareness#bethechange#climatechange#gogreen#environmental#love#earthlinged#amazing#food#ethical#hearthealth#cancerawareness\n",
       "7683427                                                                                                                                                                                                         @The_MrLoew @MarcFarzetta Brett is an average coach\\nAt best\n",
       "\n",
       "[3915 rows x 1 columns]"
      ]
     },
     "metadata": {},
     "output_type": "display_data"
    }
   ],
   "source": [
    "hashtagless = translated_df[translated_df['bool_hashtags'] == 0]\n",
    "keyword_filter = hashtagless['text'].map(lambda x: 'climate change' in x.lower() or 'global warming' in x.lower() or 'climate hoax' in x.lower())\n",
    "with pd.option_context('display.max_colwidth', None):\n",
    "    display(hashtagless[~keyword_filter][['text']])"
   ]
  },
  {
   "cell_type": "code",
   "execution_count": 7,
   "metadata": {},
   "outputs": [
    {
     "data": {
      "text/plain": [
       "Global          0.25\n",
       "Weather         0.19\n",
       "Intervention    0.15\n",
       "Undefined       0.11\n",
       "Politics        0.09\n",
       "Trump           0.07\n",
       "Emissions       0.07\n",
       "Ideology        0.04\n",
       "Consumption     0.03\n",
       "Awareness       0.02\n",
       "Name: topic, dtype: float64"
      ]
     },
     "execution_count": 7,
     "metadata": {},
     "output_type": "execute_result"
    }
   ],
   "source": [
    "np.round(translated_df['topic'].value_counts() / len(translated_df), 2)"
   ]
  },
  {
   "cell_type": "code",
   "execution_count": 8,
   "metadata": {},
   "outputs": [
    {
     "data": {
      "text/plain": [
       "0.8068691348272744"
      ]
     },
     "execution_count": 8,
     "metadata": {},
     "output_type": "execute_result"
    }
   ],
   "source": [
    "len(translated_df[translated_df['bool_retweets'] == 0]) / len(translated_df)"
   ]
  },
  {
   "cell_type": "code",
   "execution_count": 30,
   "metadata": {},
   "outputs": [
    {
     "data": {
      "text/html": [
       "<div>\n",
       "<style scoped>\n",
       "    .dataframe tbody tr th:only-of-type {\n",
       "        vertical-align: middle;\n",
       "    }\n",
       "\n",
       "    .dataframe tbody tr th {\n",
       "        vertical-align: top;\n",
       "    }\n",
       "\n",
       "    .dataframe thead th {\n",
       "        text-align: right;\n",
       "    }\n",
       "</style>\n",
       "<table border=\"1\" class=\"dataframe\">\n",
       "  <thead>\n",
       "    <tr style=\"text-align: right;\">\n",
       "      <th></th>\n",
       "      <th>retweets</th>\n",
       "    </tr>\n",
       "  </thead>\n",
       "  <tbody>\n",
       "    <tr>\n",
       "      <th>count</th>\n",
       "      <td>7,641,399.00</td>\n",
       "    </tr>\n",
       "    <tr>\n",
       "      <th>mean</th>\n",
       "      <td>1.82</td>\n",
       "    </tr>\n",
       "    <tr>\n",
       "      <th>std</th>\n",
       "      <td>118.83</td>\n",
       "    </tr>\n",
       "    <tr>\n",
       "      <th>min</th>\n",
       "      <td>0.00</td>\n",
       "    </tr>\n",
       "    <tr>\n",
       "      <th>25%</th>\n",
       "      <td>0.00</td>\n",
       "    </tr>\n",
       "    <tr>\n",
       "      <th>50%</th>\n",
       "      <td>0.00</td>\n",
       "    </tr>\n",
       "    <tr>\n",
       "      <th>75%</th>\n",
       "      <td>0.00</td>\n",
       "    </tr>\n",
       "    <tr>\n",
       "      <th>max</th>\n",
       "      <td>149,655.00</td>\n",
       "    </tr>\n",
       "  </tbody>\n",
       "</table>\n",
       "</div>"
      ],
      "text/plain": [
       "                  retweets\n",
       "count         7,641,399.00\n",
       "mean                  1.82\n",
       "std                 118.83\n",
       "min                   0.00\n",
       "25%                   0.00\n",
       "50%                   0.00\n",
       "75%                   0.00\n",
       "max             149,655.00"
      ]
     },
     "metadata": {},
     "output_type": "display_data"
    }
   ],
   "source": [
    "with pd.option_context('display.max_columns', None, 'display.float_format', '{:20,.2f}'.format):\n",
    "    display(translated_df[['retweets']].describe())"
   ]
  },
  {
   "cell_type": "code",
   "execution_count": 40,
   "metadata": {},
   "outputs": [
    {
     "data": {
      "text/plain": [
       "<AxesSubplot: >"
      ]
     },
     "execution_count": 40,
     "metadata": {},
     "output_type": "execute_result"
    },
    {
     "data": {
      "image/png": "[encoded data removed]",
      "text/plain": [
       "<Figure size 640x480 with 1 Axes>"
      ]
     },
     "metadata": {},
     "output_type": "display_data"
    }
   ],
   "source": [
    "translated_df[translated_df['bool_awareness'] == 1]['log_retweets']"
   ]
  },
  {
   "cell_type": "code",
   "execution_count": 44,
   "metadata": {},
   "outputs": [
    {
     "data": {
      "text/plain": [
       "0.9602011230411546"
      ]
     },
     "execution_count": 44,
     "metadata": {},
     "output_type": "execute_result"
    }
   ],
   "source": [
    "def gini(x):\n",
    "    total = 0\n",
    "    for i, xi in enumerate(x[:-1], 1):\n",
    "        total += np.sum(np.abs(xi - x[i:]))\n",
    "    return total / (len(x)**2 * np.mean(x))\n",
    "\n",
    "gini(translated_df['retweets'].sample(100000).to_numpy())"
   ]
  },
  {
   "attachments": {},
   "cell_type": "markdown",
   "metadata": {},
   "source": [
    "## Modeling"
   ]
  },
  {
   "cell_type": "code",
   "execution_count": 10,
   "metadata": {},
   "outputs": [],
   "source": [
    "# equation = f\"retweets ~ {' + '.join(numeric_predictors)}\"\n",
    "# # alpha estimation\n",
    "# lambda_model = sm.glm(\n",
    "#     equation,\n",
    "#     data = translated_df,\n",
    "#     family=families.Poisson()\n",
    "# ).fit()\n",
    "\n",
    "# translated_df['lambdas'] = lambda_model.mu\n",
    "# translated_df['dependent'] = translated_df.apply(lambda x: ((x['retweets'] - x['lambdas'])**2 - x['lambdas']) / x['lambdas'], axis=1)\n",
    "\n",
    "# alpha_model = sm.ols(\n",
    "#     \"dependent ~ lambdas - 1\",\n",
    "#     data=translated_df\n",
    "# ).fit()\n",
    "\n",
    "# print(alpha_model.params)\n",
    "\n",
    "# model = sm.glm(equation, data=translated_df, family=families.NegativeBinomial(alpha=120.223555)).fit()\n",
    "# print(model.summary())"
   ]
  },
  {
   "cell_type": "code",
   "execution_count": 52,
   "metadata": {},
   "outputs": [
    {
     "name": "stdout",
     "output_type": "stream",
     "text": [
      "                            OLS Regression Results                            \n",
      "==============================================================================\n",
      "Dep. Variable:               retweets   R-squared:                       0.002\n",
      "Model:                            OLS   Adj. R-squared:                  0.002\n",
      "Method:                 Least Squares   F-statistic:                     624.4\n",
      "Date:                Thu, 12 Jan 2023   Prob (F-statistic):               0.00\n",
      "Time:                        17:04:52   Log-Likelihood:            -4.7344e+07\n",
      "No. Observations:             7641399   AIC:                         9.469e+07\n",
      "Df Residuals:                 7641375   BIC:                         9.469e+07\n",
      "Df Model:                          23                                         \n",
      "Covariance Type:            nonrobust                                         \n",
      "======================================================================================\n",
      "                         coef    std err          t      P>|t|      [0.025      0.975]\n",
      "--------------------------------------------------------------------------------------\n",
      "const                -12.7406      0.553    -23.058      0.000     -13.824     -11.658\n",
      "log_user_followers     2.3002      0.032     72.520      0.000       2.238       2.362\n",
      "bool_user_verified     7.8075      0.210     37.152      0.000       7.396       8.219\n",
      "log_user_friends      -1.1086      0.030    -36.991      0.000      -1.167      -1.050\n",
      "log_user_freq         -1.3141      0.038    -34.992      0.000      -1.388      -1.241\n",
      "log_user_favorites     0.0101      0.015      0.658      0.510      -0.020       0.040\n",
      "bool_hashtags         -1.1231      0.102    -11.059      0.000      -1.322      -0.924\n",
      "bool_mentions         -1.2899      0.098    -13.225      0.000      -1.481      -1.099\n",
      "bool_urls             -1.1557      0.098    -11.735      0.000      -1.349      -0.963\n",
      "bool_media             0.8073      0.133      6.064      0.000       0.546       1.068\n",
      "bool_sensitive         1.3927      0.638      2.183      0.029       0.142       2.643\n",
      "log_text_len           1.7938      0.109     16.404      0.000       1.579       2.008\n",
      "sentiment             -0.6695      0.105     -6.360      0.000      -0.876      -0.463\n",
      "bool_aggressive        0.9077      0.095      9.559      0.000       0.722       1.094\n",
      "bool_denier           -0.4715      0.156     -3.015      0.003      -0.778      -0.165\n",
      "bool_awareness         1.5704      0.311      5.055      0.000       0.962       2.179\n",
      "bool_consumption       0.7949      0.297      2.680      0.007       0.214       1.376\n",
      "bool_emissions        -0.1570      0.226     -0.696      0.487      -0.599       0.285\n",
      "bool_global           -0.3061      0.170     -1.796      0.073      -0.640       0.028\n",
      "bool_ideology          0.6095      0.275      2.215      0.027       0.070       1.149\n",
      "bool_intervention      0.1667      0.184      0.906      0.365      -0.194       0.527\n",
      "bool_politics          0.9881      0.208      4.745      0.000       0.580       1.396\n",
      "bool_trump             0.3406      0.229      1.488      0.137      -0.108       0.789\n",
      "bool_weather           0.2058      0.190      1.082      0.279      -0.167       0.579\n",
      "=================================================================================\n",
      "Omnibus:                 50717583.967   Durbin-Watson:                      1.999\n",
      "Prob(Omnibus):                  0.000   Jarque-Bera (JB):   97880572038324272.000\n",
      "Skew:                         629.794   Prob(JB):                            0.00\n",
      "Kurtosis:                  554458.009   Cond. No.                            200.\n",
      "=================================================================================\n",
      "\n",
      "Notes:\n",
      "[1] Standard Errors assume that the covariance matrix of the errors is correctly specified.\n"
     ]
    }
   ],
   "source": [
    "ols_model = OLS(\n",
    "    endog=translated_df['retweets'],\n",
    "    exog=add_constant(translated_df[numeric_predictors]),\n",
    ").fit()\n",
    "print(ols_model.summary())"
   ]
  },
  {
   "cell_type": "code",
   "execution_count": 53,
   "metadata": {},
   "outputs": [
    {
     "name": "stdout",
     "output_type": "stream",
     "text": [
      "Optimization terminated successfully    (Exit mode 0)\n",
      "            Current function value: 4.379057234326717\n",
      "            Iterations: 77\n",
      "            Function evaluations: 84\n",
      "            Gradient evaluations: 77\n",
      "                          Poisson Regression Results                          \n",
      "==============================================================================\n",
      "Dep. Variable:               retweets   No. Observations:              7641399\n",
      "Model:                        Poisson   Df Residuals:                  7641375\n",
      "Method:                           MLE   Df Model:                           23\n",
      "Date:                Thu, 12 Jan 2023   Pseudo R-squ.:                  0.4847\n",
      "Time:                        17:05:37   Log-Likelihood:            -3.3462e+07\n",
      "converged:                       True   LL-Null:                   -6.4941e+07\n",
      "Covariance Type:            nonrobust   LLR p-value:                     0.000\n",
      "======================================================================================\n",
      "                         coef    std err          z      P>|z|      [0.025      0.975]\n",
      "--------------------------------------------------------------------------------------\n",
      "const                -10.9194      0.004  -2674.516      0.000     -10.927     -10.911\n",
      "log_user_followers     0.7726      0.000   5747.000      0.000       0.772       0.773\n",
      "bool_user_verified    -0.1118      0.001   -137.787      0.000      -0.113      -0.110\n",
      "log_user_friends      -0.0364      0.000   -221.765      0.000      -0.037      -0.036\n",
      "log_user_freq         -0.7596      0.000  -2751.671      0.000      -0.760      -0.759\n",
      "log_user_favorites     0.1556      0.000   1151.672      0.000       0.155       0.156\n",
      "bool_hashtags         -0.2583      0.001   -411.779      0.000      -0.259      -0.257\n",
      "bool_mentions         -0.6486      0.001   -965.575      0.000      -0.650      -0.647\n",
      "bool_urls             -0.4869      0.001   -839.896      0.000      -0.488      -0.486\n",
      "bool_media             0.3454      0.001    546.738      0.000       0.344       0.347\n",
      "bool_sensitive         0.2206      0.006     37.174      0.000       0.209       0.232\n",
      "log_text_len           1.0811      0.001   1503.633      0.000       1.080       1.083\n",
      "sentiment             -0.3638      0.001   -557.217      0.000      -0.365      -0.363\n",
      "bool_aggressive        0.4250      0.001    734.381      0.000       0.424       0.426\n",
      "bool_denier           -0.4411      0.001   -294.620      0.000      -0.444      -0.438\n",
      "bool_awareness         0.5404      0.002    326.954      0.000       0.537       0.544\n",
      "bool_consumption       0.4030      0.002    224.871      0.000       0.399       0.406\n",
      "bool_emissions         0.0292      0.002     18.535      0.000       0.026       0.032\n",
      "bool_global           -0.0475      0.001    -40.028      0.000      -0.050      -0.045\n",
      "bool_ideology          0.4494      0.002    224.430      0.000       0.446       0.453\n",
      "bool_intervention      0.1402      0.001    113.937      0.000       0.138       0.143\n",
      "bool_politics          0.3268      0.001    246.024      0.000       0.324       0.329\n",
      "bool_trump             0.1854      0.002    119.012      0.000       0.182       0.188\n",
      "bool_weather           0.1585      0.001    111.104      0.000       0.156       0.161\n",
      "======================================================================================\n"
     ]
    }
   ],
   "source": [
    "pois_model = Poisson(\n",
    "    endog=translated_df['retweets'],\n",
    "    exog=add_constant(translated_df[numeric_predictors]),\n",
    ").fit_regularized()\n",
    "print(pois_model.summary())"
   ]
  },
  {
   "cell_type": "code",
   "execution_count": 61,
   "metadata": {},
   "outputs": [
    {
     "name": "stdout",
     "output_type": "stream",
     "text": [
      "Optimization terminated successfully    (Exit mode 0)\n",
      "            Current function value: 0.8226540307332144\n",
      "            Iterations: 162\n",
      "            Function evaluations: 164\n",
      "            Gradient evaluations: 162\n"
     ]
    },
    {
     "name": "stderr",
     "output_type": "stream",
     "text": [
      "/Users/matthewbone/Documents/Coding/VSCode/twitterChambers/twitEnv/lib/python3.10/site-packages/statsmodels/discrete/discrete_model.py:3122: RuntimeWarning: invalid value encountered in log\n",
      "  a1 * np.log(a1) + y * np.log(mu) -\n"
     ]
    },
    {
     "name": "stdout",
     "output_type": "stream",
     "text": [
      "                     NegativeBinomialP Regression Results                     \n",
      "==============================================================================\n",
      "Dep. Variable:               retweets   No. Observations:              7641399\n",
      "Model:              NegativeBinomialP   Df Residuals:                  7641375\n",
      "Method:                           MLE   Df Model:                           23\n",
      "Date:                Thu, 12 Jan 2023   Pseudo R-squ.:                  0.1450\n",
      "Time:                        20:35:04   Log-Likelihood:            -6.2862e+06\n",
      "converged:                       True   LL-Null:                   -7.3522e+06\n",
      "Covariance Type:            nonrobust   LLR p-value:                     0.000\n",
      "======================================================================================\n",
      "                         coef    std err          z      P>|z|      [0.025      0.975]\n",
      "--------------------------------------------------------------------------------------\n",
      "const                 -9.3176      0.015   -619.204      0.000      -9.347      -9.288\n",
      "log_user_followers     0.7008      0.001    806.738      0.000       0.699       0.702\n",
      "bool_user_verified     0.2430      0.005     52.478      0.000       0.234       0.252\n",
      "log_user_friends      -0.1996      0.001   -229.541      0.000      -0.201      -0.198\n",
      "log_user_freq         -0.6355      0.001   -579.452      0.000      -0.638      -0.633\n",
      "log_user_favorites     0.1923      0.000    432.469      0.000       0.191       0.193\n",
      "bool_hashtags          0.2354      0.003     90.105      0.000       0.230       0.240\n",
      "bool_mentions         -0.4814      0.002   -193.273      0.000      -0.486      -0.476\n",
      "bool_urls             -0.2225      0.003    -86.056      0.000      -0.228      -0.217\n",
      "bool_media             0.6842      0.003    228.920      0.000       0.678       0.690\n",
      "bool_sensitive        -0.2546      0.019    -13.712      0.000      -0.291      -0.218\n",
      "log_text_len           0.8853      0.003    308.588      0.000       0.880       0.891\n",
      "sentiment             -0.3052      0.003   -111.737      0.000      -0.311      -0.300\n",
      "bool_aggressive        0.2755      0.003    108.733      0.000       0.271       0.280\n",
      "bool_denier           -0.4450      0.004    -99.549      0.000      -0.454      -0.436\n",
      "bool_awareness         0.8883      0.008    117.514      0.000       0.873       0.903\n",
      "bool_consumption       0.3644      0.007     48.967      0.000       0.350       0.379\n",
      "bool_emissions         0.1747      0.006     29.828      0.000       0.163       0.186\n",
      "bool_global            0.2616      0.004     60.741      0.000       0.253       0.270\n",
      "bool_ideology          0.0423      0.008      5.560      0.000       0.027       0.057\n",
      "bool_intervention      0.3218      0.005     69.214      0.000       0.313       0.331\n",
      "bool_politics          0.3190      0.005     60.148      0.000       0.309       0.329\n",
      "bool_trump             0.2156      0.006     36.715      0.000       0.204       0.227\n",
      "bool_weather           0.0687      0.005     13.943      0.000       0.059       0.078\n",
      "alpha                  5.7585      0.007    838.560      0.000       5.745       5.772\n",
      "======================================================================================\n"
     ]
    }
   ],
   "source": [
    "nb_model = NegativeBinomialP(\n",
    "    endog=translated_df['retweets'],\n",
    "    exog=add_constant(translated_df[numeric_predictors]),\n",
    ").fit_regularized()\n",
    "print(nb_model.summary())"
   ]
  },
  {
   "cell_type": "code",
   "execution_count": 33,
   "metadata": {},
   "outputs": [
    {
     "name": "stdout",
     "output_type": "stream",
     "text": [
      "log_user_followers:\n",
      "multiplier: 2.0153, E(diff): 0.72\n",
      "\n",
      "bool_user_verified:\n",
      "false avg: 0.84, true avg: 16.73, multiplier: 1.2750, E(diff): 0.23\n",
      "\n",
      "log_user_friends:\n",
      "multiplier: 0.8190, E(diff): -0.79\n",
      "\n",
      "log_user_freq:\n",
      "multiplier: 0.5296, E(diff): -1.15\n",
      "\n",
      "log_user_favorites:\n",
      "multiplier: 1.2120, E(diff): -0.29\n",
      "\n",
      "bool_hashtags:\n",
      "false avg: 1.81, true avg: 1.84, multiplier: 1.2654, E(diff): 0.48\n",
      "\n",
      "bool_mentions:\n",
      "false avg: 2.24, true avg: 1.13, multiplier: 0.6179, E(diff): -0.86\n",
      "\n",
      "bool_urls:\n",
      "false avg: 1.83, true avg: 1.82, multiplier: 0.8005, E(diff): -0.36\n",
      "\n",
      "bool_media:\n",
      "false avg: 1.36, true avg: 4.36, multiplier: 1.9823, E(diff): 1.33\n",
      "\n",
      "bool_sensitive:\n",
      "false avg: 1.83, true avg: 0.81, multiplier: 0.7752, E(diff): -0.41\n",
      "\n",
      "log_text_len:\n",
      "multiplier: 2.4238, E(diff): 1.24\n",
      "\n",
      "sentiment:\n",
      "multiplier: 0.7370, E(diff): -0.48\n",
      "\n",
      "bool_aggressive:\n",
      "false avg: 1.55, true avg: 2.36, multiplier: 1.3172, E(diff): 0.49\n",
      "\n",
      "bool_denier:\n",
      "false avg: 1.94, true avg: 0.70, multiplier: 0.6408, E(diff): -0.70\n",
      "\n",
      "bool_awareness:\n",
      "false avg: 1.79, true avg: 3.33, multiplier: 2.4309, E(diff): 2.55\n",
      "\n",
      "bool_consumption:\n",
      "false avg: 1.81, true avg: 2.30, multiplier: 1.4397, E(diff): 0.80\n",
      "\n",
      "bool_emissions:\n",
      "false avg: 1.84, true avg: 1.52, multiplier: 1.1909, E(diff): 0.35\n",
      "\n",
      "bool_global:\n",
      "false avg: 1.74, true avg: 2.06, multiplier: 1.2990, E(diff): 0.52\n",
      "\n",
      "bool_ideology:\n",
      "false avg: 1.84, true avg: 1.30, multiplier: 1.0432, E(diff): 0.08\n",
      "\n",
      "bool_intervention:\n",
      "false avg: 1.72, true avg: 2.43, multiplier: 1.3796, E(diff): 0.65\n",
      "\n",
      "bool_politics:\n",
      "false avg: 1.74, true avg: 2.71, multiplier: 1.3758, E(diff): 0.65\n",
      "\n",
      "bool_trump:\n",
      "false avg: 1.83, true avg: 1.68, multiplier: 1.2406, E(diff): 0.44\n",
      "\n",
      "bool_weather:\n",
      "false avg: 2.02, true avg: 0.95, multiplier: 1.0711, E(diff): 0.14\n",
      "\n"
     ]
    }
   ],
   "source": [
    "def interpret_results(bool_predictors, model):\n",
    "\n",
    "    mean_retweets = translated_df['retweets'].mean()\n",
    "\n",
    "    for var in bool_predictors:\n",
    "        print(f\"{var}:\")\n",
    "        multiplier = np.exp(model.params[var])\n",
    "        if 'bool' in var:\n",
    "            false_avg = translated_df[translated_df[var] == 0]['retweets'].mean()\n",
    "            true_avg = translated_df[translated_df[var] == 1]['retweets'].mean()\n",
    "            print(f\"false avg: {false_avg:.2f}, true avg: {true_avg:.2f}, multiplier: {multiplier:.4f}, E(diff): {(false_avg * (multiplier - 1)):.2f}\", end=\"\\n\\n\")\n",
    "        elif 'log' in var:\n",
    "            mod_multiplier = multiplier * (np.log(2) - np.log(1))\n",
    "            print(f\"multiplier: {multiplier:.4f}, E(diff): {mean_retweets * (mod_multiplier - 1):.2f}\", end=\"\\n\\n\")\n",
    "        else:\n",
    "            print(f\"multiplier: {multiplier:.4f}, E(diff): {(mean_retweets * (multiplier - 1)):.2f}\", end=\"\\n\\n\")\n",
    "\n",
    "interpret_results(numeric_predictors, model)"
   ]
  },
  {
   "attachments": {},
   "cell_type": "markdown",
   "metadata": {},
   "source": [
    "## Validation"
   ]
  },
  {
   "attachments": {},
   "cell_type": "markdown",
   "metadata": {},
   "source": [
    "### Check for retweet distribtuion"
   ]
  },
  {
   "cell_type": "code",
   "execution_count": 7,
   "metadata": {},
   "outputs": [
    {
     "data": {
      "text/plain": [
       "<AxesSubplot: >"
      ]
     },
     "execution_count": 7,
     "metadata": {},
     "output_type": "execute_result"
    },
    {
     "data": {
      "image/png": "[encoded data removed]",
      "text/plain": [
       "<Figure size 640x480 with 1 Axes>"
      ]
     },
     "metadata": {},
     "output_type": "display_data"
    }
   ],
   "source": [
    "translated_df['retweets'].hist(bins=100)"
   ]
  },
  {
   "cell_type": "code",
   "execution_count": 8,
   "metadata": {},
   "outputs": [
    {
     "data": {
      "text/plain": [
       "<AxesSubplot: >"
      ]
     },
     "execution_count": 8,
     "metadata": {},
     "output_type": "execute_result"
    },
    {
     "data": {
      "image/png": "[encoded data removed]",
      "text/plain": [
       "<Figure size 640x480 with 1 Axes>"
      ]
     },
     "metadata": {},
     "output_type": "display_data"
    }
   ],
   "source": [
    "translated_df['log_retweets'].hist(bins=100)"
   ]
  },
  {
   "attachments": {},
   "cell_type": "markdown",
   "metadata": {},
   "source": [
    "### Check for predictor normality"
   ]
  },
  {
   "cell_type": "code",
   "execution_count": 16,
   "metadata": {},
   "outputs": [
    {
     "name": "stdout",
     "output_type": "stream",
     "text": [
      "A tweet needs 1196.7203999981284 retweets to be in the 99th percentile\n",
      "A tweet needs 30.0 likes to be in the 99th percentile\n"
     ]
    }
   ],
   "source": [
    "viral_retweets = translated_df['retweets'].quantile(.9999)\n",
    "viral_favorites = translated_df['favorites'].quantile(.99)\n",
    "print(f\"A tweet needs {viral_retweets} retweets to be in the 99th percentile\")\n",
    "print(f\"A tweet needs {viral_favorites} likes to be in the 99th percentile\")"
   ]
  },
  {
   "cell_type": "code",
   "execution_count": 24,
   "metadata": {},
   "outputs": [
    {
     "data": {
      "text/plain": [
       "6972.098628873593"
      ]
     },
     "execution_count": 24,
     "metadata": {},
     "output_type": "execute_result"
    }
   ],
   "source": [
    "translated_df['retweets'].sort_values().tail(1000).mean() * np.exp(1) - translated_df['retweets'].sort_values().tail(1000).mean()"
   ]
  },
  {
   "cell_type": "code",
   "execution_count": 45,
   "metadata": {},
   "outputs": [
    {
     "data": {
      "image/png": "[encoded data removed]",
      "text/plain": [
       "<Figure size 640x480 with 9 Axes>"
      ]
     },
     "metadata": {},
     "output_type": "display_data"
    }
   ],
   "source": [
    "pd.plotting.scatter_matrix(translated_df[user_predictors], alpha=.01)\n",
    "plt.show()"
   ]
  },
  {
   "cell_type": "code",
   "execution_count": 43,
   "metadata": {},
   "outputs": [
    {
     "data": {
      "image/png": "[encoded data removed]",
      "text/plain": [
       "<Figure size 640x480 with 25 Axes>"
      ]
     },
     "metadata": {},
     "output_type": "display_data"
    }
   ],
   "source": [
    "pd.plotting.scatter_matrix(translated_df[structural_predictors], alpha=.01)\n",
    "plt.show()"
   ]
  },
  {
   "cell_type": "code",
   "execution_count": 17,
   "metadata": {},
   "outputs": [
    {
     "data": {
      "image/png": "[encoded data removed]",
      "text/plain": [
       "<Figure size 640x480 with 4 Axes>"
      ]
     },
     "metadata": {},
     "output_type": "display_data"
    }
   ],
   "source": [
    "pd.plotting.scatter_matrix(translated_df[content_predictors], alpha=.01)\n",
    "plt.show()"
   ]
  },
  {
   "attachments": {},
   "cell_type": "markdown",
   "metadata": {},
   "source": [
    "### Check for multicollinearity"
   ]
  },
  {
   "cell_type": "code",
   "execution_count": 44,
   "metadata": {},
   "outputs": [
    {
     "data": {
      "text/html": [
       "<style type=\"text/css\">\n",
       "#T_99145_row0_col0, #T_99145_row1_col1, #T_99145_row2_col2, #T_99145_row3_col3, #T_99145_row4_col4, #T_99145_row5_col5, #T_99145_row6_col6, #T_99145_row7_col7, #T_99145_row8_col8, #T_99145_row9_col9, #T_99145_row10_col10, #T_99145_row11_col11, #T_99145_row12_col12 {\n",
       "  background-color: #fde725;\n",
       "  color: #000000;\n",
       "}\n",
       "#T_99145_row0_col1 {\n",
       "  background-color: #29798e;\n",
       "  color: #f1f1f1;\n",
       "}\n",
       "#T_99145_row0_col2 {\n",
       "  background-color: #25848e;\n",
       "  color: #f1f1f1;\n",
       "}\n",
       "#T_99145_row0_col3, #T_99145_row4_col10 {\n",
       "  background-color: #3b518b;\n",
       "  color: #f1f1f1;\n",
       "}\n",
       "#T_99145_row0_col4, #T_99145_row1_col9, #T_99145_row3_col4, #T_99145_row8_col11 {\n",
       "  background-color: #472e7c;\n",
       "  color: #f1f1f1;\n",
       "}\n",
       "#T_99145_row0_col5, #T_99145_row11_col4 {\n",
       "  background-color: #31688e;\n",
       "  color: #f1f1f1;\n",
       "}\n",
       "#T_99145_row0_col6, #T_99145_row3_col8 {\n",
       "  background-color: #306a8e;\n",
       "  color: #f1f1f1;\n",
       "}\n",
       "#T_99145_row0_col7, #T_99145_row3_col7, #T_99145_row3_col12, #T_99145_row5_col12, #T_99145_row7_col12, #T_99145_row8_col12, #T_99145_row9_col12 {\n",
       "  background-color: #440256;\n",
       "  color: #f1f1f1;\n",
       "}\n",
       "#T_99145_row0_col8 {\n",
       "  background-color: #3e4a89;\n",
       "  color: #f1f1f1;\n",
       "}\n",
       "#T_99145_row0_col9, #T_99145_row0_col10, #T_99145_row3_col9, #T_99145_row9_col4, #T_99145_row9_col5 {\n",
       "  background-color: #482475;\n",
       "  color: #f1f1f1;\n",
       "}\n",
       "#T_99145_row0_col11 {\n",
       "  background-color: #404688;\n",
       "  color: #f1f1f1;\n",
       "}\n",
       "#T_99145_row0_col12, #T_99145_row7_col2, #T_99145_row9_col2 {\n",
       "  background-color: #470d60;\n",
       "  color: #f1f1f1;\n",
       "}\n",
       "#T_99145_row1_col0 {\n",
       "  background-color: #2d708e;\n",
       "  color: #f1f1f1;\n",
       "}\n",
       "#T_99145_row1_col2, #T_99145_row4_col2, #T_99145_row4_col3, #T_99145_row11_col1 {\n",
       "  background-color: #471063;\n",
       "  color: #f1f1f1;\n",
       "}\n",
       "#T_99145_row1_col3, #T_99145_row4_col0, #T_99145_row10_col6 {\n",
       "  background-color: #460a5d;\n",
       "  color: #f1f1f1;\n",
       "}\n",
       "#T_99145_row1_col4 {\n",
       "  background-color: #471365;\n",
       "  color: #f1f1f1;\n",
       "}\n",
       "#T_99145_row1_col5, #T_99145_row11_col10 {\n",
       "  background-color: #433d84;\n",
       "  color: #f1f1f1;\n",
       "}\n",
       "#T_99145_row1_col6, #T_99145_row4_col8, #T_99145_row10_col1, #T_99145_row11_col9 {\n",
       "  background-color: #46337f;\n",
       "  color: #f1f1f1;\n",
       "}\n",
       "#T_99145_row1_col7, #T_99145_row9_col3 {\n",
       "  background-color: #460b5e;\n",
       "  color: #f1f1f1;\n",
       "}\n",
       "#T_99145_row1_col8, #T_99145_row2_col1, #T_99145_row5_col2, #T_99145_row12_col1 {\n",
       "  background-color: #472c7a;\n",
       "  color: #f1f1f1;\n",
       "}\n",
       "#T_99145_row1_col10 {\n",
       "  background-color: #433e85;\n",
       "  color: #f1f1f1;\n",
       "}\n",
       "#T_99145_row1_col11, #T_99145_row1_col12, #T_99145_row2_col7, #T_99145_row4_col1, #T_99145_row4_col5, #T_99145_row4_col7, #T_99145_row4_col12, #T_99145_row5_col4, #T_99145_row8_col9, #T_99145_row8_col10, #T_99145_row9_col6, #T_99145_row10_col0, #T_99145_row10_col2, #T_99145_row10_col3, #T_99145_row10_col8, #T_99145_row10_col12 {\n",
       "  background-color: #440154;\n",
       "  color: #f1f1f1;\n",
       "}\n",
       "#T_99145_row2_col0 {\n",
       "  background-color: #23888e;\n",
       "  color: #f1f1f1;\n",
       "}\n",
       "#T_99145_row2_col3, #T_99145_row10_col11, #T_99145_row12_col6 {\n",
       "  background-color: #482677;\n",
       "  color: #f1f1f1;\n",
       "}\n",
       "#T_99145_row2_col4, #T_99145_row5_col11, #T_99145_row12_col4 {\n",
       "  background-color: #443983;\n",
       "  color: #f1f1f1;\n",
       "}\n",
       "#T_99145_row2_col5, #T_99145_row9_col10 {\n",
       "  background-color: #3d4d8a;\n",
       "  color: #f1f1f1;\n",
       "}\n",
       "#T_99145_row2_col6 {\n",
       "  background-color: #404588;\n",
       "  color: #f1f1f1;\n",
       "}\n",
       "#T_99145_row2_col8 {\n",
       "  background-color: #423f85;\n",
       "  color: #f1f1f1;\n",
       "}\n",
       "#T_99145_row2_col9 {\n",
       "  background-color: #472f7d;\n",
       "  color: #f1f1f1;\n",
       "}\n",
       "#T_99145_row2_col10 {\n",
       "  background-color: #472a7a;\n",
       "  color: #f1f1f1;\n",
       "}\n",
       "#T_99145_row2_col11, #T_99145_row7_col9, #T_99145_row8_col0 {\n",
       "  background-color: #46327e;\n",
       "  color: #f1f1f1;\n",
       "}\n",
       "#T_99145_row2_col12, #T_99145_row4_col6, #T_99145_row5_col10 {\n",
       "  background-color: #470e61;\n",
       "  color: #f1f1f1;\n",
       "}\n",
       "#T_99145_row3_col0, #T_99145_row5_col6, #T_99145_row11_col3 {\n",
       "  background-color: #3d4e8a;\n",
       "  color: #f1f1f1;\n",
       "}\n",
       "#T_99145_row3_col1, #T_99145_row5_col7, #T_99145_row7_col3 {\n",
       "  background-color: #481b6d;\n",
       "  color: #f1f1f1;\n",
       "}\n",
       "#T_99145_row3_col2, #T_99145_row5_col9, #T_99145_row8_col2, #T_99145_row12_col2 {\n",
       "  background-color: #481c6e;\n",
       "  color: #f1f1f1;\n",
       "}\n",
       "#T_99145_row3_col5, #T_99145_row3_col6 {\n",
       "  background-color: #2f6c8e;\n",
       "  color: #f1f1f1;\n",
       "}\n",
       "#T_99145_row3_col10, #T_99145_row7_col11 {\n",
       "  background-color: #481f70;\n",
       "  color: #f1f1f1;\n",
       "}\n",
       "#T_99145_row3_col11 {\n",
       "  background-color: #3c508b;\n",
       "  color: #f1f1f1;\n",
       "}\n",
       "#T_99145_row4_col9, #T_99145_row12_col3 {\n",
       "  background-color: #481d6f;\n",
       "  color: #f1f1f1;\n",
       "}\n",
       "#T_99145_row4_col11, #T_99145_row5_col8 {\n",
       "  background-color: #38588c;\n",
       "  color: #f1f1f1;\n",
       "}\n",
       "#T_99145_row5_col0, #T_99145_row10_col4 {\n",
       "  background-color: #3a538b;\n",
       "  color: #f1f1f1;\n",
       "}\n",
       "#T_99145_row5_col1, #T_99145_row7_col1 {\n",
       "  background-color: #46307e;\n",
       "  color: #f1f1f1;\n",
       "}\n",
       "#T_99145_row5_col3, #T_99145_row8_col3, #T_99145_row8_col5 {\n",
       "  background-color: #375a8c;\n",
       "  color: #f1f1f1;\n",
       "}\n",
       "#T_99145_row6_col0, #T_99145_row11_col6 {\n",
       "  background-color: #32648e;\n",
       "  color: #f1f1f1;\n",
       "}\n",
       "#T_99145_row6_col1, #T_99145_row12_col5 {\n",
       "  background-color: #443a83;\n",
       "  color: #f1f1f1;\n",
       "}\n",
       "#T_99145_row6_col2, #T_99145_row7_col4, #T_99145_row7_col8, #T_99145_row7_col10, #T_99145_row8_col4 {\n",
       "  background-color: #453581;\n",
       "  color: #f1f1f1;\n",
       "}\n",
       "#T_99145_row6_col3 {\n",
       "  background-color: #30698e;\n",
       "  color: #f1f1f1;\n",
       "}\n",
       "#T_99145_row6_col4, #T_99145_row9_col1 {\n",
       "  background-color: #482878;\n",
       "  color: #f1f1f1;\n",
       "}\n",
       "#T_99145_row6_col5 {\n",
       "  background-color: #355e8d;\n",
       "  color: #f1f1f1;\n",
       "}\n",
       "#T_99145_row6_col7, #T_99145_row9_col0 {\n",
       "  background-color: #46075a;\n",
       "  color: #f1f1f1;\n",
       "}\n",
       "#T_99145_row6_col8 {\n",
       "  background-color: #33638d;\n",
       "  color: #f1f1f1;\n",
       "}\n",
       "#T_99145_row6_col9 {\n",
       "  background-color: #481467;\n",
       "  color: #f1f1f1;\n",
       "}\n",
       "#T_99145_row6_col10, #T_99145_row8_col1, #T_99145_row9_col11 {\n",
       "  background-color: #482071;\n",
       "  color: #f1f1f1;\n",
       "}\n",
       "#T_99145_row6_col11 {\n",
       "  background-color: #34618d;\n",
       "  color: #f1f1f1;\n",
       "}\n",
       "#T_99145_row6_col12, #T_99145_row9_col8, #T_99145_row11_col7, #T_99145_row11_col12, #T_99145_row12_col7 {\n",
       "  background-color: #450559;\n",
       "  color: #f1f1f1;\n",
       "}\n",
       "#T_99145_row7_col0 {\n",
       "  background-color: #481769;\n",
       "  color: #f1f1f1;\n",
       "}\n",
       "#T_99145_row7_col5 {\n",
       "  background-color: #3f4889;\n",
       "  color: #f1f1f1;\n",
       "}\n",
       "#T_99145_row7_col6, #T_99145_row11_col2 {\n",
       "  background-color: #482576;\n",
       "  color: #f1f1f1;\n",
       "}\n",
       "#T_99145_row8_col6 {\n",
       "  background-color: #39568c;\n",
       "  color: #f1f1f1;\n",
       "}\n",
       "#T_99145_row8_col7, #T_99145_row9_col7, #T_99145_row10_col7 {\n",
       "  background-color: #450457;\n",
       "  color: #f1f1f1;\n",
       "}\n",
       "#T_99145_row10_col5 {\n",
       "  background-color: #471164;\n",
       "  color: #f1f1f1;\n",
       "}\n",
       "#T_99145_row10_col9 {\n",
       "  background-color: #3e4989;\n",
       "  color: #f1f1f1;\n",
       "}\n",
       "#T_99145_row11_col0 {\n",
       "  background-color: #424186;\n",
       "  color: #f1f1f1;\n",
       "}\n",
       "#T_99145_row11_col5 {\n",
       "  background-color: #3c4f8a;\n",
       "  color: #f1f1f1;\n",
       "}\n",
       "#T_99145_row11_col8 {\n",
       "  background-color: #414487;\n",
       "  color: #f1f1f1;\n",
       "}\n",
       "#T_99145_row12_col0, #T_99145_row12_col11 {\n",
       "  background-color: #482374;\n",
       "  color: #f1f1f1;\n",
       "}\n",
       "#T_99145_row12_col8, #T_99145_row12_col10 {\n",
       "  background-color: #453781;\n",
       "  color: #f1f1f1;\n",
       "}\n",
       "#T_99145_row12_col9 {\n",
       "  background-color: #463480;\n",
       "  color: #f1f1f1;\n",
       "}\n",
       "</style>\n",
       "<table id=\"T_99145\">\n",
       "  <thead>\n",
       "    <tr>\n",
       "      <th class=\"blank level0\" >&nbsp;</th>\n",
       "      <th id=\"T_99145_level0_col0\" class=\"col_heading level0 col0\" >log_user_followers</th>\n",
       "      <th id=\"T_99145_level0_col1\" class=\"col_heading level0 col1\" >log_user_freq</th>\n",
       "      <th id=\"T_99145_level0_col2\" class=\"col_heading level0 col2\" >bool_user_verified</th>\n",
       "      <th id=\"T_99145_level0_col3\" class=\"col_heading level0 col3\" >bool_hashtags</th>\n",
       "      <th id=\"T_99145_level0_col4\" class=\"col_heading level0 col4\" >bool_mentions</th>\n",
       "      <th id=\"T_99145_level0_col5\" class=\"col_heading level0 col5\" >bool_urls</th>\n",
       "      <th id=\"T_99145_level0_col6\" class=\"col_heading level0 col6\" >bool_media</th>\n",
       "      <th id=\"T_99145_level0_col7\" class=\"col_heading level0 col7\" >bool_sensitive</th>\n",
       "      <th id=\"T_99145_level0_col8\" class=\"col_heading level0 col8\" >sentiment</th>\n",
       "      <th id=\"T_99145_level0_col9\" class=\"col_heading level0 col9\" >bool_aggressive</th>\n",
       "      <th id=\"T_99145_level0_col10\" class=\"col_heading level0 col10\" >bool_denier</th>\n",
       "      <th id=\"T_99145_level0_col11\" class=\"col_heading level0 col11\" >log_text_len</th>\n",
       "      <th id=\"T_99145_level0_col12\" class=\"col_heading level0 col12\" >retweets</th>\n",
       "    </tr>\n",
       "  </thead>\n",
       "  <tbody>\n",
       "    <tr>\n",
       "      <th id=\"T_99145_level0_row0\" class=\"row_heading level0 row0\" >log_user_followers</th>\n",
       "      <td id=\"T_99145_row0_col0\" class=\"data row0 col0\" >1.000000</td>\n",
       "      <td id=\"T_99145_row0_col1\" class=\"data row0 col1\" >0.319605</td>\n",
       "      <td id=\"T_99145_row0_col2\" class=\"data row0 col2\" >0.426491</td>\n",
       "      <td id=\"T_99145_row0_col3\" class=\"data row0 col3\" >0.181751</td>\n",
       "      <td id=\"T_99145_row0_col4\" class=\"data row0 col4\" >-0.046514</td>\n",
       "      <td id=\"T_99145_row0_col5\" class=\"data row0 col5\" >0.200911</td>\n",
       "      <td id=\"T_99145_row0_col6\" class=\"data row0 col6\" >0.270182</td>\n",
       "      <td id=\"T_99145_row0_col7\" class=\"data row0 col7\" >-0.007746</td>\n",
       "      <td id=\"T_99145_row0_col8\" class=\"data row0 col8\" >0.078661</td>\n",
       "      <td id=\"T_99145_row0_col9\" class=\"data row0 col9\" >-0.053345</td>\n",
       "      <td id=\"T_99145_row0_col10\" class=\"data row0 col10\" >-0.073237</td>\n",
       "      <td id=\"T_99145_row0_col11\" class=\"data row0 col11\" >0.132978</td>\n",
       "      <td id=\"T_99145_row0_col12\" class=\"data row0 col12\" >0.030771</td>\n",
       "    </tr>\n",
       "    <tr>\n",
       "      <th id=\"T_99145_level0_row1\" class=\"row_heading level0 row1\" >log_user_freq</th>\n",
       "      <td id=\"T_99145_row1_col0\" class=\"data row1 col0\" >0.319605</td>\n",
       "      <td id=\"T_99145_row1_col1\" class=\"data row1 col1\" >1.000000</td>\n",
       "      <td id=\"T_99145_row1_col2\" class=\"data row1 col2\" >-0.004193</td>\n",
       "      <td id=\"T_99145_row1_col3\" class=\"data row1 col3\" >-0.060328</td>\n",
       "      <td id=\"T_99145_row1_col4\" class=\"data row1 col4\" >-0.144310</td>\n",
       "      <td id=\"T_99145_row1_col5\" class=\"data row1 col5\" >0.012192</td>\n",
       "      <td id=\"T_99145_row1_col6\" class=\"data row1 col6\" >0.051696</td>\n",
       "      <td id=\"T_99145_row1_col7\" class=\"data row1 col7\" >0.013310</td>\n",
       "      <td id=\"T_99145_row1_col8\" class=\"data row1 col8\" >-0.043531</td>\n",
       "      <td id=\"T_99145_row1_col9\" class=\"data row1 col9\" >-0.017841</td>\n",
       "      <td id=\"T_99145_row1_col10\" class=\"data row1 col10\" >0.024044</td>\n",
       "      <td id=\"T_99145_row1_col11\" class=\"data row1 col11\" >-0.096119</td>\n",
       "      <td id=\"T_99145_row1_col12\" class=\"data row1 col12\" >-0.002732</td>\n",
       "    </tr>\n",
       "    <tr>\n",
       "      <th id=\"T_99145_level0_row2\" class=\"row_heading level0 row2\" >bool_user_verified</th>\n",
       "      <td id=\"T_99145_row2_col0\" class=\"data row2 col0\" >0.426491</td>\n",
       "      <td id=\"T_99145_row2_col1\" class=\"data row2 col1\" >-0.004193</td>\n",
       "      <td id=\"T_99145_row2_col2\" class=\"data row2 col2\" >1.000000</td>\n",
       "      <td id=\"T_99145_row2_col3\" class=\"data row2 col3\" >0.030278</td>\n",
       "      <td id=\"T_99145_row2_col4\" class=\"data row2 col4\" >-0.004053</td>\n",
       "      <td id=\"T_99145_row2_col5\" class=\"data row2 col5\" >0.079043</td>\n",
       "      <td id=\"T_99145_row2_col6\" class=\"data row2 col6\" >0.114148</td>\n",
       "      <td id=\"T_99145_row2_col7\" class=\"data row2 col7\" >-0.013681</td>\n",
       "      <td id=\"T_99145_row2_col8\" class=\"data row2 col8\" >0.032894</td>\n",
       "      <td id=\"T_99145_row2_col9\" class=\"data row2 col9\" >-0.013932</td>\n",
       "      <td id=\"T_99145_row2_col10\" class=\"data row2 col10\" >-0.048318</td>\n",
       "      <td id=\"T_99145_row2_col11\" class=\"data row2 col11\" >0.059581</td>\n",
       "      <td id=\"T_99145_row2_col12\" class=\"data row2 col12\" >0.032185</td>\n",
       "    </tr>\n",
       "    <tr>\n",
       "      <th id=\"T_99145_level0_row3\" class=\"row_heading level0 row3\" >bool_hashtags</th>\n",
       "      <td id=\"T_99145_row3_col0\" class=\"data row3 col0\" >0.181751</td>\n",
       "      <td id=\"T_99145_row3_col1\" class=\"data row3 col1\" >-0.060328</td>\n",
       "      <td id=\"T_99145_row3_col2\" class=\"data row3 col2\" >0.030278</td>\n",
       "      <td id=\"T_99145_row3_col3\" class=\"data row3 col3\" >1.000000</td>\n",
       "      <td id=\"T_99145_row3_col4\" class=\"data row3 col4\" >-0.044404</td>\n",
       "      <td id=\"T_99145_row3_col5\" class=\"data row3 col5\" >0.217343</td>\n",
       "      <td id=\"T_99145_row3_col6\" class=\"data row3 col6\" >0.278992</td>\n",
       "      <td id=\"T_99145_row3_col7\" class=\"data row3 col7\" >-0.009061</td>\n",
       "      <td id=\"T_99145_row3_col8\" class=\"data row3 col8\" >0.217800</td>\n",
       "      <td id=\"T_99145_row3_col9\" class=\"data row3 col9\" >-0.057845</td>\n",
       "      <td id=\"T_99145_row3_col10\" class=\"data row3 col10\" >-0.087848</td>\n",
       "      <td id=\"T_99145_row3_col11\" class=\"data row3 col11\" >0.171047</td>\n",
       "      <td id=\"T_99145_row3_col12\" class=\"data row3 col12\" >0.000103</td>\n",
       "    </tr>\n",
       "    <tr>\n",
       "      <th id=\"T_99145_level0_row4\" class=\"row_heading level0 row4\" >bool_mentions</th>\n",
       "      <td id=\"T_99145_row4_col0\" class=\"data row4 col0\" >-0.046514</td>\n",
       "      <td id=\"T_99145_row4_col1\" class=\"data row4 col1\" >-0.144310</td>\n",
       "      <td id=\"T_99145_row4_col2\" class=\"data row4 col2\" >-0.004053</td>\n",
       "      <td id=\"T_99145_row4_col3\" class=\"data row4 col3\" >-0.044404</td>\n",
       "      <td id=\"T_99145_row4_col4\" class=\"data row4 col4\" >1.000000</td>\n",
       "      <td id=\"T_99145_row4_col5\" class=\"data row4 col5\" >-0.201987</td>\n",
       "      <td id=\"T_99145_row4_col6\" class=\"data row4 col6\" >-0.069094</td>\n",
       "      <td id=\"T_99145_row4_col7\" class=\"data row4 col7\" >-0.014928</td>\n",
       "      <td id=\"T_99145_row4_col8\" class=\"data row4 col8\" >-0.014311</td>\n",
       "      <td id=\"T_99145_row4_col9\" class=\"data row4 col9\" >-0.080619</td>\n",
       "      <td id=\"T_99145_row4_col10\" class=\"data row4 col10\" >0.104679</td>\n",
       "      <td id=\"T_99145_row4_col11\" class=\"data row4 col11\" >0.200947</td>\n",
       "      <td id=\"T_99145_row4_col12\" class=\"data row4 col12\" >-0.004515</td>\n",
       "    </tr>\n",
       "    <tr>\n",
       "      <th id=\"T_99145_level0_row5\" class=\"row_heading level0 row5\" >bool_urls</th>\n",
       "      <td id=\"T_99145_row5_col0\" class=\"data row5 col0\" >0.200911</td>\n",
       "      <td id=\"T_99145_row5_col1\" class=\"data row5 col1\" >0.012192</td>\n",
       "      <td id=\"T_99145_row5_col2\" class=\"data row5 col2\" >0.079043</td>\n",
       "      <td id=\"T_99145_row5_col3\" class=\"data row5 col3\" >0.217343</td>\n",
       "      <td id=\"T_99145_row5_col4\" class=\"data row5 col4\" >-0.201987</td>\n",
       "      <td id=\"T_99145_row5_col5\" class=\"data row5 col5\" >1.000000</td>\n",
       "      <td id=\"T_99145_row5_col6\" class=\"data row5 col6\" >0.151505</td>\n",
       "      <td id=\"T_99145_row5_col7\" class=\"data row5 col7\" >0.058602</td>\n",
       "      <td id=\"T_99145_row5_col8\" class=\"data row5 col8\" >0.131619</td>\n",
       "      <td id=\"T_99145_row5_col9\" class=\"data row5 col9\" >-0.082970</td>\n",
       "      <td id=\"T_99145_row5_col10\" class=\"data row5 col10\" >-0.146063</td>\n",
       "      <td id=\"T_99145_row5_col11\" class=\"data row5 col11\" >0.084903</td>\n",
       "      <td id=\"T_99145_row5_col12\" class=\"data row5 col12\" >-0.000053</td>\n",
       "    </tr>\n",
       "    <tr>\n",
       "      <th id=\"T_99145_level0_row6\" class=\"row_heading level0 row6\" >bool_media</th>\n",
       "      <td id=\"T_99145_row6_col0\" class=\"data row6 col0\" >0.270182</td>\n",
       "      <td id=\"T_99145_row6_col1\" class=\"data row6 col1\" >0.051696</td>\n",
       "      <td id=\"T_99145_row6_col2\" class=\"data row6 col2\" >0.114148</td>\n",
       "      <td id=\"T_99145_row6_col3\" class=\"data row6 col3\" >0.278992</td>\n",
       "      <td id=\"T_99145_row6_col4\" class=\"data row6 col4\" >-0.069094</td>\n",
       "      <td id=\"T_99145_row6_col5\" class=\"data row6 col5\" >0.151505</td>\n",
       "      <td id=\"T_99145_row6_col6\" class=\"data row6 col6\" >1.000000</td>\n",
       "      <td id=\"T_99145_row6_col7\" class=\"data row6 col7\" >0.001906</td>\n",
       "      <td id=\"T_99145_row6_col8\" class=\"data row6 col8\" >0.186381</td>\n",
       "      <td id=\"T_99145_row6_col9\" class=\"data row6 col9\" >-0.111796</td>\n",
       "      <td id=\"T_99145_row6_col10\" class=\"data row6 col10\" >-0.083647</td>\n",
       "      <td id=\"T_99145_row6_col11\" class=\"data row6 col11\" >0.241874</td>\n",
       "      <td id=\"T_99145_row6_col12\" class=\"data row6 col12\" >0.009145</td>\n",
       "    </tr>\n",
       "    <tr>\n",
       "      <th id=\"T_99145_level0_row7\" class=\"row_heading level0 row7\" >bool_sensitive</th>\n",
       "      <td id=\"T_99145_row7_col0\" class=\"data row7 col0\" >-0.007746</td>\n",
       "      <td id=\"T_99145_row7_col1\" class=\"data row7 col1\" >0.013310</td>\n",
       "      <td id=\"T_99145_row7_col2\" class=\"data row7 col2\" >-0.013681</td>\n",
       "      <td id=\"T_99145_row7_col3\" class=\"data row7 col3\" >-0.009061</td>\n",
       "      <td id=\"T_99145_row7_col4\" class=\"data row7 col4\" >-0.014928</td>\n",
       "      <td id=\"T_99145_row7_col5\" class=\"data row7 col5\" >0.058602</td>\n",
       "      <td id=\"T_99145_row7_col6\" class=\"data row7 col6\" >0.001906</td>\n",
       "      <td id=\"T_99145_row7_col7\" class=\"data row7 col7\" >1.000000</td>\n",
       "      <td id=\"T_99145_row7_col8\" class=\"data row7 col8\" >-0.004191</td>\n",
       "      <td id=\"T_99145_row7_col9\" class=\"data row7 col9\" >-0.004865</td>\n",
       "      <td id=\"T_99145_row7_col10\" class=\"data row7 col10\" >-0.005371</td>\n",
       "      <td id=\"T_99145_row7_col11\" class=\"data row7 col11\" >-0.002914</td>\n",
       "      <td id=\"T_99145_row7_col12\" class=\"data row7 col12\" >-0.000575</td>\n",
       "    </tr>\n",
       "    <tr>\n",
       "      <th id=\"T_99145_level0_row8\" class=\"row_heading level0 row8\" >sentiment</th>\n",
       "      <td id=\"T_99145_row8_col0\" class=\"data row8 col0\" >0.078661</td>\n",
       "      <td id=\"T_99145_row8_col1\" class=\"data row8 col1\" >-0.043531</td>\n",
       "      <td id=\"T_99145_row8_col2\" class=\"data row8 col2\" >0.032894</td>\n",
       "      <td id=\"T_99145_row8_col3\" class=\"data row8 col3\" >0.217800</td>\n",
       "      <td id=\"T_99145_row8_col4\" class=\"data row8 col4\" >-0.014311</td>\n",
       "      <td id=\"T_99145_row8_col5\" class=\"data row8 col5\" >0.131619</td>\n",
       "      <td id=\"T_99145_row8_col6\" class=\"data row8 col6\" >0.186381</td>\n",
       "      <td id=\"T_99145_row8_col7\" class=\"data row8 col7\" >-0.004191</td>\n",
       "      <td id=\"T_99145_row8_col8\" class=\"data row8 col8\" >1.000000</td>\n",
       "      <td id=\"T_99145_row8_col9\" class=\"data row8 col9\" >-0.172333</td>\n",
       "      <td id=\"T_99145_row8_col10\" class=\"data row8 col10\" >-0.190096</td>\n",
       "      <td id=\"T_99145_row8_col11\" class=\"data row8 col11\" >0.047854</td>\n",
       "      <td id=\"T_99145_row8_col12\" class=\"data row8 col12\" >-0.000298</td>\n",
       "    </tr>\n",
       "    <tr>\n",
       "      <th id=\"T_99145_level0_row9\" class=\"row_heading level0 row9\" >bool_aggressive</th>\n",
       "      <td id=\"T_99145_row9_col0\" class=\"data row9 col0\" >-0.053345</td>\n",
       "      <td id=\"T_99145_row9_col1\" class=\"data row9 col1\" >-0.017841</td>\n",
       "      <td id=\"T_99145_row9_col2\" class=\"data row9 col2\" >-0.013932</td>\n",
       "      <td id=\"T_99145_row9_col3\" class=\"data row9 col3\" >-0.057845</td>\n",
       "      <td id=\"T_99145_row9_col4\" class=\"data row9 col4\" >-0.080619</td>\n",
       "      <td id=\"T_99145_row9_col5\" class=\"data row9 col5\" >-0.082970</td>\n",
       "      <td id=\"T_99145_row9_col6\" class=\"data row9 col6\" >-0.111796</td>\n",
       "      <td id=\"T_99145_row9_col7\" class=\"data row9 col7\" >-0.004865</td>\n",
       "      <td id=\"T_99145_row9_col8\" class=\"data row9 col8\" >-0.172333</td>\n",
       "      <td id=\"T_99145_row9_col9\" class=\"data row9 col9\" >1.000000</td>\n",
       "      <td id=\"T_99145_row9_col10\" class=\"data row9 col10\" >0.088582</td>\n",
       "      <td id=\"T_99145_row9_col11\" class=\"data row9 col11\" >-0.001690</td>\n",
       "      <td id=\"T_99145_row9_col12\" class=\"data row9 col12\" >0.003209</td>\n",
       "    </tr>\n",
       "    <tr>\n",
       "      <th id=\"T_99145_level0_row10\" class=\"row_heading level0 row10\" >bool_denier</th>\n",
       "      <td id=\"T_99145_row10_col0\" class=\"data row10 col0\" >-0.073237</td>\n",
       "      <td id=\"T_99145_row10_col1\" class=\"data row10 col1\" >0.024044</td>\n",
       "      <td id=\"T_99145_row10_col2\" class=\"data row10 col2\" >-0.048318</td>\n",
       "      <td id=\"T_99145_row10_col3\" class=\"data row10 col3\" >-0.087848</td>\n",
       "      <td id=\"T_99145_row10_col4\" class=\"data row10 col4\" >0.104679</td>\n",
       "      <td id=\"T_99145_row10_col5\" class=\"data row10 col5\" >-0.146063</td>\n",
       "      <td id=\"T_99145_row10_col6\" class=\"data row10 col6\" >-0.083647</td>\n",
       "      <td id=\"T_99145_row10_col7\" class=\"data row10 col7\" >-0.005371</td>\n",
       "      <td id=\"T_99145_row10_col8\" class=\"data row10 col8\" >-0.190096</td>\n",
       "      <td id=\"T_99145_row10_col9\" class=\"data row10 col9\" >0.088582</td>\n",
       "      <td id=\"T_99145_row10_col10\" class=\"data row10 col10\" >1.000000</td>\n",
       "      <td id=\"T_99145_row10_col11\" class=\"data row10 col11\" >0.022880</td>\n",
       "      <td id=\"T_99145_row10_col12\" class=\"data row10 col12\" >-0.003011</td>\n",
       "    </tr>\n",
       "    <tr>\n",
       "      <th id=\"T_99145_level0_row11\" class=\"row_heading level0 row11\" >log_text_len</th>\n",
       "      <td id=\"T_99145_row11_col0\" class=\"data row11 col0\" >0.132978</td>\n",
       "      <td id=\"T_99145_row11_col1\" class=\"data row11 col1\" >-0.096119</td>\n",
       "      <td id=\"T_99145_row11_col2\" class=\"data row11 col2\" >0.059581</td>\n",
       "      <td id=\"T_99145_row11_col3\" class=\"data row11 col3\" >0.171047</td>\n",
       "      <td id=\"T_99145_row11_col4\" class=\"data row11 col4\" >0.200947</td>\n",
       "      <td id=\"T_99145_row11_col5\" class=\"data row11 col5\" >0.084903</td>\n",
       "      <td id=\"T_99145_row11_col6\" class=\"data row11 col6\" >0.241874</td>\n",
       "      <td id=\"T_99145_row11_col7\" class=\"data row11 col7\" >-0.002914</td>\n",
       "      <td id=\"T_99145_row11_col8\" class=\"data row11 col8\" >0.047854</td>\n",
       "      <td id=\"T_99145_row11_col9\" class=\"data row11 col9\" >-0.001690</td>\n",
       "      <td id=\"T_99145_row11_col10\" class=\"data row11 col10\" >0.022880</td>\n",
       "      <td id=\"T_99145_row11_col11\" class=\"data row11 col11\" >1.000000</td>\n",
       "      <td id=\"T_99145_row11_col12\" class=\"data row11 col12\" >0.008430</td>\n",
       "    </tr>\n",
       "    <tr>\n",
       "      <th id=\"T_99145_level0_row12\" class=\"row_heading level0 row12\" >retweets</th>\n",
       "      <td id=\"T_99145_row12_col0\" class=\"data row12 col0\" >0.030771</td>\n",
       "      <td id=\"T_99145_row12_col1\" class=\"data row12 col1\" >-0.002732</td>\n",
       "      <td id=\"T_99145_row12_col2\" class=\"data row12 col2\" >0.032185</td>\n",
       "      <td id=\"T_99145_row12_col3\" class=\"data row12 col3\" >0.000103</td>\n",
       "      <td id=\"T_99145_row12_col4\" class=\"data row12 col4\" >-0.004515</td>\n",
       "      <td id=\"T_99145_row12_col5\" class=\"data row12 col5\" >-0.000053</td>\n",
       "      <td id=\"T_99145_row12_col6\" class=\"data row12 col6\" >0.009145</td>\n",
       "      <td id=\"T_99145_row12_col7\" class=\"data row12 col7\" >-0.000575</td>\n",
       "      <td id=\"T_99145_row12_col8\" class=\"data row12 col8\" >-0.000298</td>\n",
       "      <td id=\"T_99145_row12_col9\" class=\"data row12 col9\" >0.003209</td>\n",
       "      <td id=\"T_99145_row12_col10\" class=\"data row12 col10\" >-0.003011</td>\n",
       "      <td id=\"T_99145_row12_col11\" class=\"data row12 col11\" >0.008430</td>\n",
       "      <td id=\"T_99145_row12_col12\" class=\"data row12 col12\" >1.000000</td>\n",
       "    </tr>\n",
       "  </tbody>\n",
       "</table>\n"
      ],
      "text/plain": [
       "<pandas.io.formats.style.Styler at 0x9dbf7b430>"
      ]
     },
     "execution_count": 44,
     "metadata": {},
     "output_type": "execute_result"
    }
   ],
   "source": [
    "translated_df[numeric_predictors + ['retweets']].corr().style.background_gradient(cmap='viridis')"
   ]
  },
  {
   "attachments": {},
   "cell_type": "markdown",
   "metadata": {},
   "source": [
    "### Check for scaling"
   ]
  },
  {
   "cell_type": "code",
   "execution_count": 116,
   "metadata": {},
   "outputs": [
    {
     "data": {
      "text/html": [
       "<div>\n",
       "<style scoped>\n",
       "    .dataframe tbody tr th:only-of-type {\n",
       "        vertical-align: middle;\n",
       "    }\n",
       "\n",
       "    .dataframe tbody tr th {\n",
       "        vertical-align: top;\n",
       "    }\n",
       "\n",
       "    .dataframe thead th {\n",
       "        text-align: right;\n",
       "    }\n",
       "</style>\n",
       "<table border=\"1\" class=\"dataframe\">\n",
       "  <thead>\n",
       "    <tr style=\"text-align: right;\">\n",
       "      <th></th>\n",
       "      <th>user_followers</th>\n",
       "      <th>user_freq</th>\n",
       "      <th>user_verified</th>\n",
       "      <th>hashtags</th>\n",
       "      <th>mentions</th>\n",
       "      <th>urls</th>\n",
       "      <th>media</th>\n",
       "      <th>sensitive</th>\n",
       "      <th>sentiment</th>\n",
       "      <th>aggressive</th>\n",
       "      <th>denier</th>\n",
       "      <th>text_len</th>\n",
       "      <th>retweets</th>\n",
       "      <th>favorites</th>\n",
       "    </tr>\n",
       "  </thead>\n",
       "  <tbody>\n",
       "    <tr>\n",
       "      <th>count</th>\n",
       "      <td>7.641399e+06</td>\n",
       "      <td>7.641399e+06</td>\n",
       "      <td>7.641399e+06</td>\n",
       "      <td>7.641399e+06</td>\n",
       "      <td>7.641399e+06</td>\n",
       "      <td>7.641399e+06</td>\n",
       "      <td>7.641399e+06</td>\n",
       "      <td>7.641399e+06</td>\n",
       "      <td>7.641399e+06</td>\n",
       "      <td>7.641399e+06</td>\n",
       "      <td>7.641399e+06</td>\n",
       "      <td>7.641399e+06</td>\n",
       "      <td>7.641399e+06</td>\n",
       "      <td>7.641399e+06</td>\n",
       "    </tr>\n",
       "    <tr>\n",
       "      <th>mean</th>\n",
       "      <td>6.998314e+00</td>\n",
       "      <td>3.196882e+00</td>\n",
       "      <td>6.178031e-02</td>\n",
       "      <td>3.972072e-01</td>\n",
       "      <td>3.751724e-01</td>\n",
       "      <td>4.858261e-01</td>\n",
       "      <td>1.547357e-01</td>\n",
       "      <td>4.580837e-03</td>\n",
       "      <td>2.945579e-02</td>\n",
       "      <td>3.311149e-01</td>\n",
       "      <td>9.192440e-02</td>\n",
       "      <td>4.847850e+00</td>\n",
       "      <td>1.822278e+00</td>\n",
       "      <td>3.880582e+00</td>\n",
       "    </tr>\n",
       "    <tr>\n",
       "      <th>std</th>\n",
       "      <td>2.345853e+00</td>\n",
       "      <td>1.827748e+00</td>\n",
       "      <td>2.407561e-01</td>\n",
       "      <td>4.893196e-01</td>\n",
       "      <td>4.841674e-01</td>\n",
       "      <td>4.997991e-01</td>\n",
       "      <td>3.616525e-01</td>\n",
       "      <td>6.752668e-02</td>\n",
       "      <td>4.388744e-01</td>\n",
       "      <td>4.706143e-01</td>\n",
       "      <td>2.889192e-01</td>\n",
       "      <td>4.342152e-01</td>\n",
       "      <td>1.188313e+02</td>\n",
       "      <td>3.687232e+02</td>\n",
       "    </tr>\n",
       "    <tr>\n",
       "      <th>min</th>\n",
       "      <td>0.000000e+00</td>\n",
       "      <td>0.000000e+00</td>\n",
       "      <td>0.000000e+00</td>\n",
       "      <td>0.000000e+00</td>\n",
       "      <td>0.000000e+00</td>\n",
       "      <td>0.000000e+00</td>\n",
       "      <td>0.000000e+00</td>\n",
       "      <td>0.000000e+00</td>\n",
       "      <td>-9.942049e-01</td>\n",
       "      <td>0.000000e+00</td>\n",
       "      <td>0.000000e+00</td>\n",
       "      <td>6.931472e-01</td>\n",
       "      <td>0.000000e+00</td>\n",
       "      <td>0.000000e+00</td>\n",
       "    </tr>\n",
       "    <tr>\n",
       "      <th>25%</th>\n",
       "      <td>5.564520e+00</td>\n",
       "      <td>1.776011e+00</td>\n",
       "      <td>0.000000e+00</td>\n",
       "      <td>0.000000e+00</td>\n",
       "      <td>0.000000e+00</td>\n",
       "      <td>0.000000e+00</td>\n",
       "      <td>0.000000e+00</td>\n",
       "      <td>0.000000e+00</td>\n",
       "      <td>-3.786715e-01</td>\n",
       "      <td>0.000000e+00</td>\n",
       "      <td>0.000000e+00</td>\n",
       "      <td>4.615121e+00</td>\n",
       "      <td>0.000000e+00</td>\n",
       "      <td>0.000000e+00</td>\n",
       "    </tr>\n",
       "    <tr>\n",
       "      <th>50%</th>\n",
       "      <td>6.927558e+00</td>\n",
       "      <td>3.030122e+00</td>\n",
       "      <td>0.000000e+00</td>\n",
       "      <td>0.000000e+00</td>\n",
       "      <td>0.000000e+00</td>\n",
       "      <td>0.000000e+00</td>\n",
       "      <td>0.000000e+00</td>\n",
       "      <td>0.000000e+00</td>\n",
       "      <td>2.593018e-02</td>\n",
       "      <td>0.000000e+00</td>\n",
       "      <td>0.000000e+00</td>\n",
       "      <td>4.875197e+00</td>\n",
       "      <td>0.000000e+00</td>\n",
       "      <td>0.000000e+00</td>\n",
       "    </tr>\n",
       "    <tr>\n",
       "      <th>75%</th>\n",
       "      <td>8.357494e+00</td>\n",
       "      <td>4.420997e+00</td>\n",
       "      <td>0.000000e+00</td>\n",
       "      <td>1.000000e+00</td>\n",
       "      <td>1.000000e+00</td>\n",
       "      <td>1.000000e+00</td>\n",
       "      <td>0.000000e+00</td>\n",
       "      <td>0.000000e+00</td>\n",
       "      <td>4.404407e-01</td>\n",
       "      <td>1.000000e+00</td>\n",
       "      <td>0.000000e+00</td>\n",
       "      <td>4.976734e+00</td>\n",
       "      <td>0.000000e+00</td>\n",
       "      <td>1.000000e+00</td>\n",
       "    </tr>\n",
       "    <tr>\n",
       "      <th>max</th>\n",
       "      <td>1.870836e+01</td>\n",
       "      <td>1.578227e+01</td>\n",
       "      <td>1.000000e+00</td>\n",
       "      <td>1.000000e+00</td>\n",
       "      <td>1.000000e+00</td>\n",
       "      <td>1.000000e+00</td>\n",
       "      <td>1.000000e+00</td>\n",
       "      <td>1.000000e+00</td>\n",
       "      <td>9.901308e-01</td>\n",
       "      <td>1.000000e+00</td>\n",
       "      <td>1.000000e+00</td>\n",
       "      <td>6.933423e+00</td>\n",
       "      <td>1.496550e+05</td>\n",
       "      <td>3.636540e+05</td>\n",
       "    </tr>\n",
       "  </tbody>\n",
       "</table>\n",
       "</div>"
      ],
      "text/plain": [
       "       user_followers     user_freq  user_verified      hashtags  \\\n",
       "count    7.641399e+06  7.641399e+06   7.641399e+06  7.641399e+06   \n",
       "mean     6.998314e+00  3.196882e+00   6.178031e-02  3.972072e-01   \n",
       "std      2.345853e+00  1.827748e+00   2.407561e-01  4.893196e-01   \n",
       "min      0.000000e+00  0.000000e+00   0.000000e+00  0.000000e+00   \n",
       "25%      5.564520e+00  1.776011e+00   0.000000e+00  0.000000e+00   \n",
       "50%      6.927558e+00  3.030122e+00   0.000000e+00  0.000000e+00   \n",
       "75%      8.357494e+00  4.420997e+00   0.000000e+00  1.000000e+00   \n",
       "max      1.870836e+01  1.578227e+01   1.000000e+00  1.000000e+00   \n",
       "\n",
       "           mentions          urls         media     sensitive     sentiment  \\\n",
       "count  7.641399e+06  7.641399e+06  7.641399e+06  7.641399e+06  7.641399e+06   \n",
       "mean   3.751724e-01  4.858261e-01  1.547357e-01  4.580837e-03  2.945579e-02   \n",
       "std    4.841674e-01  4.997991e-01  3.616525e-01  6.752668e-02  4.388744e-01   \n",
       "min    0.000000e+00  0.000000e+00  0.000000e+00  0.000000e+00 -9.942049e-01   \n",
       "25%    0.000000e+00  0.000000e+00  0.000000e+00  0.000000e+00 -3.786715e-01   \n",
       "50%    0.000000e+00  0.000000e+00  0.000000e+00  0.000000e+00  2.593018e-02   \n",
       "75%    1.000000e+00  1.000000e+00  0.000000e+00  0.000000e+00  4.404407e-01   \n",
       "max    1.000000e+00  1.000000e+00  1.000000e+00  1.000000e+00  9.901308e-01   \n",
       "\n",
       "         aggressive        denier      text_len      retweets     favorites  \n",
       "count  7.641399e+06  7.641399e+06  7.641399e+06  7.641399e+06  7.641399e+06  \n",
       "mean   3.311149e-01  9.192440e-02  4.847850e+00  1.822278e+00  3.880582e+00  \n",
       "std    4.706143e-01  2.889192e-01  4.342152e-01  1.188313e+02  3.687232e+02  \n",
       "min    0.000000e+00  0.000000e+00  6.931472e-01  0.000000e+00  0.000000e+00  \n",
       "25%    0.000000e+00  0.000000e+00  4.615121e+00  0.000000e+00  0.000000e+00  \n",
       "50%    0.000000e+00  0.000000e+00  4.875197e+00  0.000000e+00  0.000000e+00  \n",
       "75%    1.000000e+00  0.000000e+00  4.976734e+00  0.000000e+00  1.000000e+00  \n",
       "max    1.000000e+00  1.000000e+00  6.933423e+00  1.496550e+05  3.636540e+05  "
      ]
     },
     "metadata": {},
     "output_type": "display_data"
    }
   ],
   "source": [
    "with pd.option_context('display.max_columns', None):\n",
    "    display(translated_df[numeric_predictors + ['retweets', 'favorites']].describe())"
   ]
  },
  {
   "attachments": {},
   "cell_type": "markdown",
   "metadata": {},
   "source": [
    "### Check for Heteroscedasticity"
   ]
  },
  {
   "cell_type": "code",
   "execution_count": 40,
   "metadata": {},
   "outputs": [
    {
     "data": {
      "image/png": "[encoded data removed]",
      "text/plain": [
       "<Figure size 640x480 with 1 Axes>"
      ]
     },
     "metadata": {},
     "output_type": "display_data"
    }
   ],
   "source": [
    "preds = model.predict(translated_df[numeric_predictors])\n",
    "sm.qqplot(preds, line='45')\n",
    "plt.show()"
   ]
  },
  {
   "cell_type": "code",
   "execution_count": 37,
   "metadata": {},
   "outputs": [
    {
     "name": "stderr",
     "output_type": "stream",
     "text": [
      "/Users/matthewbone/Documents/Coding/VSCode/twitterChambers/twitEnv/lib/python3.10/site-packages/pandas/core/arraylike.py:402: RuntimeWarning: divide by zero encountered in log\n",
      "  result = getattr(ufunc, method)(*inputs, **kwargs)\n"
     ]
    },
    {
     "data": {
      "text/plain": [
       "Text(0, 0.5, 'true value')"
      ]
     },
     "execution_count": 37,
     "metadata": {},
     "output_type": "execute_result"
    },
    {
     "data": {
      "image/png": "[encoded data removed]",
      "text/plain": [
       "<Figure size 640x480 with 1 Axes>"
      ]
     },
     "metadata": {},
     "output_type": "display_data"
    }
   ],
   "source": [
    "plt.scatter(preds, np.log(translated_df['retweets']))\n",
    "plt.xlabel('predictions')\n",
    "plt.ylabel('true value')"
   ]
  },
  {
   "cell_type": "code",
   "execution_count": 57,
   "metadata": {},
   "outputs": [
    {
     "data": {
      "text/plain": [
       "12572505.375581509"
      ]
     },
     "metadata": {},
     "output_type": "display_data"
    },
    {
     "data": {
      "text/plain": [
       "66924295.14265388"
      ]
     },
     "metadata": {},
     "output_type": "display_data"
    },
    {
     "data": {
      "text/plain": [
       "94687749.214773"
      ]
     },
     "metadata": {},
     "output_type": "display_data"
    }
   ],
   "source": [
    "display(nb_model.aic)\n",
    "display(pois_model.aic)\n",
    "display(ols_model.aic)"
   ]
  },
  {
   "cell_type": "code",
   "execution_count": null,
   "metadata": {},
   "outputs": [],
   "source": []
  }
 ],
 "metadata": {
  "kernelspec": {
   "display_name": "twitEnv",
   "language": "python",
   "name": "python3"
  },
  "language_info": {
   "codemirror_mode": {
    "name": "ipython",
    "version": 3
   },
   "file_extension": ".py",
   "mimetype": "text/x-python",
   "name": "python",
   "nbconvert_exporter": "python",
   "pygments_lexer": "ipython3",
   "version": "3.10.8 (main, Oct 21 2022, 22:22:30) [Clang 14.0.0 (clang-1400.0.29.202)]"
  },
  "orig_nbformat": 4,
  "vscode": {
   "interpreter": {
    "hash": "51f4cb22758bf4d813282807242dc96b75b9f6927d275eddf1f9cf22690ed4aa"
   }
  }
 },
 "nbformat": 4,
 "nbformat_minor": 2
}
