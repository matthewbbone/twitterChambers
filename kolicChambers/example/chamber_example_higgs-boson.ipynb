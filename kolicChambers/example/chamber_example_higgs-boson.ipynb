{
 "cells": [
  {
   "cell_type": "code",
   "execution_count": 5,
   "id": "b8c647fd-c97f-458d-8649-d93483353316",
   "metadata": {},
   "outputs": [],
   "source": [
    "import networkx as nx\n",
    "import numpy as np\n",
    "import pandas as pd\n",
    "import sys\n",
    "from time import time\n",
    "import os\n",
    "\n",
    "# LOCAL LIBRARIES\n",
    "sys.path.append('../src')\n",
    "import chambers_and_audiences as ca\n",
    "import communities as cm\n",
    "import similarity_metrics as sm\n",
    "import polarization as pol\n",
    "import echo_chambers as ec\n",
    "import matplotlib\n",
    "import json"
   ]
  },
  {
   "cell_type": "code",
   "execution_count": 6,
   "id": "2a98f5a9-b255-411b-937a-ab792d56e8eb",
   "metadata": {},
   "outputs": [],
   "source": [
    "import matplotlib.pyplot as plt \n",
    "%matplotlib inline"
   ]
  },
  {
   "cell_type": "markdown",
   "id": "784249a2-af0b-401b-ad60-0be293dedb8c",
   "metadata": {},
   "source": [
    "# Reading data \n",
    "\n",
    "We take a retweet network from the amazing [Netzschleuder](https://networks.skewed.de/) cataloge. The retweet network consists of the conversation related to the announcement of the discovery of a new fundamental particle with the features of the Higgs boson on 4th July 2012. Data covers 1-7 July 2012 so we only have one week. The data was used in [this paper](https://doi.org/10.1038/srep02980)."
   ]
  },
  {
   "cell_type": "code",
   "execution_count": 7,
   "id": "1c1ac182-f794-4d08-9f83-83828bf042b3",
   "metadata": {},
   "outputs": [],
   "source": [
    "dir = '../data/climateData/'\n",
    "edgelists = []\n",
    "for file in os.scandir(dir):\n",
    "    edgelists.append(pd.read_csv(dir + file.name))"
   ]
  },
  {
   "cell_type": "markdown",
   "id": "67b1c999-7aec-456a-86a0-b4e238048a42",
   "metadata": {},
   "source": [
    "# Applying our methodology"
   ]
  },
  {
   "cell_type": "markdown",
   "id": "de6ac92c-66af-4141-84f0-7f80f00ef788",
   "metadata": {},
   "source": [
    "## High-impact and leading users"
   ]
  },
  {
   "cell_type": "code",
   "execution_count": 8,
   "id": "fcb0103f-c065-44e1-87c6-a598c466c8ad",
   "metadata": {},
   "outputs": [
    {
     "name": "stderr",
     "output_type": "stream",
     "text": [
      "/Users/matthewbone/Documents/Coding/VSCode/msc-sds-data/twitterChambers/example/../src/chambers_and_audiences.py:58: FutureWarning: The default value of numeric_only in DataFrameGroupBy.sum is deprecated. In a future version, numeric_only will default to False. Either specify numeric_only or select only columns which should be valid for the function.\n",
      "  return edgelist.groupby( target ).sum().sort_values( weight )\n",
      "/Users/matthewbone/Documents/Coding/VSCode/msc-sds-data/twitterChambers/example/../src/chambers_and_audiences.py:58: FutureWarning: The default value of numeric_only in DataFrameGroupBy.sum is deprecated. In a future version, numeric_only will default to False. Either specify numeric_only or select only columns which should be valid for the function.\n",
      "  return edgelist.groupby( target ).sum().sort_values( weight )\n",
      "/Users/matthewbone/Documents/Coding/VSCode/msc-sds-data/twitterChambers/example/../src/chambers_and_audiences.py:58: FutureWarning: The default value of numeric_only in DataFrameGroupBy.sum is deprecated. In a future version, numeric_only will default to False. Either specify numeric_only or select only columns which should be valid for the function.\n",
      "  return edgelist.groupby( target ).sum().sort_values( weight )\n",
      "/Users/matthewbone/Documents/Coding/VSCode/msc-sds-data/twitterChambers/example/../src/chambers_and_audiences.py:58: FutureWarning: The default value of numeric_only in DataFrameGroupBy.sum is deprecated. In a future version, numeric_only will default to False. Either specify numeric_only or select only columns which should be valid for the function.\n",
      "  return edgelist.groupby( target ).sum().sort_values( weight )\n",
      "/Users/matthewbone/Documents/Coding/VSCode/msc-sds-data/twitterChambers/example/../src/chambers_and_audiences.py:58: FutureWarning: The default value of numeric_only in DataFrameGroupBy.sum is deprecated. In a future version, numeric_only will default to False. Either specify numeric_only or select only columns which should be valid for the function.\n",
      "  return edgelist.groupby( target ).sum().sort_values( weight )\n",
      "/Users/matthewbone/Documents/Coding/VSCode/msc-sds-data/twitterChambers/example/../src/chambers_and_audiences.py:58: FutureWarning: The default value of numeric_only in DataFrameGroupBy.sum is deprecated. In a future version, numeric_only will default to False. Either specify numeric_only or select only columns which should be valid for the function.\n",
      "  return edgelist.groupby( target ).sum().sort_values( weight )\n",
      "/Users/matthewbone/Documents/Coding/VSCode/msc-sds-data/twitterChambers/example/../src/chambers_and_audiences.py:58: FutureWarning: The default value of numeric_only in DataFrameGroupBy.sum is deprecated. In a future version, numeric_only will default to False. Either specify numeric_only or select only columns which should be valid for the function.\n",
      "  return edgelist.groupby( target ).sum().sort_values( weight )\n",
      "/Users/matthewbone/Documents/Coding/VSCode/msc-sds-data/twitterChambers/example/../src/chambers_and_audiences.py:58: FutureWarning: The default value of numeric_only in DataFrameGroupBy.sum is deprecated. In a future version, numeric_only will default to False. Either specify numeric_only or select only columns which should be valid for the function.\n",
      "  return edgelist.groupby( target ).sum().sort_values( weight )\n",
      "/Users/matthewbone/Documents/Coding/VSCode/msc-sds-data/twitterChambers/example/../src/chambers_and_audiences.py:58: FutureWarning: The default value of numeric_only in DataFrameGroupBy.sum is deprecated. In a future version, numeric_only will default to False. Either specify numeric_only or select only columns which should be valid for the function.\n",
      "  return edgelist.groupby( target ).sum().sort_values( weight )\n",
      "/Users/matthewbone/Documents/Coding/VSCode/msc-sds-data/twitterChambers/example/../src/chambers_and_audiences.py:58: FutureWarning: The default value of numeric_only in DataFrameGroupBy.sum is deprecated. In a future version, numeric_only will default to False. Either specify numeric_only or select only columns which should be valid for the function.\n",
      "  return edgelist.groupby( target ).sum().sort_values( weight )\n",
      "/Users/matthewbone/Documents/Coding/VSCode/msc-sds-data/twitterChambers/example/../src/chambers_and_audiences.py:58: FutureWarning: The default value of numeric_only in DataFrameGroupBy.sum is deprecated. In a future version, numeric_only will default to False. Either specify numeric_only or select only columns which should be valid for the function.\n",
      "  return edgelist.groupby( target ).sum().sort_values( weight )\n",
      "/Users/matthewbone/Documents/Coding/VSCode/msc-sds-data/twitterChambers/example/../src/chambers_and_audiences.py:58: FutureWarning: The default value of numeric_only in DataFrameGroupBy.sum is deprecated. In a future version, numeric_only will default to False. Either specify numeric_only or select only columns which should be valid for the function.\n",
      "  return edgelist.groupby( target ).sum().sort_values( weight )\n",
      "/Users/matthewbone/Documents/Coding/VSCode/msc-sds-data/twitterChambers/example/../src/chambers_and_audiences.py:58: FutureWarning: The default value of numeric_only in DataFrameGroupBy.sum is deprecated. In a future version, numeric_only will default to False. Either specify numeric_only or select only columns which should be valid for the function.\n",
      "  return edgelist.groupby( target ).sum().sort_values( weight )\n",
      "/Users/matthewbone/Documents/Coding/VSCode/msc-sds-data/twitterChambers/example/../src/chambers_and_audiences.py:58: FutureWarning: The default value of numeric_only in DataFrameGroupBy.sum is deprecated. In a future version, numeric_only will default to False. Either specify numeric_only or select only columns which should be valid for the function.\n",
      "  return edgelist.groupby( target ).sum().sort_values( weight )\n",
      "/Users/matthewbone/Documents/Coding/VSCode/msc-sds-data/twitterChambers/example/../src/chambers_and_audiences.py:58: FutureWarning: The default value of numeric_only in DataFrameGroupBy.sum is deprecated. In a future version, numeric_only will default to False. Either specify numeric_only or select only columns which should be valid for the function.\n",
      "  return edgelist.groupby( target ).sum().sort_values( weight )\n",
      "/Users/matthewbone/Documents/Coding/VSCode/msc-sds-data/twitterChambers/example/../src/chambers_and_audiences.py:58: FutureWarning: The default value of numeric_only in DataFrameGroupBy.sum is deprecated. In a future version, numeric_only will default to False. Either specify numeric_only or select only columns which should be valid for the function.\n",
      "  return edgelist.groupby( target ).sum().sort_values( weight )\n",
      "/Users/matthewbone/Documents/Coding/VSCode/msc-sds-data/twitterChambers/example/../src/chambers_and_audiences.py:58: FutureWarning: The default value of numeric_only in DataFrameGroupBy.sum is deprecated. In a future version, numeric_only will default to False. Either specify numeric_only or select only columns which should be valid for the function.\n",
      "  return edgelist.groupby( target ).sum().sort_values( weight )\n",
      "/Users/matthewbone/Documents/Coding/VSCode/msc-sds-data/twitterChambers/example/../src/chambers_and_audiences.py:58: FutureWarning: The default value of numeric_only in DataFrameGroupBy.sum is deprecated. In a future version, numeric_only will default to False. Either specify numeric_only or select only columns which should be valid for the function.\n",
      "  return edgelist.groupby( target ).sum().sort_values( weight )\n",
      "/Users/matthewbone/Documents/Coding/VSCode/msc-sds-data/twitterChambers/example/../src/chambers_and_audiences.py:58: FutureWarning: The default value of numeric_only in DataFrameGroupBy.sum is deprecated. In a future version, numeric_only will default to False. Either specify numeric_only or select only columns which should be valid for the function.\n",
      "  return edgelist.groupby( target ).sum().sort_values( weight )\n",
      "/Users/matthewbone/Documents/Coding/VSCode/msc-sds-data/twitterChambers/example/../src/chambers_and_audiences.py:58: FutureWarning: The default value of numeric_only in DataFrameGroupBy.sum is deprecated. In a future version, numeric_only will default to False. Either specify numeric_only or select only columns which should be valid for the function.\n",
      "  return edgelist.groupby( target ).sum().sort_values( weight )\n",
      "/Users/matthewbone/Documents/Coding/VSCode/msc-sds-data/twitterChambers/example/../src/chambers_and_audiences.py:58: FutureWarning: The default value of numeric_only in DataFrameGroupBy.sum is deprecated. In a future version, numeric_only will default to False. Either specify numeric_only or select only columns which should be valid for the function.\n",
      "  return edgelist.groupby( target ).sum().sort_values( weight )\n",
      "/Users/matthewbone/Documents/Coding/VSCode/msc-sds-data/twitterChambers/example/../src/chambers_and_audiences.py:58: FutureWarning: The default value of numeric_only in DataFrameGroupBy.sum is deprecated. In a future version, numeric_only will default to False. Either specify numeric_only or select only columns which should be valid for the function.\n",
      "  return edgelist.groupby( target ).sum().sort_values( weight )\n",
      "/Users/matthewbone/Documents/Coding/VSCode/msc-sds-data/twitterChambers/example/../src/chambers_and_audiences.py:58: FutureWarning: The default value of numeric_only in DataFrameGroupBy.sum is deprecated. In a future version, numeric_only will default to False. Either specify numeric_only or select only columns which should be valid for the function.\n",
      "  return edgelist.groupby( target ).sum().sort_values( weight )\n",
      "/Users/matthewbone/Documents/Coding/VSCode/msc-sds-data/twitterChambers/example/../src/chambers_and_audiences.py:58: FutureWarning: The default value of numeric_only in DataFrameGroupBy.sum is deprecated. In a future version, numeric_only will default to False. Either specify numeric_only or select only columns which should be valid for the function.\n",
      "  return edgelist.groupby( target ).sum().sort_values( weight )\n",
      "/Users/matthewbone/Documents/Coding/VSCode/msc-sds-data/twitterChambers/example/../src/chambers_and_audiences.py:58: FutureWarning: The default value of numeric_only in DataFrameGroupBy.sum is deprecated. In a future version, numeric_only will default to False. Either specify numeric_only or select only columns which should be valid for the function.\n",
      "  return edgelist.groupby( target ).sum().sort_values( weight )\n",
      "/Users/matthewbone/Documents/Coding/VSCode/msc-sds-data/twitterChambers/example/../src/chambers_and_audiences.py:58: FutureWarning: The default value of numeric_only in DataFrameGroupBy.sum is deprecated. In a future version, numeric_only will default to False. Either specify numeric_only or select only columns which should be valid for the function.\n",
      "  return edgelist.groupby( target ).sum().sort_values( weight )\n",
      "/Users/matthewbone/Documents/Coding/VSCode/msc-sds-data/twitterChambers/example/../src/chambers_and_audiences.py:58: FutureWarning: The default value of numeric_only in DataFrameGroupBy.sum is deprecated. In a future version, numeric_only will default to False. Either specify numeric_only or select only columns which should be valid for the function.\n",
      "  return edgelist.groupby( target ).sum().sort_values( weight )\n",
      "/Users/matthewbone/Documents/Coding/VSCode/msc-sds-data/twitterChambers/example/../src/chambers_and_audiences.py:58: FutureWarning: The default value of numeric_only in DataFrameGroupBy.sum is deprecated. In a future version, numeric_only will default to False. Either specify numeric_only or select only columns which should be valid for the function.\n",
      "  return edgelist.groupby( target ).sum().sort_values( weight )\n",
      "/Users/matthewbone/Documents/Coding/VSCode/msc-sds-data/twitterChambers/example/../src/chambers_and_audiences.py:58: FutureWarning: The default value of numeric_only in DataFrameGroupBy.sum is deprecated. In a future version, numeric_only will default to False. Either specify numeric_only or select only columns which should be valid for the function.\n",
      "  return edgelist.groupby( target ).sum().sort_values( weight )\n",
      "/Users/matthewbone/Documents/Coding/VSCode/msc-sds-data/twitterChambers/example/../src/chambers_and_audiences.py:58: FutureWarning: The default value of numeric_only in DataFrameGroupBy.sum is deprecated. In a future version, numeric_only will default to False. Either specify numeric_only or select only columns which should be valid for the function.\n",
      "  return edgelist.groupby( target ).sum().sort_values( weight )\n",
      "/Users/matthewbone/Documents/Coding/VSCode/msc-sds-data/twitterChambers/example/../src/chambers_and_audiences.py:58: FutureWarning: The default value of numeric_only in DataFrameGroupBy.sum is deprecated. In a future version, numeric_only will default to False. Either specify numeric_only or select only columns which should be valid for the function.\n",
      "  return edgelist.groupby( target ).sum().sort_values( weight )\n",
      "/Users/matthewbone/Documents/Coding/VSCode/msc-sds-data/twitterChambers/example/../src/chambers_and_audiences.py:58: FutureWarning: The default value of numeric_only in DataFrameGroupBy.sum is deprecated. In a future version, numeric_only will default to False. Either specify numeric_only or select only columns which should be valid for the function.\n",
      "  return edgelist.groupby( target ).sum().sort_values( weight )\n",
      "/Users/matthewbone/Documents/Coding/VSCode/msc-sds-data/twitterChambers/example/../src/chambers_and_audiences.py:58: FutureWarning: The default value of numeric_only in DataFrameGroupBy.sum is deprecated. In a future version, numeric_only will default to False. Either specify numeric_only or select only columns which should be valid for the function.\n",
      "  return edgelist.groupby( target ).sum().sort_values( weight )\n",
      "/Users/matthewbone/Documents/Coding/VSCode/msc-sds-data/twitterChambers/example/../src/chambers_and_audiences.py:58: FutureWarning: The default value of numeric_only in DataFrameGroupBy.sum is deprecated. In a future version, numeric_only will default to False. Either specify numeric_only or select only columns which should be valid for the function.\n",
      "  return edgelist.groupby( target ).sum().sort_values( weight )\n"
     ]
    },
    {
     "name": "stdout",
     "output_type": "stream",
     "text": [
      "CPU times: user 196 ms, sys: 15.2 ms, total: 211 ms\n",
      "Wall time: 211 ms\n"
     ]
    }
   ],
   "source": [
    "%%time\n",
    "## GET PERSISTENT USERS ## \n",
    "\n",
    "N = 50 # number of popular users per week\n",
    "M = 50 # number of persistent users\n",
    "\n",
    "# impact, leading users I^Δ(t), users' frequencies\n",
    "w_IΔ, IΔ, users_persistence = ca.temporal_leading_impacts(edgelists, N, M)\n",
    "_, I_highimpact = ca.temporal_highimpact_impacts(edgelists, N)\n",
    "\n",
    "users_highimpact_persistence = ca.get_users_persistence( I_highimpact )\n",
    "leading_users = ca.get_users_from_users_persistence_dict(users_persistence)\n",
    "\n",
    "leading_voices_dynamics = pd.DataFrame( columns=leading_users )\n",
    "\n",
    "for (t, w_t) in enumerate( w_IΔ ):    \n",
    "    leading_voices_dynamics.loc[ t ] = w_t['weight']"
   ]
  },
  {
   "cell_type": "markdown",
   "id": "f774856c-ecd1-4cbc-b653-01c16e7e2e1a",
   "metadata": {},
   "source": [
    "## Chambers and audiences"
   ]
  },
  {
   "cell_type": "code",
   "execution_count": 9,
   "id": "fa7fb095-a9c7-40b5-baa7-7b2b499f8ab5",
   "metadata": {},
   "outputs": [
    {
     "name": "stdout",
     "output_type": "stream",
     "text": [
      "CPU times: user 5.58 s, sys: 63.7 ms, total: 5.64 s\n",
      "Wall time: 5.65 s\n"
     ]
    }
   ],
   "source": [
    "%%time \n",
    "### CHAMBERS AND AUDIENCES ### \n",
    "\n",
    "chambers_dynamic = ca.temporal_chambers( IΔ, edgelists, users_excluded=I_highimpact, return_networks=False )\n",
    "audiences_dynamic = ca.temporal_audiences( IΔ, edgelists, return_networks=False )\n",
    "\n",
    "## AGGREGATE CHAMBERS: Chambers of each user aggregated over all weeks\n",
    "chambers_aggregate = dict()\n",
    "for user in leading_users:\n",
    "    \n",
    "    chambers_aggregate[user] = set()\n",
    "    for (t, chamber_t) in enumerate(chambers_dynamic):\n",
    "        try:\n",
    "            chambers_aggregate[user] = chambers_aggregate[user].union( chamber_t[user] )\n",
    "        except:\n",
    "            pass\n",
    "\n",
    "## AGGREGATE AUDIENCES: Audiences of each user aggregated over all weeks\n",
    "audiences_aggregate = dict()\n",
    "for user in leading_users:\n",
    "    audiences_aggregate[user] = set()\n",
    "    for (t, el) in enumerate(edgelists):\n",
    "        try:\n",
    "            audience_t = ca.get_audience(user, el)\n",
    "            audiences_aggregate[user] = audiences_aggregate[user].union( audience_t )\n",
    "        except:\n",
    "            pass"
   ]
  },
  {
   "cell_type": "code",
   "execution_count": 28,
   "id": "3ebda7c6",
   "metadata": {},
   "outputs": [
    {
     "data": {
      "text/plain": [
       "11"
      ]
     },
     "execution_count": 28,
     "metadata": {},
     "output_type": "execute_result"
    }
   ],
   "source": [
    "len(audiences_dynamic[3])"
   ]
  },
  {
   "cell_type": "markdown",
   "id": "8bfd0940-dd72-4f68-b0b0-a513e9ee2b05",
   "metadata": {},
   "source": [
    "## Chamber overlaps"
   ]
  },
  {
   "cell_type": "code",
   "execution_count": 10,
   "id": "36db5dd7-dcf6-43d5-9922-b25882e431fe",
   "metadata": {},
   "outputs": [
    {
     "name": "stdout",
     "output_type": "stream",
     "text": [
      "CPU times: user 82.6 ms, sys: 2.13 ms, total: 84.7 ms\n",
      "Wall time: 83.9 ms\n"
     ]
    }
   ],
   "source": [
    "%%time\n",
    "### CHAMBER OVERLAPS ###   \n",
    "\n",
    "## Weekly overlap matrices\n",
    "Q_dynamic = sm.temporal_similarity_matrices(chambers_dynamic)\n",
    "Q_edgelists_dynamic = [ sm.edgelist_from_adjacency ( Q ) for Q in Q_dynamic ]\n",
    "\n",
    "## Aggregate overlap matrics\n",
    "Q_static = sm.aggregate_similarity_matrices( Q_dynamic )"
   ]
  },
  {
   "cell_type": "markdown",
   "id": "72a7689e-6538-4131-bc2f-fbbdf6c30852",
   "metadata": {},
   "source": [
    "## Unsupervised spectral clustering"
   ]
  },
  {
   "cell_type": "code",
   "execution_count": 11,
   "id": "51effcab-06e1-40e1-b578-4c69f11fd597",
   "metadata": {},
   "outputs": [
    {
     "name": "stdout",
     "output_type": "stream",
     "text": [
      "CPU times: user 1.82 ms, sys: 1.37 ms, total: 3.18 ms\n",
      "Wall time: 3 ms\n"
     ]
    }
   ],
   "source": [
    "%%time\n",
    "### COMMUNITIES/IDEOLOGIES (UNSUPERVISED) ### \n",
    "P_spectral, (l,u) = cm.communities_spectral( Q_static.replace(np.nan,0), mode=2, cutoff=0, return_spectra=True)"
   ]
  },
  {
   "cell_type": "markdown",
   "id": "3895d1ae-04f7-4c92-8cef-41857ef7131d",
   "metadata": {},
   "source": [
    "## Polarization"
   ]
  },
  {
   "cell_type": "code",
   "execution_count": 12,
   "id": "1b0e7219-b950-42ed-8255-f6d0d5a1b33c",
   "metadata": {},
   "outputs": [
    {
     "name": "stdout",
     "output_type": "stream",
     "text": [
      "CPU times: user 14 ms, sys: 1.08 ms, total: 15.1 ms\n",
      "Wall time: 14.5 ms\n"
     ]
    },
    {
     "name": "stderr",
     "output_type": "stream",
     "text": [
      "/Users/matthewbone/Documents/Coding/VSCode/msc-sds-data/twitterChambers/example/../src/polarization.py:42: RuntimeWarning: invalid value encountered in double_scalars\n",
      "  return (in_strength - out_strength)/(in_strength + out_strength)\n"
     ]
    },
    {
     "data": {
      "text/plain": [
       "[nan,\n",
       " nan,\n",
       " nan,\n",
       " nan,\n",
       " nan,\n",
       " nan,\n",
       " nan,\n",
       " nan,\n",
       " nan,\n",
       " nan,\n",
       " nan,\n",
       " nan,\n",
       " nan,\n",
       " nan,\n",
       " nan,\n",
       " nan,\n",
       " nan]"
      ]
     },
     "execution_count": 12,
     "metadata": {},
     "output_type": "execute_result"
    }
   ],
   "source": [
    "%%time\n",
    "### POLARIZATION DYNAMICS ### \n",
    "polarization_dynamic_spectral = [ pol.network_polarization( E, P_spectral, polarisation_func=pol.polarisation6  ) for E in Q_edgelists_dynamic ]\n",
    "polarization_dynamic_spectral"
   ]
  },
  {
   "cell_type": "markdown",
   "id": "e9310106-d5b9-46bb-9406-f16e0fc41d97",
   "metadata": {},
   "source": [
    "## Echo chambers"
   ]
  },
  {
   "cell_type": "code",
   "execution_count": 13,
   "id": "f7ac2093-0d1a-4289-91b5-be55c07ca42c",
   "metadata": {
    "tags": []
   },
   "outputs": [
    {
     "name": "stdout",
     "output_type": "stream",
     "text": [
      "CPU times: user 2.51 s, sys: 36.3 ms, total: 2.55 s\n",
      "Wall time: 2.55 s\n"
     ]
    }
   ],
   "source": [
    "%%time\n",
    "## AUDIENCES OF HISH IMPACT USERS\n",
    "high_impact_audiences = []\n",
    "for t, high_impacts_t in enumerate( I_highimpact ):\n",
    "    high_impact_audiences.append( ca.get_audiences_of_users( high_impacts_t, edgelists[t] ) )\n",
    "    \n",
    "## NUMBER OF USERS PER EDGELIST\n",
    "num_users_weekly = np.array( [ len( set( el.source.unique() ).union( set( el.target.unique() ) ) ) for el in edgelists ] )\n",
    "num_users_weekly = pd.Series( num_users_weekly )\n",
    "\n",
    "## OBTAIN ECHO CHAMBERS \n",
    "echo_chambers = ec.echo_chambers_dynamics( audiences_dynamic, chambers_dynamic, P_spectral ) "
   ]
  },
  {
   "cell_type": "markdown",
   "id": "d0b8bf12-b250-4a91-9df1-43011fb9a871",
   "metadata": {},
   "source": [
    "## Augmented echo chambers"
   ]
  },
  {
   "cell_type": "code",
   "execution_count": 14,
   "id": "3ba12ba4-287c-4eec-bbfb-dc0da6b8b570",
   "metadata": {},
   "outputs": [
    {
     "name": "stdout",
     "output_type": "stream",
     "text": [
      "CPU times: user 172 ms, sys: 10.5 ms, total: 183 ms\n",
      "Wall time: 182 ms\n"
     ]
    }
   ],
   "source": [
    "%%time \n",
    "## COMPUTE HIGH-IMPACT SCORES\n",
    "high_impact_scores = ec.ideology_scores_dynamics( high_impact_audiences, echo_chambers, users_excluded=leading_users, score_func=ec.score_1 )\n",
    "\n",
    "## OBTAIN AUGMENTED ECHO CHAMBERS\n",
    "thresh = 0.2 # η in the paper\n",
    "augmented_echo_chambers = ec.augment_echo_chambers( high_impact_scores, high_impact_audiences, echo_chambers, thresh=thresh, users_excluded=leading_users )"
   ]
  },
  {
   "cell_type": "markdown",
   "id": "251fb781-8f2a-491e-bc33-c6276c828b25",
   "metadata": {},
   "source": [
    "# Example plots"
   ]
  },
  {
   "cell_type": "markdown",
   "id": "b4e4ded6-9bb1-4231-b8d5-2ffd2c4eb8d2",
   "metadata": {},
   "source": [
    "## Chamber overlap distribution"
   ]
  },
  {
   "cell_type": "code",
   "execution_count": 15,
   "id": "c0ad2793-e212-4324-8009-a6346211e93e",
   "metadata": {},
   "outputs": [
    {
     "data": {
      "image/png": "[encoded data removed]",
      "text/plain": [
       "<Figure size 640x480 with 1 Axes>"
      ]
     },
     "metadata": {},
     "output_type": "display_data"
    }
   ],
   "source": [
    "q_agg = sm.flatten_similarity_matrices( Q_dynamic )\n",
    "bins = np.histogram( q_agg, bins=80 )[1] #get the bin edges\n",
    "\n",
    "## chamber overlap distribution\n",
    "fig, ax1 = plt.subplots()\n",
    "ax1.hist(q_agg, bins, density=True)\n",
    "ax1.grid('on')\n",
    "\n",
    "plt.xlabel('overlap $(q)$')\n",
    "plt.ylabel('$p(q)$')\n",
    "plt.title('Chamber overlap distribution');"
   ]
  },
  {
   "cell_type": "markdown",
   "id": "79e5976c-8fb0-4757-966d-58c350e5ba25",
   "metadata": {
    "tags": []
   },
   "source": [
    "## Chamber overlap matrix and network"
   ]
  },
  {
   "cell_type": "code",
   "execution_count": 16,
   "id": "3525b714",
   "metadata": {},
   "outputs": [
    {
     "name": "stdout",
     "output_type": "stream",
     "text": [
      "/Users/matthewbone/.matplotlib\n"
     ]
    }
   ],
   "source": [
    "print(matplotlib.get_cachedir())"
   ]
  },
  {
   "cell_type": "code",
   "execution_count": 17,
   "id": "64d97362-805e-4cd2-828f-e4d27d411e2e",
   "metadata": {},
   "outputs": [
    {
     "data": {
      "image/png": "[encoded data removed]",
      "text/plain": [
       "<Figure size 1000x1000 with 2 Axes>"
      ]
     },
     "metadata": {},
     "output_type": "display_data"
    }
   ],
   "source": [
    "Q_spectral = sm.reorder_similarity_matrix(Q_static, P_spectral)\n",
    "\n",
    "plt.figure( figsize=(10,10) )\n",
    "plt.imshow(Q_spectral)\n",
    "cbar = plt.colorbar()\n",
    "cbar.set_label('Overlap ($q_{jk}$)', rotation=270, labelpad=25)\n",
    "plt.title('Aggregate chamber overlap matrix');"
   ]
  },
  {
   "cell_type": "markdown",
   "id": "8e1485de-15d7-4eef-9dc1-71968ffaf34d",
   "metadata": {},
   "source": [
    "## Ideology score distribution"
   ]
  },
  {
   "cell_type": "code",
   "execution_count": 18,
   "id": "6c6d2b22-a3cd-46ea-91c0-efdc895676ce",
   "metadata": {},
   "outputs": [
    {
     "data": {
      "image/png": "[encoded data removed]",
      "text/plain": [
       "<Figure size 640x480 with 1 Axes>"
      ]
     },
     "metadata": {},
     "output_type": "display_data"
    }
   ],
   "source": [
    "score_values = ec.flatten_array_of_dicts( high_impact_scores )\n",
    "score_values = -np.sort( score_values )\n",
    "\n",
    "s_anti = score_values[ score_values < -thresh ]\n",
    "s_pro = score_values[ score_values > -thresh ]\n",
    "s_neutral = score_values[ (score_values >= -thresh) & (score_values <= thresh) ]\n",
    "\n",
    "bins = np.histogram( score_values, bins=80 )[1] #get the bin edges\n",
    "bw = np.diff(bins)[0]\n",
    "\n",
    "# qC, fKDE = sm.get_pdf_cutoff( score_values, return_kde_dist=True, bw_method=bw )\n",
    "\n",
    "plt.hist( s_anti, bins, density=False  );\n",
    "plt.hist( s_pro, bins, density=False );\n",
    "plt.hist( s_neutral, bins, density=False, alpha=0.8, color='gray' );\n",
    "\n",
    "plt.axvline(-thresh, lw=1, ls='--', label='', color='black')\n",
    "plt.axvline(thresh, lw=1, ls='--', label='', color='black')\n",
    "\n",
    "plt.xlabel('high-impact score')\n",
    "plt.ylabel('frequency')\n",
    "plt.title('high-impact score distribution')\n",
    "plt.grid()"
   ]
  },
  {
   "cell_type": "markdown",
   "id": "ad09921c-5543-4b78-91b1-d746c7d1df94",
   "metadata": {},
   "source": [
    "## (Augmented) Echo chambers\n",
    "\n",
    "We'll let you figure out how to plot the figures related with the echo chambers and the augmented echo chambers"
   ]
  }
 ],
 "metadata": {
  "kernelspec": {
   "display_name": "Python 3.10.8 ('sdsEnv': venv)",
   "language": "python",
   "name": "python3"
  },
  "language_info": {
   "codemirror_mode": {
    "name": "ipython",
    "version": 3
   },
   "file_extension": ".py",
   "mimetype": "text/x-python",
   "name": "python",
   "nbconvert_exporter": "python",
   "pygments_lexer": "ipython3",
   "version": "3.10.8"
  },
  "vscode": {
   "interpreter": {
    "hash": "6b0930626a70646d1dff1639554c67f9fcc7acc0d90ddd263a357897b09eda94"
   }
  }
 },
 "nbformat": 4,
 "nbformat_minor": 5
}
